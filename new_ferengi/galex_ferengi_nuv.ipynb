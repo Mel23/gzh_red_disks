{
 "cells": [
  {
   "cell_type": "markdown",
   "metadata": {},
   "source": [
    "# Process for separating FERENGI into red sequence and blue cloud\n",
    "\n",
    "Based on data readily available, I'm using an NUV - r / r - J diagnostic to separate the FERENGI sample into red/passive and blue/active groups. u and r mags were available from SDSS, and NUV mags were from Galex. Finding matches for the galaxies in Galex was the most challenging step. J mags were from 2Mass. \n",
    "\n",
    "To obtain NUV mags:\n",
    "\n",
    "I first used Vizier to find matches using the query_cat.py code in this repo. Using a max radius of 4\" for matching positions (based on the Galex PSF of 4-6 arcsec), I could only find matches 41 out of the 71 FERENGI galaxies, which seemed quite low on the grounds that Schawinski et al. 2010 seemed to find Galex matches for most of GZ2. I still have not solved why this matching was so poor.\n",
    "\n",
    "Instead I went to CasJobs, which has an old table which matches Galex objids with SDSS DR7 Ids. 57 FERENGI galaxies had at least one Galex match. http://galex.stsci.edu/GR6/?page=dbinfo&type=U\n",
    "This usually found 1 Galex match to each SDSS ID, but occasionaly found 2-4 Galex matches. For galaxies with multiple matches, the NUV mags are extemely close. This code will show the difference in these values is negligible in the multiple matches, and extract one value for each. \n",
    "\n",
    "To obtain J mags:\n",
    "I used Hugh's code here https://github.com/AstroZooMin/HughDickinsonMisc/blob/master/NewSloanFerengiCandidates/SloanNewFerengi.ipynb (in reality he sent me a table, but in the future I could use his code) to match the dr7 objids to the new dr12 ids. I then used casjobs via SDSS to match these to the 2Mass data they store in the TwoMass table. 50 of the 71 FERENGI galaxies had 2Mass J mag data.\n"
   ]
  },
  {
   "cell_type": "code",
   "execution_count": 1,
   "metadata": {
    "collapsed": false
   },
   "outputs": [
    {
     "name": "stdout",
     "output_type": "stream",
     "text": [
      "Populating the interactive namespace from numpy and matplotlib\n"
     ]
    }
   ],
   "source": [
    "%pylab inline\n",
    "import matplotlib.gridspec as gridspec\n",
    "from astropy.table import Table,Column,join\n",
    "import numpy as np\n",
    "import matplotlib.pyplot as plt\n",
    "from operator import itemgetter\n",
    "import os\n",
    "import scipy.stats.distributions as dist\n",
    "\n",
    "from PIL import Image\n",
    "import urllib, cStringIO\n",
    "import random\n",
    "\n",
    "#function for getting galaxy images\n",
    "def get_image_from_url(url):\n",
    "\n",
    "    file = cStringIO.StringIO(urllib.urlopen(url).read())\n",
    "    img = Image.open(file)\n",
    "    return img\n",
    "\n",
    "\n",
    "mpl.rcParams['text.usetex']=True\n",
    "mpl.rcParams['xtick.labelsize'] = 20\n",
    "mpl.rcParams['ytick.labelsize'] = 20 \n"
   ]
  },
  {
   "cell_type": "code",
   "execution_count": 3,
   "metadata": {
    "collapsed": false
   },
   "outputs": [],
   "source": [
    "#load the data - #94 galex matches for 71 FERENGI galaxies. groups are marked in the column 'Group ID'\n",
    "data=Table.read('../data/galex_matches.fits')"
   ]
  },
  {
   "cell_type": "code",
   "execution_count": 4,
   "metadata": {
    "collapsed": false
   },
   "outputs": [],
   "source": [
    "#instead of masks - let 99 represent groups of 1\n",
    "unmasked_ids = []\n",
    "for row in data:\n",
    "    if row['GroupID'] is ma.masked:\n",
    "        unmasked_ids.append(99)\n",
    "    else:\n",
    "        unmasked_ids.append(row['GroupID'])"
   ]
  },
  {
   "cell_type": "code",
   "execution_count": 5,
   "metadata": {
    "collapsed": false
   },
   "outputs": [],
   "source": [
    "col = Column(unmasked_ids,name='GroupID_nomask')\n",
    "data.add_columns([col])"
   ]
  },
  {
   "cell_type": "code",
   "execution_count": 6,
   "metadata": {
    "collapsed": false
   },
   "outputs": [],
   "source": [
    "IDs = set(data['GroupID_nomask'])"
   ]
  },
  {
   "cell_type": "code",
   "execution_count": 7,
   "metadata": {
    "collapsed": true
   },
   "outputs": [],
   "source": [
    "sdss_gals = set(data['sdss_id'])"
   ]
  },
  {
   "cell_type": "code",
   "execution_count": 121,
   "metadata": {
    "collapsed": false
   },
   "outputs": [],
   "source": [
    "#Table with NUV and J measurements for FERENGI galaxies\n",
    "nuv_table = Table()  \n",
    "c1 = Column(list(sdss_gals),name='sdss_id',dtype=int64)\n",
    "c2 = Column(np.zeros(len(c1)),name = 'nuv_mag')\n",
    "nuv_table.add_columns([c1,c2])\n"
   ]
  },
  {
   "cell_type": "code",
   "execution_count": 122,
   "metadata": {
    "collapsed": false
   },
   "outputs": [],
   "source": [
    "N_1 = 0 #number of galaxies with one galex match\n",
    "nuv_dev = []\n",
    "for i,gal in enumerate(sdss_gals):\n",
    "    this_sdss_gal = (data['sdss_id']==gal)\n",
    "    if len(data[this_sdss_gal])==1:\n",
    "        N_1 += 1\n",
    "        nuv_table.field('nuv_mag')[i]=data[this_sdss_gal]['nuv_mag']\n",
    "    else: #galaxies with more than one galex match \n",
    "        nuvs = data[this_sdss_gal]['nuv_mag']\n",
    "        nuv_dev.append(np.std(nuvs[nuvs>0]))\n",
    "        nuv_table.field('nuv_mag')[i]=np.mean(nuvs[nuvs>0])\n"
   ]
  },
  {
   "cell_type": "code",
   "execution_count": 91,
   "metadata": {
    "collapsed": false
   },
   "outputs": [
    {
     "data": {
      "text/plain": [
       "<matplotlib.text.Text at 0x7f7102f69910>"
      ]
     },
     "execution_count": 91,
     "metadata": {},
     "output_type": "execute_result"
    },
    {
     "data": {
      "image/png": "[encoded data removed]",
      "text/plain": [
       "<matplotlib.figure.Figure at 0x7f710318b790>"
      ]
     },
     "metadata": {},
     "output_type": "display_data"
    }
   ],
   "source": [
    "plt.hist(nuv_dev)\n",
    "plt.xlabel('$\\sigma~NUV~mag~of~multiple~matches$',fontsize=20)"
   ]
  },
  {
   "cell_type": "markdown",
   "metadata": {},
   "source": [
    "## Above: for ferengis with multiple galex matches, the NUV mag measurements differ by less than 0.3 mags from the mean. Therefore, for these we will take the mean value. "
   ]
  },
  {
   "cell_type": "code",
   "execution_count": 116,
   "metadata": {
    "collapsed": false
   },
   "outputs": [],
   "source": [
    "#join nuv_mags to ferengi data\n",
    "fdata=Table.read('../data/ferengi_debiased.fits')"
   ]
  },
  {
   "cell_type": "code",
   "execution_count": 185,
   "metadata": {
    "collapsed": false
   },
   "outputs": [],
   "source": [
    "gf = join(fdata, nuv_table, keys='sdss_id',join_type='left')\n",
    "gf.write('../data/ferengi_debiased_colors.fits')"
   ]
  },
  {
   "cell_type": "markdown",
   "metadata": {},
   "source": [
    "## Later: J mags were obtained, added to ferengi_debiased_colors.fits"
   ]
  },
  {
   "cell_type": "code",
   "execution_count": 8,
   "metadata": {
    "collapsed": true
   },
   "outputs": [],
   "source": [
    "cdata=Table.read('../data/ferengi_debiased_nuv_J.fits')"
   ]
  },
  {
   "cell_type": "code",
   "execution_count": 23,
   "metadata": {
    "collapsed": false
   },
   "outputs": [
    {
     "name": "stderr",
     "output_type": "stream",
     "text": [
      "/usr/local/lib/python2.7/dist-packages/ipykernel/__main__.py:6: RuntimeWarning: invalid value encountered in greater\n",
      "/usr/local/lib/python2.7/dist-packages/ipykernel/__main__.py:7: RuntimeWarning: invalid value encountered in less\n"
     ]
    },
    {
     "data": {
      "text/plain": [
       "<matplotlib.text.Text at 0x7f7dd46e8350>"
      ]
     },
     "execution_count": 23,
     "metadata": {},
     "output_type": "execute_result"
    },
    {
     "data": {
      "image/png": "[encoded data removed]",
      "text/plain": [
       "<matplotlib.figure.Figure at 0x7f7dd4793050>"
      ]
     },
     "metadata": {},
     "output_type": "display_data"
    }
   ],
   "source": [
    "f=plt.figure(figsize=(7,6))\n",
    "\n",
    "x1=np.linspace(-5,.7,100)\n",
    "x2=np.linspace(.7,5,100)\n",
    "\n",
    "red_sequence = (cdata['nuv_mag']-cdata['r']>3.1)\n",
    "blue_cloud = (cdata['nuv_mag']-cdata['r']<3.1)\n",
    "plt.plot(x1,3.1+0*x1,c='k')\n",
    "plt.plot(x2,3*x2+1,c='k')\n",
    "\n",
    "plt.scatter(cdata[red_sequence]['r']-cdata[red_sequence]['j'],cdata[red_sequence]['nuv_mag']-cdata[red_sequence]['r'],color='r')\n",
    "plt.scatter(cdata[blue_cloud]['r']-cdata[blue_cloud]['j'],cdata[blue_cloud]['nuv_mag']-cdata[blue_cloud]['r'],color='b')\n",
    "\n",
    "plt.xlim(-1.5,1.5)\n",
    "plt.ylim(-2,8)\n",
    "plt.ylabel('$\\mathrm{MNUV-M(R)}$',fontsize=25)\n",
    "plt.xlabel('$\\mathrm{M(R)-M(J)}$',fontsize=25)\n",
    "f.text(.16,.8,r'$\\mathrm{red~sequence: %i~images}$'%len(cdata[red_sequence]),fontsize=25)\n",
    "f.text(.4,.17,r'$\\mathrm{blue~cloud: %i~images}$'%len(cdata[blue_cloud]),fontsize=25)\n",
    "plt.title('$\\mathrm{FERENGI}$',fontsize=25)\n"
   ]
  },
  {
   "cell_type": "code",
   "execution_count": 153,
   "metadata": {
    "collapsed": false
   },
   "outputs": [],
   "source": [
    "#m-M = distmod\n",
    "#M = m - distmod\n",
    "from astropy.cosmology import WMAP9 \n"
   ]
  },
  {
   "cell_type": "code",
   "execution_count": 182,
   "metadata": {
    "collapsed": false
   },
   "outputs": [
    {
     "data": {
      "text/plain": [
       "(0, 1)"
      ]
     },
     "execution_count": 182,
     "metadata": {},
     "output_type": "execute_result"
    },
    {
     "data": {
      "image/png": "[encoded data removed]",
      "text/plain": [
       "<matplotlib.figure.Figure at 0x7f7102275ad0>"
      ]
     },
     "metadata": {},
     "output_type": "display_data"
    }
   ],
   "source": [
    "M = np.linspace(-20,-15,10)\n",
    "plt.scatter(gf[red_sequence]['r']-WMAP9.distmod(gf[red_sequence]['redshift']).value,gf[red_sequence]['g']-gf[red_sequence]['r'],color='r')\n",
    "plt.scatter(gf[blue_cloud]['r']-WMAP9.distmod(gf[blue_cloud]['redshift']).value,gf[blue_cloud]['g']-gf[blue_cloud]['r'],color='b')\n",
    "plt.plot(M,.63-.02*(M+20),color='k')\n",
    "plt.xlabel('Mr',fontsize=20)\n",
    "plt.ylabel('g-r',fontsize=20)\n",
    "plt.gca().invert_xaxis()\n",
    "plt.xlim(-16,-20)\n",
    "plt.ylim(0,1)\n"
   ]
  },
  {
   "cell_type": "code",
   "execution_count": 177,
   "metadata": {
    "collapsed": false
   },
   "outputs": [],
   "source": [
    "red_sequence = (gf['g']-gf['r'] > .63-.02*(gf['r']-WMAP9.distmod(gf['redshift']).value+20))\n",
    "blue_cloud = (gf['g']-gf['r'] < .63-.02*(gf['r']-WMAP9.distmod(gf['redshift']).value+20))"
   ]
  },
  {
   "cell_type": "code",
   "execution_count": 183,
   "metadata": {
    "collapsed": false
   },
   "outputs": [
    {
     "data": {
      "text/plain": [
       "699"
      ]
     },
     "execution_count": 183,
     "metadata": {},
     "output_type": "execute_result"
    }
   ],
   "source": []
  },
  {
   "cell_type": "code",
   "execution_count": 184,
   "metadata": {
    "collapsed": false
   },
   "outputs": [
    {
     "data": {
      "text/plain": [
       "2750"
      ]
     },
     "execution_count": 184,
     "metadata": {},
     "output_type": "execute_result"
    }
   ],
   "source": [
    "len(gf[blue_cloud])"
   ]
  },
  {
   "cell_type": "code",
   "execution_count": null,
   "metadata": {
    "collapsed": true
   },
   "outputs": [],
   "source": []
  }
 ],
 "metadata": {
  "kernelspec": {
   "display_name": "Python 2",
   "language": "python",
   "name": "python2"
  },
  "language_info": {
   "codemirror_mode": {
    "name": "ipython",
    "version": 2
   },
   "file_extension": ".py",
   "mimetype": "text/x-python",
   "name": "python",
   "nbconvert_exporter": "python",
   "pygments_lexer": "ipython2",
   "version": "2.7.6"
  }
 },
 "nbformat": 4,
 "nbformat_minor": 0
}

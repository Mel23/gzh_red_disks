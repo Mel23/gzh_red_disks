{
 "cells": [
  {
   "cell_type": "markdown",
   "metadata": {},
   "source": [
    "# Script for obtaining SDSS bulk field image and psf fits files \n",
    "\n",
    "# 1) Images:\n",
    "## These can be downloaded from http://data.sdss3.org/bulkFields/runCamcolFields\n",
    "## by uploading your own files, or you can download directly as below,  using the form:\n",
    "http://data.sdss3.org/sas/dr12/boss/photoObj/frames/301/RUN(4)/CAMCOL(1)/frame-u-RUN(6)-CAMCOL(1)-FIELD(4).fits.bz2"
   ]
  },
  {
   "cell_type": "code",
   "execution_count": 14,
   "metadata": {
    "collapsed": true
   },
   "outputs": [],
   "source": [
    "import numpy as np\n",
    "from astropy.table import Table\n",
    "from astropy.io import fits\n",
    "import matplotlib.pyplot as plt\n",
    "import bz2\n",
    "import pdb\n",
    "import warnings\n",
    "import os.path\n",
    "%matplotlib inline\n",
    "from matplotlib.colors import LogNorm\n",
    "import matplotlib.gridspec as gridspec\n"
   ]
  },
  {
   "cell_type": "markdown",
   "metadata": {},
   "source": [
    "## Fits file containing data for the new ferengi candidates. Important columns are 'run', 'camcol', and 'field.'"
   ]
  },
  {
   "cell_type": "code",
   "execution_count": 68,
   "metadata": {
    "collapsed": false
   },
   "outputs": [],
   "source": [
    "data = Table.read('/home/mel/Documents/GZ_HUBBLE/gzh_red_disks/new_ferengi/data/ferengi_candidates_1527.fits')"
   ]
  },
  {
   "cell_type": "code",
   "execution_count": 69,
   "metadata": {
    "collapsed": false
   },
   "outputs": [],
   "source": [
    "def get_filename(run,camcol,field,bnd):\n",
    "    r = run\n",
    "    c = camcol\n",
    "    f = field\n",
    "    strname = strname = 'http://data.sdss3.org/sas/dr12/boss/photoObj/frames/301/'+'{:04d}'.format(r)+'/'+'{:1d}'.format(c)+'/frame-'+'{:1s}'.format(bnd)+'-'+'{:06d}'.format(r)+'-'+'{:1d}'.format(c)+'-'+'{:04d}'.format(f)+'.fits.bz2'+'\\n'\n",
    "    return strname"
   ]
  },
  {
   "cell_type": "markdown",
   "metadata": {},
   "source": [
    "## Create text file with each run/camcol/field combo. Some galaxies are in the same bulk image, so there are duplicate combinations of run/camcol/field. Only one of each combination are needed, so duplicates are removed. "
   ]
  },
  {
   "cell_type": "code",
   "execution_count": 106,
   "metadata": {
    "collapsed": false
   },
   "outputs": [],
   "source": [
    "text_file = open(\"sdss_ugriz_downloads.txt\",\"w\")\n",
    "n=0\n",
    "combos = []\n",
    "bands = ['u','g','r','i','z']\n",
    "for gal in data:\n",
    "    combo = '{:04d}'.format(gal['run'])+'{:1d}'.format(gal['camcol']) + '{:04d}'.format(gal['field'])\n",
    "    if combo not in combos: #new tile, save name for download\n",
    "        for band in bands: #download file for u,g,r,i, and z for each run/camcol/field combo\n",
    "            text_file.write(get_filename(gal['run'],gal['camcol'],gal['field'],band))\n",
    "            combos.append(combo) #record this combination so it's not used twice later\n",
    "            n=n+1 #number of unique files\n",
    "    else: #tile already recorded for downlaod, skip \n",
    "        pass\n",
    "\n",
    "text_file.close()\n"
   ]
  },
  {
   "cell_type": "markdown",
   "metadata": {},
   "source": [
    "## Run wget -i sdss_ugriz_downloads.txt to download all the files!"
   ]
  },
  {
   "cell_type": "markdown",
   "metadata": {
    "collapsed": true
   },
   "source": [
    "## Check - make sure all were downloaded correctly"
   ]
  },
  {
   "cell_type": "code",
   "execution_count": 104,
   "metadata": {
    "collapsed": false
   },
   "outputs": [
    {
     "name": "stdout",
     "output_type": "stream",
     "text": [
      "0 files were not downloaded\n"
     ]
    }
   ],
   "source": [
    "bands = ['u','g','r','i','z']\n",
    "missing_files = []\n",
    "files=[]\n",
    "for gal in data:\n",
    "    for bnd in bands: \n",
    "        fname = 'frame-'+'{:1s}'.format(bnd)+'-'+'{:06d}'.format(r)+'-'+'{:1d}'.format(c)+'-'+'{:04d}'.format(f)+'.fits.bz2'\n",
    "        if os.path.isfile('../ugriz_bulk_images/'+fname) == False:\n",
    "            missing_files.append(fname)\n",
    "        files.append(fname)\n",
    "    \n",
    "print '{:d} files were not downloaded'.format(len(missing_files))"
   ]
  },
  {
   "cell_type": "markdown",
   "metadata": {},
   "source": [
    "# 2) PSF Field Files\n",
    "\n",
    "## These can be downloaded with the form:\n",
    "https://data.sdss.org/sas/dr12/boss/photo/redux/301/RUN(2)/objcs/CAMCOL(1)/psField-RUN(6)-CAMCOL(1)-FIELD(4).fit"
   ]
  },
  {
   "cell_type": "code",
   "execution_count": 24,
   "metadata": {
    "collapsed": true
   },
   "outputs": [],
   "source": [
    "def get_psfname(run,camcol,field):\n",
    "    r = run\n",
    "    c = camcol\n",
    "    f = field\n",
    "    strname = strname = 'https://data.sdss.org/sas/dr12/boss/photo/redux/301/'+'{:02d}'.format(r)+'/objcs/'+'{:1d}'.format(c)+'/psField-'+'{:06d}'.format(r)+'-'+'{:1d}'.format(c)+'-'+'{:04d}'.format(f)+'.fit'+'\\n'\n",
    "    return strname"
   ]
  },
  {
   "cell_type": "code",
   "execution_count": 25,
   "metadata": {
    "collapsed": false
   },
   "outputs": [],
   "source": [
    "text_file = open(\"sdss_psf_downloads.txt\",\"w\")\n",
    "\n",
    "combos = []\n",
    "for gal in data:\n",
    "    combo = '{:04d}'.format(gal['run'])+'{:1d}'.format(gal['camcol']) + '{:04d}'.format(gal['field'])\n",
    "    if combo not in combos: #new tile, save name for download\n",
    "        text_file.write(get_psfname(gal['run'],gal['camcol'],gal['field']))\n",
    "        combos.append(combo) #record this combination so it's not used twice later\n",
    "    else: #tile already recorded for downlaod, skip \n",
    "        pass\n",
    "\n",
    "text_file.close()"
   ]
  },
  {
   "cell_type": "markdown",
   "metadata": {
    "collapsed": true
   },
   "source": [
    "## Check - make sure all were downloaded correctly"
   ]
  },
  {
   "cell_type": "code",
   "execution_count": 34,
   "metadata": {
    "collapsed": false
   },
   "outputs": [
    {
     "name": "stdout",
     "output_type": "stream",
     "text": [
      "0 files were downloaded incorrectly\n"
     ]
    }
   ],
   "source": [
    "missing_files = []\n",
    "for gal in data:\n",
    "    r = gal['run']\n",
    "    c = gal['camcol']\n",
    "    f = gal['field']\n",
    "    fname = 'psField-'+'{:06d}'.format(r)+'-'+'{:1d}'.format(c)+'-'+'{:04d}'.format(f)+'.fit'\n",
    "    if os.path.isfile('../psField_files/'+fname) == False:\n",
    "        missing_files.append(fname)\n",
    "print '{:d} files were downloaded incorrectly'.format(len(missing_files))"
   ]
  },
  {
   "cell_type": "markdown",
   "metadata": {},
   "source": [
    "# 3) TSF Field Files\n",
    "## These contain the zero-point magnitudes for each band, and are downloaded with the form:\n",
    "http://das.sdss.org/imaging/RUN(4)/40/calibChunks/CAMCOL(1)/tsField-RUN(6)-CAMCOL(1)-40-FIELD(4).fit\n"
   ]
  },
  {
   "cell_type": "code",
   "execution_count": 125,
   "metadata": {
    "collapsed": false
   },
   "outputs": [],
   "source": [
    "def get_tsfname(run,camcol,field):\n",
    "    r = run\n",
    "    c = camcol\n",
    "    f = field\n",
    "    strname = strname = 'http://das.sdss.org/imaging/'+'{:02d}'.format(r)+'/40/calibChunks/'+'{:1d}'.format(c)+'/tsField-'+'{:06d}'.format(r)+'-'+'{:1d}'.format(c)+'-'+'40-'+'{:04d}'.format(f)+'.fit'+'\\n'\n",
    "    return strname"
   ]
  },
  {
   "cell_type": "code",
   "execution_count": 127,
   "metadata": {
    "collapsed": false
   },
   "outputs": [],
   "source": [
    "text_file = open(\"sdss_tsf_downloads.txt\",\"w\")\n",
    "\n",
    "combos = []\n",
    "for gal in data:\n",
    "    combo = '{:04d}'.format(gal['run'])+'{:1d}'.format(gal['camcol']) + '{:04d}'.format(gal['field'])\n",
    "    if combo not in combos: #new tile, save name for download\n",
    "        text_file.write(get_tsfname(gal['run'],gal['camcol'],gal['field']))\n",
    "        combos.append(combo) #record this combination so it's not used twice later\n",
    "    else: #tile already recorded for downlaod, skip \n",
    "        pass\n",
    "\n",
    "text_file.close()"
   ]
  },
  {
   "cell_type": "markdown",
   "metadata": {
    "collapsed": true
   },
   "source": [
    "## Check - make sure all were downloaded correctly"
   ]
  },
  {
   "cell_type": "code",
   "execution_count": 128,
   "metadata": {
    "collapsed": false
   },
   "outputs": [
    {
     "name": "stdout",
     "output_type": "stream",
     "text": [
      "424 files were not downloaded\n"
     ]
    }
   ],
   "source": [
    "missing_files = []\n",
    "for gal in data:\n",
    "    r = gal['run']\n",
    "    c = gal['camcol']\n",
    "    f = gal['field']\n",
    "    fname = 'tsField-'+'{:06d}'.format(r)+'-'+'{:1d}'.format(c)+'-'+'40-'+'{:04d}'.format(f)+'.fit'\n",
    "    if os.path.isfile('../tsfField_files/'+fname) == False:\n",
    "        missing_files.append(fname)\n",
    "print '{:d} files were not downloaded'.format(len(missing_files))"
   ]
  },
  {
   "cell_type": "code",
   "execution_count": 130,
   "metadata": {
    "collapsed": false
   },
   "outputs": [
    {
     "data": {
      "text/plain": [
       "['tsField-001345-1-40-0252.fit',\n",
       " 'tsField-001345-4-40-0527.fit',\n",
       " 'tsField-000756-1-40-0474.fit',\n",
       " 'tsField-000756-2-40-0505.fit',\n",
       " 'tsField-001302-6-40-0374.fit',\n",
       " 'tsField-001345-3-40-0218.fit',\n",
       " 'tsField-001302-3-40-0382.fit',\n",
       " 'tsField-002126-6-40-0438.fit',\n",
       " 'tsField-001345-5-40-0479.fit',\n",
       " 'tsField-001345-3-40-0526.fit',\n",
       " 'tsField-002326-3-40-0052.fit',\n",
       " 'tsField-000756-4-40-0127.fit',\n",
       " 'tsField-002830-4-40-0151.fit',\n",
       " 'tsField-001345-1-40-0210.fit',\n",
       " 'tsField-001345-6-40-0525.fit',\n",
       " 'tsField-002126-4-40-0442.fit',\n",
       " 'tsField-000756-2-40-0122.fit',\n",
       " 'tsField-001345-1-40-0316.fit',\n",
       " 'tsField-002074-2-40-0193.fit',\n",
       " 'tsField-001345-1-40-0444.fit',\n",
       " 'tsField-001345-3-40-0513.fit',\n",
       " 'tsField-000756-5-40-0217.fit',\n",
       " 'tsField-001345-6-40-0191.fit',\n",
       " 'tsField-001345-2-40-0525.fit',\n",
       " 'tsField-001345-3-40-0391.fit',\n",
       " 'tsField-001302-1-40-0336.fit',\n",
       " 'tsField-001345-3-40-0525.fit',\n",
       " 'tsField-002074-4-40-0137.fit',\n",
       " 'tsField-002168-5-40-0147.fit',\n",
       " 'tsField-000756-6-40-0421.fit',\n",
       " 'tsField-001302-1-40-0336.fit',\n",
       " 'tsField-002074-6-40-0204.fit',\n",
       " 'tsField-003058-6-40-0024.fit',\n",
       " 'tsField-001345-1-40-0320.fit',\n",
       " 'tsField-002247-6-40-0161.fit',\n",
       " 'tsField-001302-2-40-0269.fit',\n",
       " 'tsField-002126-5-40-0437.fit',\n",
       " 'tsField-002247-3-40-0164.fit',\n",
       " 'tsField-002126-6-40-0298.fit',\n",
       " 'tsField-001302-6-40-0331.fit',\n",
       " 'tsField-002126-6-40-0394.fit',\n",
       " 'tsField-001302-1-40-0337.fit',\n",
       " 'tsField-002168-5-40-0148.fit',\n",
       " 'tsField-001345-5-40-0495.fit',\n",
       " 'tsField-001302-1-40-0337.fit',\n",
       " 'tsField-002326-1-40-0044.fit',\n",
       " 'tsField-001302-5-40-0374.fit',\n",
       " 'tsField-002247-4-40-0165.fit',\n",
       " 'tsField-002126-4-40-0439.fit',\n",
       " 'tsField-001895-1-40-0289.fit',\n",
       " 'tsField-002247-2-40-0179.fit',\n",
       " 'tsField-002247-6-40-0169.fit',\n",
       " 'tsField-000756-1-40-0474.fit',\n",
       " 'tsField-000756-2-40-0502.fit',\n",
       " 'tsField-000756-3-40-0300.fit',\n",
       " 'tsField-002247-5-40-0158.fit',\n",
       " 'tsField-002074-3-40-0135.fit',\n",
       " 'tsField-002126-6-40-0435.fit',\n",
       " 'tsField-002247-5-40-0159.fit',\n",
       " 'tsField-002326-5-40-0036.fit',\n",
       " 'tsField-002830-4-40-0256.fit',\n",
       " 'tsField-003063-2-40-0044.fit',\n",
       " 'tsField-002126-6-40-0437.fit',\n",
       " 'tsField-002326-3-40-0154.fit',\n",
       " 'tsField-002326-6-40-0147.fit',\n",
       " 'tsField-002326-3-40-0178.fit',\n",
       " 'tsField-003841-4-40-0035.fit',\n",
       " 'tsField-002336-3-40-0035.fit',\n",
       " 'tsField-003903-6-40-0060.fit',\n",
       " 'tsField-002247-5-40-0160.fit',\n",
       " 'tsField-003841-5-40-0139.fit',\n",
       " 'tsField-002247-6-40-0161.fit',\n",
       " 'tsField-001345-3-40-0208.fit',\n",
       " 'tsField-002247-3-40-0335.fit',\n",
       " 'tsField-003841-5-40-0169.fit',\n",
       " 'tsField-003805-5-40-0019.fit',\n",
       " 'tsField-003830-3-40-0162.fit',\n",
       " 'tsField-000756-1-40-0367.fit',\n",
       " 'tsField-003836-4-40-0262.fit',\n",
       " 'tsField-001345-6-40-0524.fit',\n",
       " 'tsField-002126-4-40-0438.fit',\n",
       " 'tsField-003836-5-40-0225.fit',\n",
       " 'tsField-003841-1-40-0133.fit',\n",
       " 'tsField-003805-3-40-0031.fit',\n",
       " 'tsField-002299-5-40-0252.fit',\n",
       " 'tsField-001345-5-40-0123.fit',\n",
       " 'tsField-002126-5-40-0438.fit',\n",
       " 'tsField-003804-4-40-0175.fit',\n",
       " 'tsField-003063-1-40-0050.fit',\n",
       " 'tsField-001345-4-40-0110.fit',\n",
       " 'tsField-002074-2-40-0203.fit',\n",
       " 'tsField-002126-2-40-0259.fit',\n",
       " 'tsField-007717-1-40-0119.fit',\n",
       " 'tsField-001345-4-40-0148.fit',\n",
       " 'tsField-003063-3-40-0047.fit',\n",
       " 'tsField-005390-2-40-0033.fit',\n",
       " 'tsField-002074-6-40-0091.fit',\n",
       " 'tsField-003842-2-40-0030.fit',\n",
       " 'tsField-001331-1-40-0274.fit',\n",
       " 'tsField-002326-3-40-0219.fit',\n",
       " 'tsField-005225-4-40-0115.fit',\n",
       " 'tsField-002126-5-40-0431.fit',\n",
       " 'tsField-002126-2-40-0307.fit',\n",
       " 'tsField-003063-3-40-0072.fit',\n",
       " 'tsField-002247-6-40-0193.fit',\n",
       " 'tsField-003900-1-40-0310.fit',\n",
       " 'tsField-002326-6-40-0172.fit',\n",
       " 'tsField-002247-6-40-0160.fit',\n",
       " 'tsField-003841-1-40-0160.fit',\n",
       " 'tsField-002304-5-40-0255.fit',\n",
       " 'tsField-000756-5-40-0744.fit',\n",
       " 'tsField-003918-2-40-0227.fit',\n",
       " 'tsField-002190-1-40-0031.fit',\n",
       " 'tsField-002326-6-40-0220.fit',\n",
       " 'tsField-003838-5-40-0110.fit',\n",
       " 'tsField-002247-5-40-0190.fit',\n",
       " 'tsField-003841-3-40-0141.fit',\n",
       " 'tsField-003903-2-40-0088.fit',\n",
       " 'tsField-003900-6-40-0492.fit',\n",
       " 'tsField-003058-3-40-0071.fit',\n",
       " 'tsField-002326-2-40-0145.fit',\n",
       " 'tsField-003058-2-40-0065.fit',\n",
       " 'tsField-003716-4-40-0118.fit',\n",
       " 'tsField-003903-2-40-0021.fit',\n",
       " 'tsField-003804-5-40-0174.fit',\n",
       " 'tsField-002322-6-40-0044.fit',\n",
       " 'tsField-002247-2-40-0192.fit',\n",
       " 'tsField-003059-2-40-0152.fit',\n",
       " 'tsField-002326-2-40-0139.fit',\n",
       " 'tsField-003804-2-40-0193.fit',\n",
       " 'tsField-003836-3-40-0608.fit',\n",
       " 'tsField-002304-4-40-0119.fit',\n",
       " 'tsField-003842-3-40-0035.fit',\n",
       " 'tsField-002326-4-40-0215.fit',\n",
       " 'tsField-001895-6-40-0197.fit',\n",
       " 'tsField-003836-1-40-0260.fit',\n",
       " 'tsField-003716-6-40-0155.fit',\n",
       " 'tsField-003841-2-40-0132.fit',\n",
       " 'tsField-003903-2-40-0062.fit',\n",
       " 'tsField-002126-5-40-0436.fit',\n",
       " 'tsField-002326-6-40-0063.fit',\n",
       " 'tsField-002322-6-40-0024.fit',\n",
       " 'tsField-003805-5-40-0026.fit',\n",
       " 'tsField-003063-1-40-0052.fit',\n",
       " 'tsField-003805-4-40-0052.fit',\n",
       " 'tsField-002126-5-40-0440.fit',\n",
       " 'tsField-000756-3-40-0496.fit',\n",
       " 'tsField-002304-2-40-0276.fit',\n",
       " 'tsField-003836-4-40-0133.fit',\n",
       " 'tsField-002247-6-40-0164.fit',\n",
       " 'tsField-003804-5-40-0196.fit',\n",
       " 'tsField-002830-4-40-0356.fit',\n",
       " 'tsField-003063-2-40-0054.fit',\n",
       " 'tsField-003903-6-40-0033.fit',\n",
       " 'tsField-003804-4-40-0196.fit',\n",
       " 'tsField-003841-5-40-0162.fit',\n",
       " 'tsField-003900-1-40-0303.fit',\n",
       " 'tsField-003841-3-40-0131.fit',\n",
       " 'tsField-003836-4-40-0327.fit',\n",
       " 'tsField-003804-6-40-0171.fit',\n",
       " 'tsField-003838-5-40-0076.fit',\n",
       " 'tsField-002247-6-40-0179.fit',\n",
       " 'tsField-003836-3-40-0256.fit',\n",
       " 'tsField-003059-3-40-0012.fit',\n",
       " 'tsField-003842-1-40-0023.fit',\n",
       " 'tsField-003900-6-40-0531.fit',\n",
       " 'tsField-003063-3-40-0047.fit',\n",
       " 'tsField-005225-6-40-0090.fit',\n",
       " 'tsField-003836-4-40-0252.fit',\n",
       " 'tsField-003841-6-40-0152.fit',\n",
       " 'tsField-002574-4-40-0039.fit',\n",
       " 'tsField-003804-6-40-0201.fit',\n",
       " 'tsField-002304-5-40-0252.fit',\n",
       " 'tsField-003058-1-40-0059.fit',\n",
       " 'tsField-003836-4-40-0244.fit',\n",
       " 'tsField-003841-2-40-0139.fit',\n",
       " 'tsField-003841-1-40-0132.fit',\n",
       " 'tsField-003900-5-40-0535.fit',\n",
       " 'tsField-003841-2-40-0124.fit',\n",
       " 'tsField-003841-4-40-0143.fit',\n",
       " 'tsField-003836-5-40-0228.fit',\n",
       " 'tsField-003841-3-40-0124.fit',\n",
       " 'tsField-003058-3-40-0070.fit',\n",
       " 'tsField-003900-1-40-0303.fit',\n",
       " 'tsField-003841-2-40-0145.fit',\n",
       " 'tsField-002247-5-40-0162.fit',\n",
       " 'tsField-003841-1-40-0130.fit',\n",
       " 'tsField-003900-6-40-0370.fit',\n",
       " 'tsField-002830-6-40-0202.fit',\n",
       " 'tsField-003841-2-40-0191.fit',\n",
       " 'tsField-003900-6-40-0752.fit',\n",
       " 'tsField-003805-1-40-0021.fit',\n",
       " 'tsField-002304-3-40-0263.fit',\n",
       " 'tsField-003836-6-40-0224.fit',\n",
       " 'tsField-003841-3-40-0138.fit',\n",
       " 'tsField-003900-3-40-0519.fit',\n",
       " 'tsField-002304-6-40-0251.fit',\n",
       " 'tsField-003697-1-40-0057.fit',\n",
       " 'tsField-002322-6-40-0011.fit',\n",
       " 'tsField-003805-5-40-0079.fit',\n",
       " 'tsField-003903-6-40-0049.fit',\n",
       " 'tsField-002735-5-40-0136.fit',\n",
       " 'tsField-002247-6-40-0314.fit',\n",
       " 'tsField-002830-2-40-0452.fit',\n",
       " 'tsField-003900-4-40-0495.fit',\n",
       " 'tsField-003836-3-40-0069.fit',\n",
       " 'tsField-003229-3-40-0075.fit',\n",
       " 'tsField-005080-5-40-0236.fit',\n",
       " 'tsField-003836-6-40-0222.fit',\n",
       " 'tsField-003841-3-40-0138.fit',\n",
       " 'tsField-003838-5-40-0081.fit',\n",
       " 'tsField-003918-6-40-0150.fit',\n",
       " 'tsField-003059-6-40-0104.fit',\n",
       " 'tsField-002247-4-40-0161.fit',\n",
       " 'tsField-002304-3-40-0143.fit',\n",
       " 'tsField-002247-6-40-0161.fit',\n",
       " 'tsField-003716-6-40-0020.fit',\n",
       " 'tsField-002247-2-40-0169.fit',\n",
       " 'tsField-003842-6-40-0049.fit',\n",
       " 'tsField-003836-6-40-0251.fit',\n",
       " 'tsField-003918-1-40-0187.fit',\n",
       " 'tsField-003900-3-40-0509.fit',\n",
       " 'tsField-003841-2-40-0142.fit',\n",
       " 'tsField-005390-4-40-0035.fit',\n",
       " 'tsField-003063-3-40-0051.fit',\n",
       " 'tsField-005225-5-40-0058.fit',\n",
       " 'tsField-007675-1-40-0113.fit',\n",
       " 'tsField-003836-3-40-0236.fit',\n",
       " 'tsField-003836-4-40-0253.fit',\n",
       " 'tsField-005080-3-40-0155.fit',\n",
       " 'tsField-003697-2-40-0052.fit',\n",
       " 'tsField-003836-2-40-0121.fit',\n",
       " 'tsField-003903-4-40-0040.fit',\n",
       " 'tsField-002247-5-40-0317.fit',\n",
       " 'tsField-003059-5-40-0117.fit',\n",
       " 'tsField-003903-3-40-0059.fit',\n",
       " 'tsField-003842-4-40-0025.fit',\n",
       " 'tsField-002190-4-40-0029.fit',\n",
       " 'tsField-003903-2-40-0048.fit',\n",
       " 'tsField-002304-3-40-0161.fit',\n",
       " 'tsField-002126-1-40-0292.fit',\n",
       " 'tsField-003903-2-40-0041.fit',\n",
       " 'tsField-003716-3-40-0125.fit',\n",
       " 'tsField-003836-5-40-0249.fit',\n",
       " 'tsField-003903-5-40-0043.fit',\n",
       " 'tsField-003918-6-40-0123.fit',\n",
       " 'tsField-003836-2-40-0233.fit',\n",
       " 'tsField-003836-4-40-0247.fit',\n",
       " 'tsField-003918-1-40-0230.fit',\n",
       " 'tsField-003697-5-40-0041.fit',\n",
       " 'tsField-003900-4-40-0549.fit',\n",
       " 'tsField-003063-2-40-0039.fit',\n",
       " 'tsField-003836-2-40-0264.fit',\n",
       " 'tsField-003841-6-40-0168.fit',\n",
       " 'tsField-002830-6-40-0413.fit',\n",
       " 'tsField-002168-5-40-0147.fit',\n",
       " 'tsField-003903-2-40-0040.fit',\n",
       " 'tsField-002247-2-40-0221.fit',\n",
       " 'tsField-003838-3-40-0128.fit',\n",
       " 'tsField-003697-4-40-0055.fit',\n",
       " 'tsField-003836-5-40-0580.fit',\n",
       " 'tsField-002830-5-40-0420.fit',\n",
       " 'tsField-000756-6-40-0496.fit',\n",
       " 'tsField-003918-4-40-0114.fit',\n",
       " 'tsField-003805-2-40-0070.fit',\n",
       " 'tsField-003842-2-40-0028.fit',\n",
       " 'tsField-002247-3-40-0164.fit',\n",
       " 'tsField-001895-1-40-0252.fit',\n",
       " 'tsField-003841-5-40-0187.fit',\n",
       " 'tsField-003903-2-40-0064.fit',\n",
       " 'tsField-002304-6-40-0108.fit',\n",
       " 'tsField-002304-6-40-0208.fit',\n",
       " 'tsField-002304-3-40-0160.fit',\n",
       " 'tsField-003841-3-40-0132.fit',\n",
       " 'tsField-003900-3-40-0302.fit',\n",
       " 'tsField-007717-1-40-0598.fit',\n",
       " 'tsField-003900-2-40-0505.fit',\n",
       " 'tsField-003842-2-40-0033.fit',\n",
       " 'tsField-003903-1-40-0044.fit',\n",
       " 'tsField-003841-5-40-0190.fit',\n",
       " 'tsField-002126-5-40-0442.fit',\n",
       " 'tsField-003836-3-40-0165.fit',\n",
       " 'tsField-002074-4-40-0137.fit',\n",
       " 'tsField-002304-3-40-0289.fit',\n",
       " 'tsField-002127-1-40-0090.fit',\n",
       " 'tsField-003059-3-40-0077.fit',\n",
       " 'tsField-003838-1-40-0084.fit',\n",
       " 'tsField-003842-2-40-0032.fit',\n",
       " 'tsField-003900-5-40-0493.fit',\n",
       " 'tsField-003805-4-40-0014.fit',\n",
       " 'tsField-003804-4-40-0063.fit',\n",
       " 'tsField-002247-5-40-0322.fit',\n",
       " 'tsField-003804-6-40-0170.fit',\n",
       " 'tsField-003918-2-40-0407.fit',\n",
       " 'tsField-002126-3-40-0102.fit',\n",
       " 'tsField-003804-6-40-0204.fit',\n",
       " 'tsField-003836-4-40-0166.fit',\n",
       " 'tsField-003716-5-40-0034.fit',\n",
       " 'tsField-001895-5-40-0197.fit',\n",
       " 'tsField-003841-5-40-0206.fit',\n",
       " 'tsField-005080-5-40-0276.fit',\n",
       " 'tsField-004512-2-40-0017.fit',\n",
       " 'tsField-003842-4-40-0081.fit',\n",
       " 'tsField-005225-2-40-0038.fit',\n",
       " 'tsField-002247-4-40-0174.fit',\n",
       " 'tsField-002127-1-40-0089.fit',\n",
       " 'tsField-003697-1-40-0066.fit',\n",
       " 'tsField-003841-6-40-0145.fit',\n",
       " 'tsField-005225-4-40-0155.fit',\n",
       " 'tsField-005225-2-40-0021.fit',\n",
       " 'tsField-004382-3-40-0126.fit',\n",
       " 'tsField-003841-1-40-0133.fit',\n",
       " 'tsField-003918-6-40-0118.fit',\n",
       " 'tsField-003836-6-40-0258.fit',\n",
       " 'tsField-003804-2-40-0166.fit',\n",
       " 'tsField-002304-1-40-0269.fit',\n",
       " 'tsField-003841-2-40-0130.fit',\n",
       " 'tsField-003836-6-40-0281.fit',\n",
       " 'tsField-003918-2-40-0125.fit',\n",
       " 'tsField-004503-4-40-0110.fit',\n",
       " 'tsField-003063-3-40-0053.fit',\n",
       " 'tsField-003836-4-40-0250.fit',\n",
       " 'tsField-003063-1-40-0052.fit',\n",
       " 'tsField-005225-2-40-0141.fit',\n",
       " 'tsField-003836-2-40-0236.fit',\n",
       " 'tsField-003900-2-40-0181.fit',\n",
       " 'tsField-003900-3-40-0535.fit',\n",
       " 'tsField-003063-1-40-0053.fit',\n",
       " 'tsField-003918-1-40-0087.fit',\n",
       " 'tsField-003804-3-40-0169.fit',\n",
       " 'tsField-002304-4-40-0273.fit',\n",
       " 'tsField-002304-2-40-0178.fit',\n",
       " 'tsField-003841-4-40-0130.fit',\n",
       " 'tsField-003804-2-40-0091.fit',\n",
       " 'tsField-003838-3-40-0084.fit',\n",
       " 'tsField-003804-2-40-0126.fit',\n",
       " 'tsField-003804-3-40-0195.fit',\n",
       " 'tsField-003903-1-40-0030.fit',\n",
       " 'tsField-002322-6-40-0039.fit',\n",
       " 'tsField-003697-6-40-0067.fit',\n",
       " 'tsField-002830-3-40-0347.fit',\n",
       " 'tsField-003841-2-40-0014.fit',\n",
       " 'tsField-005237-3-40-0173.fit',\n",
       " 'tsField-003804-1-40-0202.fit',\n",
       " 'tsField-003841-4-40-0146.fit',\n",
       " 'tsField-004670-4-40-0029.fit',\n",
       " 'tsField-003836-5-40-0228.fit',\n",
       " 'tsField-002247-5-40-0158.fit',\n",
       " 'tsField-003716-4-40-0117.fit',\n",
       " 'tsField-001458-2-40-0245.fit',\n",
       " 'tsField-002326-3-40-0058.fit',\n",
       " 'tsField-003900-6-40-0546.fit',\n",
       " 'tsField-003842-5-40-0084.fit',\n",
       " 'tsField-003805-5-40-0022.fit',\n",
       " 'tsField-002127-4-40-0027.fit',\n",
       " 'tsField-003697-6-40-0068.fit',\n",
       " 'tsField-001895-6-40-0286.fit',\n",
       " 'tsField-002126-4-40-0439.fit',\n",
       " 'tsField-003900-6-40-0504.fit',\n",
       " 'tsField-002326-2-40-0144.fit',\n",
       " 'tsField-003836-4-40-0244.fit',\n",
       " 'tsField-003716-6-40-0149.fit',\n",
       " 'tsField-003903-5-40-0073.fit',\n",
       " 'tsField-003903-4-40-0071.fit',\n",
       " 'tsField-003903-4-40-0046.fit',\n",
       " 'tsField-003841-5-40-0147.fit',\n",
       " 'tsField-005080-1-40-0262.fit',\n",
       " 'tsField-003059-1-40-0122.fit',\n",
       " 'tsField-003836-5-40-0134.fit',\n",
       " 'tsField-003836-5-40-0271.fit',\n",
       " 'tsField-003804-1-40-0067.fit',\n",
       " 'tsField-002190-5-40-0034.fit',\n",
       " 'tsField-003842-4-40-0042.fit',\n",
       " 'tsField-003836-4-40-0266.fit',\n",
       " 'tsField-003918-1-40-0212.fit',\n",
       " 'tsField-003836-5-40-0177.fit',\n",
       " 'tsField-002326-5-40-0029.fit',\n",
       " 'tsField-003716-6-40-0141.fit',\n",
       " 'tsField-002304-5-40-0151.fit',\n",
       " 'tsField-003804-3-40-0173.fit',\n",
       " 'tsField-003059-3-40-0035.fit',\n",
       " 'tsField-003842-5-40-0031.fit',\n",
       " 'tsField-002830-3-40-0391.fit',\n",
       " 'tsField-002304-6-40-0270.fit',\n",
       " 'tsField-005225-6-40-0142.fit',\n",
       " 'tsField-002126-3-40-0443.fit',\n",
       " 'tsField-005080-4-40-0262.fit',\n",
       " 'tsField-002247-1-40-0062.fit',\n",
       " 'tsField-003842-1-40-0027.fit',\n",
       " 'tsField-003842-5-40-0084.fit',\n",
       " 'tsField-003063-3-40-0041.fit',\n",
       " 'tsField-003804-4-40-0069.fit',\n",
       " 'tsField-003836-1-40-0177.fit',\n",
       " 'tsField-003059-5-40-0138.fit',\n",
       " 'tsField-002127-3-40-0054.fit',\n",
       " 'tsField-003918-3-40-0165.fit',\n",
       " 'tsField-003900-4-40-0506.fit',\n",
       " 'tsField-002299-3-40-0207.fit',\n",
       " 'tsField-003964-3-40-0087.fit',\n",
       " 'tsField-003842-6-40-0046.fit',\n",
       " 'tsField-003716-4-40-0116.fit',\n",
       " 'tsField-003804-3-40-0167.fit',\n",
       " 'tsField-002574-5-40-0052.fit',\n",
       " 'tsField-003058-5-40-0062.fit',\n",
       " 'tsField-003836-6-40-0303.fit',\n",
       " 'tsField-003804-1-40-0204.fit',\n",
       " 'tsField-003830-3-40-0154.fit',\n",
       " 'tsField-002126-5-40-0437.fit',\n",
       " 'tsField-003841-5-40-0193.fit',\n",
       " 'tsField-002830-2-40-0354.fit',\n",
       " 'tsField-003900-5-40-0496.fit',\n",
       " 'tsField-003804-5-40-0197.fit',\n",
       " 'tsField-005390-2-40-0033.fit',\n",
       " 'tsField-003804-6-40-0151.fit',\n",
       " 'tsField-003836-2-40-0458.fit',\n",
       " 'tsField-003804-6-40-0088.fit',\n",
       " 'tsField-003842-6-40-0049.fit',\n",
       " 'tsField-003697-1-40-0073.fit',\n",
       " 'tsField-002247-4-40-0161.fit',\n",
       " 'tsField-002830-1-40-0394.fit',\n",
       " 'tsField-007717-1-40-0297.fit',\n",
       " 'tsField-003900-3-40-0542.fit',\n",
       " 'tsField-003836-5-40-0231.fit',\n",
       " 'tsField-000756-5-40-0519.fit']"
      ]
     },
     "execution_count": 130,
     "metadata": {},
     "output_type": "execute_result"
    }
   ],
   "source": [
    "missing_files"
   ]
  },
  {
   "cell_type": "code",
   "execution_count": null,
   "metadata": {
    "collapsed": false
   },
   "outputs": [],
   "source": []
  },
  {
   "cell_type": "code",
   "execution_count": null,
   "metadata": {
    "collapsed": true
   },
   "outputs": [],
   "source": []
  }
 ],
 "metadata": {
  "kernelspec": {
   "display_name": "Python 2",
   "language": "python",
   "name": "python2"
  },
  "language_info": {
   "codemirror_mode": {
    "name": "ipython",
    "version": 2
   },
   "file_extension": ".py",
   "mimetype": "text/x-python",
   "name": "python",
   "nbconvert_exporter": "python",
   "pygments_lexer": "ipython2",
   "version": "2.7.6"
  }
 },
 "nbformat": 4,
 "nbformat_minor": 0
}

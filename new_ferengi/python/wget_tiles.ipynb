{
 "cells": [
  {
   "cell_type": "markdown",
   "metadata": {},
   "source": [
    "# Script for obtaining SDSS bulk field image and psf fits files \n",
    "\n",
    "# 1) Images:\n",
    "## These can be downloaded from http://data.sdss3.org/bulkFields/runCamcolFields\n",
    "## by uploading your own files, or you can download directly as below,  using the form:\n",
    "http://data.sdss3.org/sas/dr12/boss/photoObj/frames/301/RUN(4)/CAMCOL(1)/frame-u-RUN(6)-CAMCOL(1)-FIELD(4).fits.bz2"
   ]
  },
  {
   "cell_type": "code",
   "execution_count": 30,
   "metadata": {
    "collapsed": true
   },
   "outputs": [],
   "source": [
    "import numpy as np\n",
    "from astropy.table import Table\n",
    "from astropy.io import fits\n",
    "import matplotlib.pyplot as plt\n",
    "import bz2\n",
    "import pdb\n",
    "import warnings\n",
    "import os.path\n",
    "%matplotlib inline\n",
    "from matplotlib.colors import LogNorm\n",
    "import matplotlib.gridspec as gridspec\n"
   ]
  },
  {
   "cell_type": "markdown",
   "metadata": {},
   "source": [
    "## Fits file containing data for the new ferengi candidates. Important columns are 'run', 'camcol', and 'field.'"
   ]
  },
  {
   "cell_type": "code",
   "execution_count": 31,
   "metadata": {
    "collapsed": false
   },
   "outputs": [],
   "source": [
    "data = Table.read('/home/mel/Documents/GZ_HUBBLE/gzh_red_disks/new_ferengi/data/ferengi_candidates_1527.fits')"
   ]
  },
  {
   "cell_type": "code",
   "execution_count": 3,
   "metadata": {
    "collapsed": false
   },
   "outputs": [],
   "source": [
    "def get_filename(run,camcol,field,bnd):\n",
    "    r = run\n",
    "    c = camcol\n",
    "    f = field\n",
    "    strname = strname = 'http://data.sdss3.org/sas/dr12/boss/photoObj/frames/301/'+'{:04d}'.format(r)+'/'+'{:1d}'.format(c)+'/frame-'+'{:1s}'.format(bnd)+'-'+'{:06d}'.format(r)+'-'+'{:1d}'.format(c)+'-'+'{:04d}'.format(f)+'.fits.bz2'+'\\n'\n",
    "    return strname"
   ]
  },
  {
   "cell_type": "markdown",
   "metadata": {},
   "source": [
    "## Create text file with each run/camcol/field combo. Some galaxies are in the same bulk image, so there are duplicate combinations of run/camcol/field. Only one of each combination are needed, so duplicates are removed. "
   ]
  },
  {
   "cell_type": "code",
   "execution_count": 106,
   "metadata": {
    "collapsed": false
   },
   "outputs": [],
   "source": [
    "text_file = open(\"sdss_ugriz_downloads.txt\",\"w\")\n",
    "n=0\n",
    "combos = []\n",
    "bands = ['u','g','r','i','z']\n",
    "for gal in data:\n",
    "    combo = '{:04d}'.format(gal['run'])+'{:1d}'.format(gal['camcol']) + '{:04d}'.format(gal['field'])\n",
    "    if combo not in combos: #new tile, save name for download\n",
    "        for band in bands: #download file for u,g,r,i, and z for each run/camcol/field combo\n",
    "            text_file.write(get_filename(gal['run'],gal['camcol'],gal['field'],band))\n",
    "            combos.append(combo) #record this combination so it's not used twice later\n",
    "            n=n+1 #number of unique files\n",
    "    else: #tile already recorded for downlaod, skip \n",
    "        pass\n",
    "\n",
    "text_file.close()\n"
   ]
  },
  {
   "cell_type": "code",
   "execution_count": null,
   "metadata": {
    "collapsed": false
   },
   "outputs": [],
   "source": []
  },
  {
   "cell_type": "markdown",
   "metadata": {},
   "source": [
    "## Run wget -i sdss_ugriz_downloads.txt to download all the files!"
   ]
  },
  {
   "cell_type": "markdown",
   "metadata": {
    "collapsed": true
   },
   "source": [
    "## Check - make sure all were downloaded correctly"
   ]
  },
  {
   "cell_type": "code",
   "execution_count": 14,
   "metadata": {
    "collapsed": false
   },
   "outputs": [
    {
     "name": "stdout",
     "output_type": "stream",
     "text": [
      "115 files were not downloaded\n"
     ]
    }
   ],
   "source": [
    "bands = ['u','g','r','i','z']\n",
    "missing_files = []\n",
    "files=[]\n",
    "for gal in data:\n",
    "    r = gal['run']\n",
    "    c = gal['camcol']\n",
    "    f = gal['field']\n",
    "\n",
    "    for bnd in bands: \n",
    "        fname = 'frame-'+'{:1s}'.format(bnd)+'-'+'{:06d}'.format(r)+'-'+'{:1d}'.format(c)+'-'+'{:04d}'.format(f)+'.fits.bz2'\n",
    "        if os.path.isfile('../ugriz_bulk_images/'+fname) == False:\n",
    "            missing_files.append(fname)\n",
    "        files.append(fname)\n",
    "    \n",
    "print '{:d} files were not downloaded'.format(len(missing_files))"
   ]
  },
  {
   "cell_type": "code",
   "execution_count": 17,
   "metadata": {
    "collapsed": false
   },
   "outputs": [
    {
     "data": {
      "text/plain": [
       "['frame-u-000756-1-0474.fits.bz2',\n",
       " 'frame-g-000756-1-0474.fits.bz2',\n",
       " 'frame-r-000756-1-0474.fits.bz2',\n",
       " 'frame-i-000756-1-0474.fits.bz2',\n",
       " 'frame-z-000756-1-0474.fits.bz2',\n",
       " 'frame-u-000752-3-0363.fits.bz2',\n",
       " 'frame-g-000752-3-0363.fits.bz2',\n",
       " 'frame-r-000752-3-0363.fits.bz2',\n",
       " 'frame-i-000752-3-0363.fits.bz2',\n",
       " 'frame-z-000752-3-0363.fits.bz2',\n",
       " 'frame-u-000756-2-0505.fits.bz2',\n",
       " 'frame-g-000756-2-0505.fits.bz2',\n",
       " 'frame-r-000756-2-0505.fits.bz2',\n",
       " 'frame-i-000756-2-0505.fits.bz2',\n",
       " 'frame-z-000756-2-0505.fits.bz2',\n",
       " 'frame-u-000756-4-0127.fits.bz2',\n",
       " 'frame-g-000756-4-0127.fits.bz2',\n",
       " 'frame-r-000756-4-0127.fits.bz2',\n",
       " 'frame-i-000756-4-0127.fits.bz2',\n",
       " 'frame-z-000756-4-0127.fits.bz2',\n",
       " 'frame-u-000752-4-0264.fits.bz2',\n",
       " 'frame-g-000752-4-0264.fits.bz2',\n",
       " 'frame-r-000752-4-0264.fits.bz2',\n",
       " 'frame-i-000752-4-0264.fits.bz2',\n",
       " 'frame-z-000752-4-0264.fits.bz2',\n",
       " 'frame-u-000756-2-0122.fits.bz2',\n",
       " 'frame-g-000756-2-0122.fits.bz2',\n",
       " 'frame-r-000756-2-0122.fits.bz2',\n",
       " 'frame-i-000756-2-0122.fits.bz2',\n",
       " 'frame-z-000756-2-0122.fits.bz2',\n",
       " 'frame-u-000745-3-0205.fits.bz2',\n",
       " 'frame-g-000745-3-0205.fits.bz2',\n",
       " 'frame-r-000745-3-0205.fits.bz2',\n",
       " 'frame-i-000745-3-0205.fits.bz2',\n",
       " 'frame-z-000745-3-0205.fits.bz2',\n",
       " 'frame-u-000756-5-0217.fits.bz2',\n",
       " 'frame-g-000756-5-0217.fits.bz2',\n",
       " 'frame-r-000756-5-0217.fits.bz2',\n",
       " 'frame-i-000756-5-0217.fits.bz2',\n",
       " 'frame-z-000756-5-0217.fits.bz2',\n",
       " 'frame-u-000752-3-0521.fits.bz2',\n",
       " 'frame-g-000752-3-0521.fits.bz2',\n",
       " 'frame-r-000752-3-0521.fits.bz2',\n",
       " 'frame-i-000752-3-0521.fits.bz2',\n",
       " 'frame-z-000752-3-0521.fits.bz2',\n",
       " 'frame-u-000756-6-0421.fits.bz2',\n",
       " 'frame-g-000756-6-0421.fits.bz2',\n",
       " 'frame-r-000756-6-0421.fits.bz2',\n",
       " 'frame-i-000756-6-0421.fits.bz2',\n",
       " 'frame-z-000756-6-0421.fits.bz2',\n",
       " 'frame-u-000752-1-0544.fits.bz2',\n",
       " 'frame-g-000752-1-0544.fits.bz2',\n",
       " 'frame-r-000752-1-0544.fits.bz2',\n",
       " 'frame-i-000752-1-0544.fits.bz2',\n",
       " 'frame-z-000752-1-0544.fits.bz2',\n",
       " 'frame-u-000752-3-0515.fits.bz2',\n",
       " 'frame-g-000752-3-0515.fits.bz2',\n",
       " 'frame-r-000752-3-0515.fits.bz2',\n",
       " 'frame-i-000752-3-0515.fits.bz2',\n",
       " 'frame-z-000752-3-0515.fits.bz2',\n",
       " 'frame-u-000752-3-0512.fits.bz2',\n",
       " 'frame-g-000752-3-0512.fits.bz2',\n",
       " 'frame-r-000752-3-0512.fits.bz2',\n",
       " 'frame-i-000752-3-0512.fits.bz2',\n",
       " 'frame-z-000752-3-0512.fits.bz2',\n",
       " 'frame-u-000756-1-0474.fits.bz2',\n",
       " 'frame-g-000756-1-0474.fits.bz2',\n",
       " 'frame-r-000756-1-0474.fits.bz2',\n",
       " 'frame-i-000756-1-0474.fits.bz2',\n",
       " 'frame-z-000756-1-0474.fits.bz2',\n",
       " 'frame-u-000756-2-0502.fits.bz2',\n",
       " 'frame-g-000756-2-0502.fits.bz2',\n",
       " 'frame-r-000756-2-0502.fits.bz2',\n",
       " 'frame-i-000756-2-0502.fits.bz2',\n",
       " 'frame-z-000756-2-0502.fits.bz2',\n",
       " 'frame-u-000756-3-0300.fits.bz2',\n",
       " 'frame-g-000756-3-0300.fits.bz2',\n",
       " 'frame-r-000756-3-0300.fits.bz2',\n",
       " 'frame-i-000756-3-0300.fits.bz2',\n",
       " 'frame-z-000756-3-0300.fits.bz2',\n",
       " 'frame-u-000756-1-0367.fits.bz2',\n",
       " 'frame-g-000756-1-0367.fits.bz2',\n",
       " 'frame-r-000756-1-0367.fits.bz2',\n",
       " 'frame-i-000756-1-0367.fits.bz2',\n",
       " 'frame-z-000756-1-0367.fits.bz2',\n",
       " 'frame-u-000752-4-0411.fits.bz2',\n",
       " 'frame-g-000752-4-0411.fits.bz2',\n",
       " 'frame-r-000752-4-0411.fits.bz2',\n",
       " 'frame-i-000752-4-0411.fits.bz2',\n",
       " 'frame-z-000752-4-0411.fits.bz2',\n",
       " 'frame-u-000752-1-0432.fits.bz2',\n",
       " 'frame-g-000752-1-0432.fits.bz2',\n",
       " 'frame-r-000752-1-0432.fits.bz2',\n",
       " 'frame-i-000752-1-0432.fits.bz2',\n",
       " 'frame-z-000752-1-0432.fits.bz2',\n",
       " 'frame-u-000756-5-0744.fits.bz2',\n",
       " 'frame-g-000756-5-0744.fits.bz2',\n",
       " 'frame-r-000756-5-0744.fits.bz2',\n",
       " 'frame-i-000756-5-0744.fits.bz2',\n",
       " 'frame-z-000756-5-0744.fits.bz2',\n",
       " 'frame-u-000756-3-0496.fits.bz2',\n",
       " 'frame-g-000756-3-0496.fits.bz2',\n",
       " 'frame-r-000756-3-0496.fits.bz2',\n",
       " 'frame-i-000756-3-0496.fits.bz2',\n",
       " 'frame-z-000756-3-0496.fits.bz2',\n",
       " 'frame-u-000756-6-0496.fits.bz2',\n",
       " 'frame-g-000756-6-0496.fits.bz2',\n",
       " 'frame-r-000756-6-0496.fits.bz2',\n",
       " 'frame-i-000756-6-0496.fits.bz2',\n",
       " 'frame-z-000756-6-0496.fits.bz2',\n",
       " 'frame-u-000756-5-0519.fits.bz2',\n",
       " 'frame-g-000756-5-0519.fits.bz2',\n",
       " 'frame-r-000756-5-0519.fits.bz2',\n",
       " 'frame-i-000756-5-0519.fits.bz2',\n",
       " 'frame-z-000756-5-0519.fits.bz2']"
      ]
     },
     "execution_count": 17,
     "metadata": {},
     "output_type": "execute_result"
    }
   ],
   "source": [
    "missing_files"
   ]
  },
  {
   "cell_type": "code",
   "execution_count": 24,
   "metadata": {
    "collapsed": false
   },
   "outputs": [],
   "source": [
    "#The error - run names 752 and 756 shouldn't have a leading zero - the url was a lie! (should be RUN, not RUN(4))\n",
    "\n",
    "#new file to download extras:\n",
    "missing_data_756 = data[(data['run']==756)]\n",
    "missing_data_752 = data[data['run']==752]\n",
    "missing_data_745 = data[data['run']==745]\n",
    "def get_filename_3run(run,camcol,field,bnd):\n",
    "    r = run\n",
    "    c = camcol\n",
    "    f = field\n",
    "    strname = strname = 'http://data.sdss3.org/sas/dr12/boss/photoObj/frames/301/'+'{:03d}'.format(r)+'/'+'{:1d}'.format(c)+'/frame-'+'{:1s}'.format(bnd)+'-'+'{:06d}'.format(r)+'-'+'{:1d}'.format(c)+'-'+'{:04d}'.format(f)+'.fits.bz2'+'\\n'\n",
    "    return strname\n",
    "\n",
    "text_file = open(\"sdss_ugriz_downloads_752_756.txt\",\"w\")\n",
    "n=0\n",
    "combos = []\n",
    "bands = ['u','g','r','i','z']\n",
    "for gal in missing_data_752:\n",
    "    combo = '{:04d}'.format(gal['run'])+'{:1d}'.format(gal['camcol']) + '{:04d}'.format(gal['field'])\n",
    "    if combo not in combos: #new tile, save name for download\n",
    "        for band in bands: #download file for u,g,r,i, and z for each run/camcol/field combo\n",
    "            text_file.write(get_filename_3run(gal['run'],gal['camcol'],gal['field'],band))\n",
    "            combos.append(combo) #record this combination so it's not used twice later\n",
    "            n=n+1 #number of unique files\n",
    "    else: #tile already recorded for downlaod, skip \n",
    "        pass\n",
    "for gal in missing_data_756:\n",
    "    combo = '{:04d}'.format(gal['run'])+'{:1d}'.format(gal['camcol']) + '{:04d}'.format(gal['field'])\n",
    "    if combo not in combos: #new tile, save name for download\n",
    "        for band in bands: #download file for u,g,r,i, and z for each run/camcol/field combo\n",
    "            text_file.write(get_filename_3run(gal['run'],gal['camcol'],gal['field'],band))\n",
    "            combos.append(combo) #record this combination so it's not used twice later\n",
    "            n=n+1 #number of unique files\n",
    "    else: #tile already recorded for downlaod, skip \n",
    "        pass\n",
    "\n",
    "\n",
    "text_file.close()\n",
    "\n",
    "text_file = open(\"sdss_ugriz_downloads_745.txt\",\"w\")\n",
    "n=0\n",
    "combos = []\n",
    "bands = ['u','g','r','i','z']\n",
    "for gal in missing_data_745:\n",
    "    combo = '{:04d}'.format(gal['run'])+'{:1d}'.format(gal['camcol']) + '{:04d}'.format(gal['field'])\n",
    "    if combo not in combos: #new tile, save name for download\n",
    "        for band in bands: #download file for u,g,r,i, and z for each run/camcol/field combo\n",
    "            text_file.write(get_filename_3run(gal['run'],gal['camcol'],gal['field'],band))\n",
    "            combos.append(combo) #record this combination so it's not used twice later\n",
    "            n=n+1 #number of unique files\n",
    "    else: #tile already recorded for downlaod, skip \n",
    "        pass\n",
    "\n",
    "text_file.close()\n"
   ]
  },
  {
   "cell_type": "code",
   "execution_count": 25,
   "metadata": {
    "collapsed": false
   },
   "outputs": [
    {
     "name": "stdout",
     "output_type": "stream",
     "text": [
      "0 files were not downloaded\n"
     ]
    }
   ],
   "source": [
    "#check again:\n",
    "bands = ['u','g','r','i','z']\n",
    "missing_files = []\n",
    "files=[]\n",
    "for gal in data:\n",
    "    r = gal['run']\n",
    "    c = gal['camcol']\n",
    "    f = gal['field']\n",
    "\n",
    "    for bnd in bands: \n",
    "        fname = 'frame-'+'{:1s}'.format(bnd)+'-'+'{:06d}'.format(r)+'-'+'{:1d}'.format(c)+'-'+'{:04d}'.format(f)+'.fits.bz2'\n",
    "        if os.path.isfile('../ugriz_bulk_images/'+fname) == False:\n",
    "            missing_files.append(fname)\n",
    "        files.append(fname)\n",
    "    \n",
    "print '{:d} files were not downloaded'.format(len(missing_files))"
   ]
  },
  {
   "cell_type": "markdown",
   "metadata": {},
   "source": [
    "# 2) PSF Field Files\n",
    "\n",
    "## These can be downloaded with the form:\n",
    "https://data.sdss.org/sas/dr12/boss/photo/redux/301/RUN(2)/objcs/CAMCOL(1)/psField-RUN(6)-CAMCOL(1)-FIELD(4).fit"
   ]
  },
  {
   "cell_type": "code",
   "execution_count": 24,
   "metadata": {
    "collapsed": true
   },
   "outputs": [],
   "source": [
    "def get_psfname(run,camcol,field):\n",
    "    r = run\n",
    "    c = camcol\n",
    "    f = field\n",
    "    strname = strname = 'https://data.sdss.org/sas/dr12/boss/photo/redux/301/'+'{:02d}'.format(r)+'/objcs/'+'{:1d}'.format(c)+'/psField-'+'{:06d}'.format(r)+'-'+'{:1d}'.format(c)+'-'+'{:04d}'.format(f)+'.fit'+'\\n'\n",
    "    return strname"
   ]
  },
  {
   "cell_type": "code",
   "execution_count": 25,
   "metadata": {
    "collapsed": false
   },
   "outputs": [],
   "source": [
    "text_file = open(\"sdss_psf_downloads.txt\",\"w\")\n",
    "\n",
    "combos = []\n",
    "for gal in data:\n",
    "    combo = '{:04d}'.format(gal['run'])+'{:1d}'.format(gal['camcol']) + '{:04d}'.format(gal['field'])\n",
    "    if combo not in combos: #new tile, save name for download\n",
    "        text_file.write(get_psfname(gal['run'],gal['camcol'],gal['field']))\n",
    "        combos.append(combo) #record this combination so it's not used twice later\n",
    "    else: #tile already recorded for downlaod, skip \n",
    "        pass\n",
    "\n",
    "text_file.close()"
   ]
  },
  {
   "cell_type": "markdown",
   "metadata": {
    "collapsed": true
   },
   "source": [
    "## Check - make sure all were downloaded correctly"
   ]
  },
  {
   "cell_type": "code",
   "execution_count": 34,
   "metadata": {
    "collapsed": false
   },
   "outputs": [
    {
     "name": "stdout",
     "output_type": "stream",
     "text": [
      "0 files were downloaded incorrectly\n"
     ]
    }
   ],
   "source": [
    "missing_files = []\n",
    "for gal in data:\n",
    "    r = gal['run']\n",
    "    c = gal['camcol']\n",
    "    f = gal['field']\n",
    "    fname = 'psField-'+'{:06d}'.format(r)+'-'+'{:1d}'.format(c)+'-'+'{:04d}'.format(f)+'.fit'\n",
    "    if os.path.isfile('../psField_files/'+fname) == False:\n",
    "        missing_files.append(fname)\n",
    "print '{:d} files were downloaded incorrectly'.format(len(missing_files))"
   ]
  },
  {
   "cell_type": "markdown",
   "metadata": {},
   "source": [
    "# 3) TSF Field Files\n",
    "## These contain the zero-point magnitudes for each band, and are downloaded with the form:\n",
    "http://das.sdss.org/imaging/RUN(4)/40/calibChunks/CAMCOL(1)/tsField-RUN(6)-CAMCOL(1)-40-FIELD(4).fit\n"
   ]
  },
  {
   "cell_type": "code",
   "execution_count": 32,
   "metadata": {
    "collapsed": false
   },
   "outputs": [],
   "source": [
    "def get_tsfname(run,camcol,field):\n",
    "    r = run\n",
    "    c = camcol\n",
    "    f = field\n",
    "    strname = strname = 'http://das.sdss.org/imaging/'+'{:02d}'.format(r)+'/40/calibChunks/'+'{:1d}'.format(c)+'/tsField-'+'{:06d}'.format(r)+'-'+'{:1d}'.format(c)+'-'+'40-'+'{:04d}'.format(f)+'.fit'+'\\n'\n",
    "    return strname"
   ]
  },
  {
   "cell_type": "code",
   "execution_count": 127,
   "metadata": {
    "collapsed": false
   },
   "outputs": [],
   "source": [
    "text_file = open(\"sdss_tsf_downloads.txt\",\"w\")\n",
    "\n",
    "combos = []\n",
    "for gal in data:\n",
    "    combo = '{:04d}'.format(gal['run'])+'{:1d}'.format(gal['camcol']) + '{:04d}'.format(gal['field'])\n",
    "    if combo not in combos: #new tile, save name for download\n",
    "        text_file.write(get_tsfname(gal['run'],gal['camcol'],gal['field']))\n",
    "        combos.append(combo) #record this combination so it's not used twice later\n",
    "    else: #tile already recorded for downlaod, skip \n",
    "        pass\n",
    "\n",
    "text_file.close()"
   ]
  },
  {
   "cell_type": "markdown",
   "metadata": {
    "collapsed": true
   },
   "source": [
    "## Check - make sure all were downloaded correctly"
   ]
  },
  {
   "cell_type": "code",
   "execution_count": 45,
   "metadata": {
    "collapsed": false
   },
   "outputs": [
    {
     "name": "stdout",
     "output_type": "stream",
     "text": [
      "424 files were not downloaded\n"
     ]
    }
   ],
   "source": [
    "missing_files = []\n",
    "missing_objid = []\n",
    "for gal in data:\n",
    "    r = gal['run']\n",
    "    c = gal['camcol']\n",
    "    f = gal['field']\n",
    "    fname = 'tsField-'+'{:06d}'.format(r)+'-'+'{:1d}'.format(c)+'-'+'40-'+'{:04d}'.format(f)+'.fit'\n",
    "    if os.path.isfile('../tsField_files/'+fname) == False:\n",
    "        missing_files.append(fname)\n",
    "        missing_objid.append(gal['dr12objid'])\n",
    "print '{:d} files were not downloaded'.format(len(missing_files))"
   ]
  },
  {
   "cell_type": "code",
   "execution_count": 55,
   "metadata": {
    "collapsed": false
   },
   "outputs": [
    {
     "data": {
      "text/plain": [
       "True"
      ]
     },
     "execution_count": 55,
     "metadata": {},
     "output_type": "execute_result"
    }
   ],
   "source": [
    "missing_objid[0]in missing_objid\n"
   ]
  },
  {
   "cell_type": "code",
   "execution_count": 58,
   "metadata": {
    "collapsed": false
   },
   "outputs": [],
   "source": [
    "#these should all be 41 instead of 40, for some reason. \n",
    "\n",
    "def get_tsfname_41(run,camcol,field):\n",
    "    r = run\n",
    "    c = camcol\n",
    "    f = field\n",
    "    strname = strname = 'http://das.sdss.org/imaging/'+'{:02d}'.format(r)+'/41/calibChunks/'+'{:1d}'.format(c)+'/tsField-'+'{:06d}'.format(r)+'-'+'{:1d}'.format(c)+'-'+'41-'+'{:04d}'.format(f)+'.fit'+'\\n'\n",
    "    return strname\n",
    "\n",
    "text_file = open(\"sdss_tsf_downloads_41.txt\",\"w\")\n",
    "\n",
    "combos = []\n",
    "for gal in data:\n",
    "    if gal['dr12objid'] in missing_objid: #tsf file for galaxy hasn't been downloaded yet\n",
    "        combo = '{:04d}'.format(gal['run'])+'{:1d}'.format(gal['camcol']) + '{:04d}'.format(gal['field'])\n",
    "        if combo not in combos: #new tile, save name for download\n",
    "            text_file.write(get_tsfname_41(gal['run'],gal['camcol'],gal['field']))\n",
    "            combos.append(combo) #record this combination so it's not used twice later\n",
    "        else: #tile already recorded for downlaod, skip \n",
    "            pass\n",
    "\n",
    "text_file.close()"
   ]
  },
  {
   "cell_type": "code",
   "execution_count": 61,
   "metadata": {
    "collapsed": false
   },
   "outputs": [
    {
     "name": "stdout",
     "output_type": "stream",
     "text": [
      "103 files were not downloaded\n"
     ]
    }
   ],
   "source": [
    "#recheck - downloaded correctly? \n",
    "missing_files = []\n",
    "missing_objid_2 = []\n",
    "for gal in data:\n",
    "    r = gal['run']\n",
    "    c = gal['camcol']\n",
    "    f = gal['field']\n",
    "    if gal['dr12objid'] in missing_objid: #should be 41 maybe\n",
    "        fname = 'tsField-'+'{:06d}'.format(r)+'-'+'{:1d}'.format(c)+'-'+'41-'+'{:04d}'.format(f)+'.fit'\n",
    "    else: #should be 40\n",
    "        fname = 'tsField-'+'{:06d}'.format(r)+'-'+'{:1d}'.format(c)+'-'+'40-'+'{:04d}'.format(f)+'.fit'\n",
    "\n",
    "    if os.path.isfile('../tsField_files/'+fname) == False:\n",
    "        missing_files.append(fname)\n",
    "        missing_objid_2.append(gal['dr12objid'])\n",
    "print '{:d} files were not downloaded'.format(len(missing_files))"
   ]
  },
  {
   "cell_type": "code",
   "execution_count": 62,
   "metadata": {
    "collapsed": false
   },
   "outputs": [
    {
     "data": {
      "text/plain": [
       "['tsField-000756-1-41-0474.fit',\n",
       " 'tsField-000756-2-41-0505.fit',\n",
       " 'tsField-001302-6-41-0374.fit',\n",
       " 'tsField-001302-3-41-0382.fit',\n",
       " 'tsField-000756-4-41-0127.fit',\n",
       " 'tsField-002126-4-41-0442.fit',\n",
       " 'tsField-000756-2-41-0122.fit',\n",
       " 'tsField-000756-5-41-0217.fit',\n",
       " 'tsField-001302-1-41-0336.fit',\n",
       " 'tsField-002168-5-41-0147.fit',\n",
       " 'tsField-000756-6-41-0421.fit',\n",
       " 'tsField-001302-1-41-0336.fit',\n",
       " 'tsField-003058-6-41-0024.fit',\n",
       " 'tsField-001302-2-41-0269.fit',\n",
       " 'tsField-001302-6-41-0331.fit',\n",
       " 'tsField-001302-1-41-0337.fit',\n",
       " 'tsField-002168-5-41-0148.fit',\n",
       " 'tsField-001302-1-41-0337.fit',\n",
       " 'tsField-001302-5-41-0374.fit',\n",
       " 'tsField-000756-1-41-0474.fit',\n",
       " 'tsField-000756-2-41-0502.fit',\n",
       " 'tsField-000756-3-41-0300.fit',\n",
       " 'tsField-003063-2-41-0044.fit',\n",
       " 'tsField-002336-3-41-0035.fit',\n",
       " 'tsField-002247-3-41-0335.fit',\n",
       " 'tsField-000756-1-41-0367.fit',\n",
       " 'tsField-003063-1-41-0050.fit',\n",
       " 'tsField-007717-1-41-0119.fit',\n",
       " 'tsField-003063-3-41-0047.fit',\n",
       " 'tsField-005390-2-41-0033.fit',\n",
       " 'tsField-001331-1-41-0274.fit',\n",
       " 'tsField-003063-3-41-0072.fit',\n",
       " 'tsField-000756-5-41-0744.fit',\n",
       " 'tsField-002190-1-41-0031.fit',\n",
       " 'tsField-003058-3-41-0071.fit',\n",
       " 'tsField-003058-2-41-0065.fit',\n",
       " 'tsField-003903-2-41-0021.fit',\n",
       " 'tsField-002322-6-41-0044.fit',\n",
       " 'tsField-003059-2-41-0152.fit',\n",
       " 'tsField-002304-4-41-0119.fit',\n",
       " 'tsField-002322-6-41-0024.fit',\n",
       " 'tsField-003063-1-41-0052.fit',\n",
       " 'tsField-000756-3-41-0496.fit',\n",
       " 'tsField-003063-2-41-0054.fit',\n",
       " 'tsField-003903-6-41-0033.fit',\n",
       " 'tsField-003059-3-41-0012.fit',\n",
       " 'tsField-003063-3-41-0047.fit',\n",
       " 'tsField-002574-4-41-0039.fit',\n",
       " 'tsField-003058-1-41-0059.fit',\n",
       " 'tsField-003058-3-41-0070.fit',\n",
       " 'tsField-003697-1-41-0057.fit',\n",
       " 'tsField-002322-6-41-0011.fit',\n",
       " 'tsField-002735-5-41-0136.fit',\n",
       " 'tsField-003229-3-41-0075.fit',\n",
       " 'tsField-003059-6-41-0104.fit',\n",
       " 'tsField-003716-6-41-0020.fit',\n",
       " 'tsField-005390-4-41-0035.fit',\n",
       " 'tsField-003063-3-41-0051.fit',\n",
       " 'tsField-007675-1-41-0113.fit',\n",
       " 'tsField-003697-2-41-0052.fit',\n",
       " 'tsField-003903-4-41-0040.fit',\n",
       " 'tsField-003059-5-41-0117.fit',\n",
       " 'tsField-002190-4-41-0029.fit',\n",
       " 'tsField-003903-2-41-0041.fit',\n",
       " 'tsField-003697-5-41-0041.fit',\n",
       " 'tsField-003063-2-41-0039.fit',\n",
       " 'tsField-002168-5-41-0147.fit',\n",
       " 'tsField-003903-2-41-0040.fit',\n",
       " 'tsField-003697-4-41-0055.fit',\n",
       " 'tsField-000756-6-41-0496.fit',\n",
       " 'tsField-002304-6-41-0108.fit',\n",
       " 'tsField-007717-1-41-0598.fit',\n",
       " 'tsField-002126-5-41-0442.fit',\n",
       " 'tsField-002127-1-41-0090.fit',\n",
       " 'tsField-003059-3-41-0077.fit',\n",
       " 'tsField-004512-2-41-0017.fit',\n",
       " 'tsField-002127-1-41-0089.fit',\n",
       " 'tsField-003697-1-41-0066.fit',\n",
       " 'tsField-004382-3-41-0126.fit',\n",
       " 'tsField-004503-4-41-0110.fit',\n",
       " 'tsField-003063-3-41-0053.fit',\n",
       " 'tsField-003063-1-41-0052.fit',\n",
       " 'tsField-003063-1-41-0053.fit',\n",
       " 'tsField-003903-1-41-0030.fit',\n",
       " 'tsField-002322-6-41-0039.fit',\n",
       " 'tsField-003697-6-41-0067.fit',\n",
       " 'tsField-004670-4-41-0029.fit',\n",
       " 'tsField-001458-2-41-0245.fit',\n",
       " 'tsField-002127-4-41-0027.fit',\n",
       " 'tsField-003697-6-41-0068.fit',\n",
       " 'tsField-003059-1-41-0122.fit',\n",
       " 'tsField-002190-5-41-0034.fit',\n",
       " 'tsField-003059-3-41-0035.fit',\n",
       " 'tsField-002126-3-41-0443.fit',\n",
       " 'tsField-003063-3-41-0041.fit',\n",
       " 'tsField-003059-5-41-0138.fit',\n",
       " 'tsField-002127-3-41-0054.fit',\n",
       " 'tsField-002574-5-41-0052.fit',\n",
       " 'tsField-003058-5-41-0062.fit',\n",
       " 'tsField-005390-2-41-0033.fit',\n",
       " 'tsField-003697-1-41-0073.fit',\n",
       " 'tsField-007717-1-41-0297.fit',\n",
       " 'tsField-000756-5-41-0519.fit']"
      ]
     },
     "execution_count": 62,
     "metadata": {},
     "output_type": "execute_result"
    }
   ],
   "source": [
    "missing_files"
   ]
  },
  {
   "cell_type": "code",
   "execution_count": 90,
   "metadata": {
    "collapsed": false
   },
   "outputs": [],
   "source": [
    "#these should all be 44 instead of 40, for some reason. \n",
    "\n",
    "def get_tsfname_44(run,camcol,field):\n",
    "    r = run\n",
    "    c = camcol\n",
    "    f = field\n",
    "    strname = strname = 'http://das.sdss.org/imaging/'+'{:02d}'.format(r)+'/44/calibChunks/'+'{:1d}'.format(c)+'/tsField-'+'{:06d}'.format(r)+'-'+'{:1d}'.format(c)+'-'+'44-'+'{:04d}'.format(f)+'.fit'+'\\n'\n",
    "    return strname\n",
    "\n",
    "text_file = open(\"sdss_tsf_downloads_44.txt\",\"w\")\n",
    "\n",
    "combos = []\n",
    "for gal in data:\n",
    "    if gal['dr12objid'] in missing_objid_2: #tsf file for galaxy hasn't been downloaded yet\n",
    "        combo = '{:04d}'.format(gal['run'])+'{:1d}'.format(gal['camcol']) + '{:04d}'.format(gal['field'])\n",
    "        if combo not in combos: #new tile, save name for download\n",
    "            text_file.write(get_tsfname_44(gal['run'],gal['camcol'],gal['field']))\n",
    "            combos.append(combo) #record this combination so it's not used twice later\n",
    "        else: #tile already recorded for downlaod, skip \n",
    "            pass\n",
    "\n",
    "text_file.close()"
   ]
  },
  {
   "cell_type": "code",
   "execution_count": 94,
   "metadata": {
    "collapsed": false
   },
   "outputs": [
    {
     "name": "stdout",
     "output_type": "stream",
     "text": [
      "89 files were not downloaded\n"
     ]
    }
   ],
   "source": [
    "#recheck - downloaded correctly? \n",
    "missing_files = []\n",
    "missing_objid_3 = []\n",
    "for gal in data:\n",
    "    r = gal['run']\n",
    "    c = gal['camcol']\n",
    "    f = gal['field']\n",
    "        \n",
    "    fname_41 = 'tsField-'+'{:06d}'.format(r)+'-'+'{:1d}'.format(c)+'-'+'41-'+'{:04d}'.format(f)+'.fit'\n",
    "    fname_44 = 'tsField-'+'{:06d}'.format(r)+'-'+'{:1d}'.format(c)+'-'+'44-'+'{:04d}'.format(f)+'.fit'\n",
    "    fname_40 = 'tsField-'+'{:06d}'.format(r)+'-'+'{:1d}'.format(c)+'-'+'40-'+'{:04d}'.format(f)+'.fit'\n",
    "        \n",
    "    #if no versions exist:     \n",
    "    if os.path.isfile('../tsField_files/'+fname_41) == False and os.path.isfile('../tsField_files/'+fname_44) == False and os.path.isfile('../tsField_files/'+fname_40) == False:\n",
    "        missing_files.append(fname_40)\n",
    "        missing_objid_3.append(gal['dr12objid'])\n",
    "print '{:d} files were not downloaded'.format(len(missing_files))"
   ]
  },
  {
   "cell_type": "code",
   "execution_count": 95,
   "metadata": {
    "collapsed": false
   },
   "outputs": [
    {
     "data": {
      "text/plain": [
       "['tsField-001302-6-40-0374.fit',\n",
       " 'tsField-001302-3-40-0382.fit',\n",
       " 'tsField-002126-4-40-0442.fit',\n",
       " 'tsField-001302-1-40-0336.fit',\n",
       " 'tsField-002168-5-40-0147.fit',\n",
       " 'tsField-001302-1-40-0336.fit',\n",
       " 'tsField-003058-6-40-0024.fit',\n",
       " 'tsField-001302-2-40-0269.fit',\n",
       " 'tsField-001302-6-40-0331.fit',\n",
       " 'tsField-001302-1-40-0337.fit',\n",
       " 'tsField-002168-5-40-0148.fit',\n",
       " 'tsField-001302-1-40-0337.fit',\n",
       " 'tsField-001302-5-40-0374.fit',\n",
       " 'tsField-003063-2-40-0044.fit',\n",
       " 'tsField-002336-3-40-0035.fit',\n",
       " 'tsField-002247-3-40-0335.fit',\n",
       " 'tsField-003063-1-40-0050.fit',\n",
       " 'tsField-007717-1-40-0119.fit',\n",
       " 'tsField-003063-3-40-0047.fit',\n",
       " 'tsField-005390-2-40-0033.fit',\n",
       " 'tsField-001331-1-40-0274.fit',\n",
       " 'tsField-003063-3-40-0072.fit',\n",
       " 'tsField-002190-1-40-0031.fit',\n",
       " 'tsField-003058-3-40-0071.fit',\n",
       " 'tsField-003058-2-40-0065.fit',\n",
       " 'tsField-003903-2-40-0021.fit',\n",
       " 'tsField-002322-6-40-0044.fit',\n",
       " 'tsField-003059-2-40-0152.fit',\n",
       " 'tsField-002304-4-40-0119.fit',\n",
       " 'tsField-002322-6-40-0024.fit',\n",
       " 'tsField-003063-1-40-0052.fit',\n",
       " 'tsField-003063-2-40-0054.fit',\n",
       " 'tsField-003903-6-40-0033.fit',\n",
       " 'tsField-003059-3-40-0012.fit',\n",
       " 'tsField-003063-3-40-0047.fit',\n",
       " 'tsField-002574-4-40-0039.fit',\n",
       " 'tsField-003058-1-40-0059.fit',\n",
       " 'tsField-003058-3-40-0070.fit',\n",
       " 'tsField-003697-1-40-0057.fit',\n",
       " 'tsField-002322-6-40-0011.fit',\n",
       " 'tsField-002735-5-40-0136.fit',\n",
       " 'tsField-003229-3-40-0075.fit',\n",
       " 'tsField-003059-6-40-0104.fit',\n",
       " 'tsField-003716-6-40-0020.fit',\n",
       " 'tsField-005390-4-40-0035.fit',\n",
       " 'tsField-003063-3-40-0051.fit',\n",
       " 'tsField-007675-1-40-0113.fit',\n",
       " 'tsField-003697-2-40-0052.fit',\n",
       " 'tsField-003903-4-40-0040.fit',\n",
       " 'tsField-003059-5-40-0117.fit',\n",
       " 'tsField-002190-4-40-0029.fit',\n",
       " 'tsField-003903-2-40-0041.fit',\n",
       " 'tsField-003697-5-40-0041.fit',\n",
       " 'tsField-003063-2-40-0039.fit',\n",
       " 'tsField-002168-5-40-0147.fit',\n",
       " 'tsField-003903-2-40-0040.fit',\n",
       " 'tsField-003697-4-40-0055.fit',\n",
       " 'tsField-002304-6-40-0108.fit',\n",
       " 'tsField-007717-1-40-0598.fit',\n",
       " 'tsField-002126-5-40-0442.fit',\n",
       " 'tsField-002127-1-40-0090.fit',\n",
       " 'tsField-003059-3-40-0077.fit',\n",
       " 'tsField-004512-2-40-0017.fit',\n",
       " 'tsField-002127-1-40-0089.fit',\n",
       " 'tsField-003697-1-40-0066.fit',\n",
       " 'tsField-004382-3-40-0126.fit',\n",
       " 'tsField-004503-4-40-0110.fit',\n",
       " 'tsField-003063-3-40-0053.fit',\n",
       " 'tsField-003063-1-40-0052.fit',\n",
       " 'tsField-003063-1-40-0053.fit',\n",
       " 'tsField-003903-1-40-0030.fit',\n",
       " 'tsField-002322-6-40-0039.fit',\n",
       " 'tsField-003697-6-40-0067.fit',\n",
       " 'tsField-004670-4-40-0029.fit',\n",
       " 'tsField-001458-2-40-0245.fit',\n",
       " 'tsField-002127-4-40-0027.fit',\n",
       " 'tsField-003697-6-40-0068.fit',\n",
       " 'tsField-003059-1-40-0122.fit',\n",
       " 'tsField-002190-5-40-0034.fit',\n",
       " 'tsField-003059-3-40-0035.fit',\n",
       " 'tsField-002126-3-40-0443.fit',\n",
       " 'tsField-003063-3-40-0041.fit',\n",
       " 'tsField-003059-5-40-0138.fit',\n",
       " 'tsField-002127-3-40-0054.fit',\n",
       " 'tsField-002574-5-40-0052.fit',\n",
       " 'tsField-003058-5-40-0062.fit',\n",
       " 'tsField-005390-2-40-0033.fit',\n",
       " 'tsField-003697-1-40-0073.fit',\n",
       " 'tsField-007717-1-40-0297.fit']"
      ]
     },
     "execution_count": 95,
     "metadata": {},
     "output_type": "execute_result"
    }
   ],
   "source": [
    "missing_files"
   ]
  },
  {
   "cell_type": "code",
   "execution_count": 97,
   "metadata": {
    "collapsed": false
   },
   "outputs": [],
   "source": [
    "#89 of the 1527 galaxies just don't have tsf files. I don't think investigating why this is the case is worth it right now due to time. "
   ]
  },
  {
   "cell_type": "code",
   "execution_count": 105,
   "metadata": {
    "collapsed": false
   },
   "outputs": [],
   "source": [
    "from astropy.table import Column\n",
    "c1 = Column([obj for obj in missing_objid_3],name='dr12objid')\n",
    "\n",
    "ex_table = Table()\n",
    "ex_table.add_columns([c1])\n",
    "ex_table.write('missing_galaxies_objids.fits',overwrite=True)"
   ]
  },
  {
   "cell_type": "code",
   "execution_count": 103,
   "metadata": {
    "collapsed": false,
    "scrolled": true
   },
   "outputs": [
    {
     "data": {
      "text/plain": [
       "[1237651067889909771,\n",
       " 1237651066279821325,\n",
       " 1237654605873676293,\n",
       " 1237651065203064903,\n",
       " 1237654786779840587,\n",
       " 1237651065203064912,\n",
       " 1237658609829544019,\n",
       " 1237651065735544848,\n",
       " 1237651067887091821,\n",
       " 1237651065203130479,\n",
       " 1237654786779906160,\n",
       " 1237651065203130387,\n",
       " 1237651067353038970,\n",
       " 1237658629158207659,\n",
       " 1237655507253264573,\n",
       " 1237655125020836042,\n",
       " 1237658628621730055,\n",
       " 1237678617404047646,\n",
       " 1237658629695275302,\n",
       " 1237668623546384411,\n",
       " 1237651189753053513,\n",
       " 1237658629696913469,\n",
       " 1237654879114035273,\n",
       " 1237658608222011488,\n",
       " 1237658607684747281,\n",
       " 1237662236929228903,\n",
       " 1237655448734924906,\n",
       " 1237658611985416295,\n",
       " 1237655370356686967,\n",
       " 1237655448733614107,\n",
       " 1237658628621861003,\n",
       " 1237658629158863005,\n",
       " 1237662239077498913,\n",
       " 1237658612513112067,\n",
       " 1237658629695275065,\n",
       " 1237656529992614121,\n",
       " 1237658607147483189,\n",
       " 1237658608221946049,\n",
       " 1237661351631454347,\n",
       " 1237655448732762298,\n",
       " 1237657222025576517,\n",
       " 1237659342661681257,\n",
       " 1237658614129754192,\n",
       " 1237661435917762567,\n",
       " 1237668624620257434,\n",
       " 1237658629695537161,\n",
       " 1237678437015027734,\n",
       " 1237661352167997454,\n",
       " 1237662238004215903,\n",
       " 1237658613593735178,\n",
       " 1237654880724516894,\n",
       " 1237662236930539554,\n",
       " 1237661353777889322,\n",
       " 1237658629157879827,\n",
       " 1237654786779840539,\n",
       " 1237662236930474097,\n",
       " 1237661353241935921,\n",
       " 1237655371429707919,\n",
       " 1237678617435439176,\n",
       " 1237654606410547205,\n",
       " 1237654608534962183,\n",
       " 1237658612517371981,\n",
       " 1237664852564049931,\n",
       " 1237654608534896736,\n",
       " 1237661351632044064,\n",
       " 1237664294762315783,\n",
       " 1237664814989181046,\n",
       " 1237658629695668387,\n",
       " 1237658628621860878,\n",
       " 1237658628621926519,\n",
       " 1237662236392947770,\n",
       " 1237655448734597265,\n",
       " 1237661354316464152,\n",
       " 1237665532243411076,\n",
       " 1237651735748870280,\n",
       " 1237654610141446147,\n",
       " 1237661354316529731,\n",
       " 1237658611446579219,\n",
       " 1237654881261715541,\n",
       " 1237658612514619419,\n",
       " 1237654605336871057,\n",
       " 1237658629694881810,\n",
       " 1237658613595111442,\n",
       " 1237654609606344867,\n",
       " 1237656530530337024,\n",
       " 1237658609295163515,\n",
       " 1237668623546384464,\n",
       " 1237661351632502793,\n",
       " 1237678617415712900]"
      ]
     },
     "execution_count": 103,
     "metadata": {},
     "output_type": "execute_result"
    }
   ],
   "source": [
    "missing_objid_3"
   ]
  },
  {
   "cell_type": "code",
   "execution_count": 106,
   "metadata": {
    "collapsed": false
   },
   "outputs": [
    {
     "data": {
      "text/plain": [
       "1527"
      ]
     },
     "execution_count": 106,
     "metadata": {},
     "output_type": "execute_result"
    }
   ],
   "source": [
    "1438+89"
   ]
  },
  {
   "cell_type": "code",
   "execution_count": null,
   "metadata": {
    "collapsed": true
   },
   "outputs": [],
   "source": []
  }
 ],
 "metadata": {
  "kernelspec": {
   "display_name": "Python 2",
   "language": "python",
   "name": "python2"
  },
  "language_info": {
   "codemirror_mode": {
    "name": "ipython",
    "version": 2
   },
   "file_extension": ".py",
   "mimetype": "text/x-python",
   "name": "python",
   "nbconvert_exporter": "python",
   "pygments_lexer": "ipython2",
   "version": "2.7.6"
  }
 },
 "nbformat": 4,
 "nbformat_minor": 0
}

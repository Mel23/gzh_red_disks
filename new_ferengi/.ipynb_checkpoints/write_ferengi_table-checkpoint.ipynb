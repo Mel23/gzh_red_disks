{
 "cells": [
  {
   "cell_type": "code",
   "execution_count": 16,
   "metadata": {
    "collapsed": false
   },
   "outputs": [],
   "source": [
    "import SciServer.CasJobs as CasJobs # query with CasJobs\n",
    "import SciServer.SciDrive           # read/write to/from SciDrive\n",
    "\n",
    "import numpy as np\n",
    "import pandas as pd\n",
    "import matplotlib.pyplot as plt\n",
    "%matplotlib inline\n",
    "\n",
    "import skimage.io                   # image processing library\n",
    "import urllib                       # accessing resources thorugh remote URLs\n",
    "import json                         # work with JSON files\n",
    "\n",
    "from pymongo import MongoClient\n",
    "from bson.son import SON\n",
    "import astropy.io.fits as astrofits\n",
    "from astropy.table import Table\n",
    "\n",
    "verbose = True\n",
    "if verbose :\n",
    "    from IPython.display import display, HTML\n",
    "    import pprint\n",
    "    prettyPrinter = pprint.PrettyPrinter(indent=4)\n"
   ]
  },
  {
   "cell_type": "code",
   "execution_count": 2,
   "metadata": {
    "collapsed": true
   },
   "outputs": [],
   "source": [
    "#authentication stuff\n",
    "authToken = 'dd222841556f44a88b1eb08269070140'\n",
    "import SciServer.LoginPortal\n",
    "userManager = SciServer.LoginPortal.getKeystoneUserWithToken(authToken)\n"
   ]
  },
  {
   "cell_type": "markdown",
   "metadata": {},
   "source": [
    "#select whatever data you want, you can see what else is available here https://skyserver.sdss.org/dr12/en/help/browser/browser.aspx#&&history=description+SpecPhoto+V"
   ]
  },
  {
   "cell_type": "code",
   "execution_count": 3,
   "metadata": {
    "collapsed": false
   },
   "outputs": [],
   "source": [
    "#Selecting data from galaxies within this redshift range 0,001 < z < 0.013\n",
    "redShiftMaximum = 0.013\n",
    "redShiftMinimum = 0.001\n",
    "\n",
    "galaxyTypeInt = 3  # could look up from table in principle\n",
    "sdssDR12Query = \"\"\"SELECT s.objID,\n",
    "s.ra, \n",
    "s.dec,\n",
    "s.type,\n",
    "s.petromag_r,\n",
    "s.modelMag_u,\n",
    "s.modelMag_g,\n",
    "s.modelMag_r,\n",
    "s.modelMag_i,\n",
    "s.modelMag_z,\n",
    "s.z as redShift,\n",
    "s.zErr as redshiftUncertainty,\n",
    "s.zWarning as redShiftWarning,\n",
    "dbo.fSpecZWarningN(zWarning) as redShiftWarningText,\n",
    "g.petror90_r\n",
    "FROM SpecPhoto AS s\n",
    "JOIN Galaxy AS g \n",
    "ON s.objID = g.objID\n",
    "WHERE (s.type = \"\"\" + str(galaxyTypeInt) + \" AND s.z < \" + str(redShiftMaximum) + \" AND s.z > \" + str(redShiftMinimum) + \" AND s.zWarning = 0)\""
   ]
  },
  {
   "cell_type": "code",
   "execution_count": 4,
   "metadata": {
    "collapsed": false
   },
   "outputs": [],
   "source": [
    "sdssDR12Response = CasJobs.executeQuery(sdssDR12Query, \"dr12\",token=authToken)\n"
   ]
  },
  {
   "cell_type": "code",
   "execution_count": 5,
   "metadata": {
    "collapsed": false
   },
   "outputs": [],
   "source": [
    "#write table\n",
    "sdssDR12Response.to_csv('ferengi_candidates.csv')"
   ]
  },
  {
   "cell_type": "code",
   "execution_count": 7,
   "metadata": {
    "collapsed": false
   },
   "outputs": [
    {
     "name": "stdout",
     "output_type": "stream",
     "text": [
      "The number of galaxies in SDSS DR12 with z < 0.013 is 6101\n"
     ]
    }
   ],
   "source": [
    "print 'The number of galaxies in SDSS DR12 with z < 0.013 is %i'%len(sdssDR12Response)"
   ]
  },
  {
   "cell_type": "markdown",
   "metadata": {
    "collapsed": true
   },
   "source": [
    "## The 6,101 galaxies above were first reduced by placing a magnitude cut on petromag_r < 17, to match that used by GZ2. This produced 4,051 galaxies. Of these, 1,962 had J mag data from 2MASS. These were matched via CASJobs, details in my GZHubble google doc. I then found Galex matches for these (details again in GZHubble google doc). These are matched on position, and thus there were often multiple Galex matches for any single SDSS galaxy. This gave a table of 3,762 objects. Here we will extract the appropriate NUV mags for unique SDSS galaxies. "
   ]
  },
  {
   "cell_type": "code",
   "execution_count": 9,
   "metadata": {
    "collapsed": false
   },
   "outputs": [
    {
     "data": {
      "text/plain": [
       "3762"
      ]
     },
     "execution_count": 9,
     "metadata": {},
     "output_type": "execute_result"
    }
   ],
   "source": [
    "data = Table.read('new_ferengi_color_data.fits')\n",
    "len(data)"
   ]
  },
  {
   "cell_type": "code",
   "execution_count": 10,
   "metadata": {
    "collapsed": false
   },
   "outputs": [],
   "source": [
    "unique_galaxies = set(data['dr12objid'])"
   ]
  },
  {
   "cell_type": "code",
   "execution_count": 11,
   "metadata": {
    "collapsed": false
   },
   "outputs": [
    {
     "data": {
      "text/plain": [
       "1645"
      ]
     },
     "execution_count": 11,
     "metadata": {},
     "output_type": "execute_result"
    }
   ],
   "source": [
    "len(unique_galaxies)"
   ]
  },
  {
   "cell_type": "code",
   "execution_count": 12,
   "metadata": {
    "collapsed": false
   },
   "outputs": [],
   "source": [
    "set_list = []\n",
    "for sdss_id in unique_galaxies:\n",
    "    gals = data[data['dr12objid']==sdss_id]\n",
    "    set_list.append(len(gals))"
   ]
  },
  {
   "cell_type": "code",
   "execution_count": 26,
   "metadata": {
    "collapsed": false
   },
   "outputs": [
    {
     "data": {
      "text/plain": [
       "<matplotlib.text.Text at 0x7fcd178a4310>"
      ]
     },
     "execution_count": 26,
     "metadata": {},
     "output_type": "execute_result"
    },
    {
     "data": {
      "image/png": "[encoded data removed]",
      "text/plain": [
       "<matplotlib.figure.Figure at 0x7fcd178f4850>"
      ]
     },
     "metadata": {},
     "output_type": "display_data"
    }
   ],
   "source": [
    "plt.hist(set_list,range=(0,10))\n",
    "plt.xlabel('number of matches')"
   ]
  },
  {
   "cell_type": "code",
   "execution_count": 61,
   "metadata": {
    "collapsed": false
   },
   "outputs": [],
   "source": [
    "#The majority of ferengi candidates had 1-2 Galex matches. Now to see if the multiple matches have the same NUV mags.\n",
    "nuv_std_list=[]\n",
    "multiple_matches = data[data['GroupID']>0] #only data with multiple matches\n",
    "group_ids = set(multiple_matches['GroupID'])\n",
    "for group in group_ids:\n",
    "    this_group = data[data['GroupID']==group]\n",
    "    nuv_mags = this_group['nuv_mag'] #all nuvs for same SDSS ID. See if they're similar.\n",
    "    nuv_std_list.append(np.std(nuv_mags))"
   ]
  },
  {
   "cell_type": "code",
   "execution_count": 68,
   "metadata": {
    "collapsed": false
   },
   "outputs": [
    {
     "data": {
      "text/plain": [
       "<matplotlib.text.Text at 0x7fcd1706cd10>"
      ]
     },
     "execution_count": 68,
     "metadata": {},
     "output_type": "execute_result"
    },
    {
     "data": {
      "image/png": "[encoded data removed]",
      "text/plain": [
       "<matplotlib.figure.Figure at 0x7fcd1700e950>"
      ]
     },
     "metadata": {},
     "output_type": "display_data"
    }
   ],
   "source": [
    "f=plt.figure(figsize=(10,7))\n",
    "plt.hist(nuv_std_list,bins=15)\n",
    "plt.xlabel('standard deviation of nuv for multiple matches',fontsize=20)"
   ]
  },
  {
   "cell_type": "markdown",
   "metadata": {},
   "source": [
    "OK so for most of the multiple matches, the nuv mags are within ~0.1 mags. Let's keep galaxies with standard deviations < 0.5, and take the average value for the one we use. "
   ]
  },
  {
   "cell_type": "code",
   "execution_count": null,
   "metadata": {
    "collapsed": true
   },
   "outputs": [],
   "source": [
    "#create table of sdss ids and nuv mags\n",
    "#remove all galex columns from original table\n",
    "#join on new table"
   ]
  },
  {
   "cell_type": "code",
   "execution_count": null,
   "metadata": {
    "collapsed": true
   },
   "outputs": [],
   "source": []
  },
  {
   "cell_type": "code",
   "execution_count": null,
   "metadata": {
    "collapsed": true
   },
   "outputs": [],
   "source": []
  },
  {
   "cell_type": "code",
   "execution_count": 40,
   "metadata": {
    "collapsed": false
   },
   "outputs": [
    {
     "ename": "NameError",
     "evalue": "name 'skimage' is not defined",
     "output_type": "error",
     "traceback": [
      "\u001b[1;31m---------------------------------------------------------------------------\u001b[0m",
      "\u001b[1;31mNameError\u001b[0m                                 Traceback (most recent call last)",
      "\u001b[1;32m<ipython-input-40-b7d92cc6a255>\u001b[0m in \u001b[0;36m<module>\u001b[1;34m()\u001b[0m\n\u001b[0;32m     15\u001b[0m     \u001b[0mcutOutImageUrl\u001b[0m \u001b[1;33m+=\u001b[0m \u001b[1;34m\"&height=\"\u001b[0m \u001b[1;33m+\u001b[0m \u001b[0mstr\u001b[0m\u001b[1;33m(\u001b[0m\u001b[0mheight\u001b[0m\u001b[1;33m)\u001b[0m\u001b[1;33m\u001b[0m\u001b[0m\n\u001b[0;32m     16\u001b[0m     \u001b[1;31m# retrieve\u001b[0m\u001b[1;33m\u001b[0m\u001b[1;33m\u001b[0m\u001b[0m\n\u001b[1;32m---> 17\u001b[1;33m     \u001b[0mcutoutImage\u001b[0m\u001b[1;33m=\u001b[0m\u001b[0mskimage\u001b[0m\u001b[1;33m.\u001b[0m\u001b[0mio\u001b[0m\u001b[1;33m.\u001b[0m\u001b[0mimread\u001b[0m\u001b[1;33m(\u001b[0m\u001b[0mcutOutImageUrl\u001b[0m\u001b[1;33m)\u001b[0m\u001b[1;33m\u001b[0m\u001b[0m\n\u001b[0m\u001b[0;32m     18\u001b[0m     \u001b[0mmplpyplot\u001b[0m\u001b[1;33m.\u001b[0m\u001b[0msubplot\u001b[0m\u001b[1;33m(\u001b[0m\u001b[1;36m5\u001b[0m\u001b[1;33m,\u001b[0m\u001b[1;36m5\u001b[0m\u001b[1;33m,\u001b[0m\u001b[0msubPlotNum\u001b[0m\u001b[1;33m)\u001b[0m\u001b[1;33m\u001b[0m\u001b[0m\n\u001b[0;32m     19\u001b[0m     \u001b[0msubPlotNum\u001b[0m \u001b[1;33m+=\u001b[0m \u001b[1;36m1\u001b[0m\u001b[1;33m\u001b[0m\u001b[0m\n",
      "\u001b[1;31mNameError\u001b[0m: name 'skimage' is not defined"
     ]
    },
    {
     "data": {
      "text/plain": [
       "<matplotlib.figure.Figure at 0x7f41109826d0>"
      ]
     },
     "metadata": {},
     "output_type": "display_data"
    }
   ],
   "source": [
    "pixelsize=0.396\n",
    "height=500\n",
    "width=500\n",
    "\n",
    "# figures do not persist between cells!\n",
    "mplpyplot.figure(figsize=(20, 20))\n",
    "subPlotNum = 1\n",
    "\n",
    "for i in range(0,20): \n",
    "    # the 'scale' parameter is set so that the image will be about 2x the size of the galaxy\n",
    "    scale=4.0*visible[i]['petror90_r']/pixelsize/width\n",
    "    # form wurl to query SDSS web sevice to generate cutout image\n",
    "    cutOutImageUrl=\"http://skyservice.pha.jhu.edu/DR12/ImgCutout/getjpeg.aspx?ra=\" + str(visible[i]['ra'])\n",
    "    cutOutImageUrl += \"&dec=\" + str(visible[i]['dec']) + \"&scale=\"\"\" + str(scale) + \"&width=\" + str(width)\n",
    "    cutOutImageUrl += \"&height=\" + str(height)\n",
    "    # retrieve \n",
    "    cutoutImage=skimage.io.imread(cutOutImageUrl)\n",
    "    mplpyplot.subplot(5,5,subPlotNum)\n",
    "    subPlotNum += 1\n",
    "    mplpyplot.imshow(cutoutImage)\n",
    "    # show the object identifier (objId) above the image.\n",
    "    mplpyplot.title(\"z = \" + str(visible[i]['redShift']) + \", type = \" + str(visible[i]['type']))"
   ]
  },
  {
   "cell_type": "code",
   "execution_count": 42,
   "metadata": {
    "collapsed": true
   },
   "outputs": [],
   "source": [
    "    cutOutImageUrl=\"http://skyservice.pha.jhu.edu/DR12/ImgCutout/getjpeg.aspx?ra=\" + str(visible[0]['ra'])\n",
    "    cutOutImageUrl += \"&dec=\" + str(visible[0]['dec']) + \"&scale=\"\"\" + str(scale) + \"&width=\" + str(width)\n",
    "    cutOutImageUrl += \"&height=\" + str(height)\n"
   ]
  },
  {
   "cell_type": "code",
   "execution_count": 85,
   "metadata": {
    "collapsed": false
   },
   "outputs": [
    {
     "data": {
      "text/plain": [
       "'http://skyservice.pha.jhu.edu/DR12/ImgCutout/getjpeg.aspx?ra=178.1851&dec=44.100566&scale=0.443332121212&width=500&height=500'"
      ]
     },
     "execution_count": 85,
     "metadata": {},
     "output_type": "execute_result"
    }
   ],
   "source": [
    "cutOutImageUrl"
   ]
  },
  {
   "cell_type": "code",
   "execution_count": 75,
   "metadata": {
    "collapsed": false
   },
   "outputs": [],
   "source": [
    "cool = visible[visible['objID']==1237651539794526301]"
   ]
  },
  {
   "cell_type": "code",
   "execution_count": 84,
   "metadata": {
    "collapsed": false
   },
   "outputs": [],
   "source": [
    "    cutOutImageUrl=\"http://skyservice.pha.jhu.edu/DR12/ImgCutout/getjpeg.aspx?ra=\" + str(cool['ra'][0])\n",
    "    cutOutImageUrl += \"&dec=\" + str(cool['dec'][0]) + \"&scale=\"\"\" + str(scale) + \"&width=\" + str(width)\n",
    "    cutOutImageUrl += \"&height=\" + str(height)\n"
   ]
  },
  {
   "cell_type": "code",
   "execution_count": 83,
   "metadata": {
    "collapsed": false
   },
   "outputs": [],
   "source": [
    "cool = visible[visible['objID']==1237661871864545390]"
   ]
  },
  {
   "cell_type": "code",
   "execution_count": 86,
   "metadata": {
    "collapsed": false
   },
   "outputs": [
    {
     "data": {
      "text/plain": [
       "454.5"
      ]
     },
     "execution_count": 86,
     "metadata": {},
     "output_type": "execute_result"
    }
   ],
   "source": [
    "450*.01+450"
   ]
  },
  {
   "cell_type": "code",
   "execution_count": null,
   "metadata": {
    "collapsed": true
   },
   "outputs": [],
   "source": []
  }
 ],
 "metadata": {
  "kernelspec": {
   "display_name": "Python 2",
   "language": "python",
   "name": "python2"
  },
  "language_info": {
   "codemirror_mode": {
    "name": "ipython",
    "version": 2
   },
   "file_extension": ".py",
   "mimetype": "text/x-python",
   "name": "python",
   "nbconvert_exporter": "python",
   "pygments_lexer": "ipython2",
   "version": "2.7.6"
  }
 },
 "nbformat": 4,
 "nbformat_minor": 0
}

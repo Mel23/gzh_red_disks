{
 "cells": [
  {
   "cell_type": "code",
   "execution_count": 1,
   "metadata": {
    "collapsed": false
   },
   "outputs": [],
   "source": [
    "from astropy.io import ascii\n",
    "from astropy.table import vstack,Table,Column\n"
   ]
  },
  {
   "cell_type": "code",
   "execution_count": 2,
   "metadata": {
    "collapsed": false
   },
   "outputs": [],
   "source": [
    "galaxies = Table.read('/home/mel/Documents/GZ_HUBBLE/gzh_red_disks/new_ferengi/data/ferengi_candidates_stage_4_936.fits')"
   ]
  },
  {
   "cell_type": "code",
   "execution_count": 3,
   "metadata": {
    "collapsed": false
   },
   "outputs": [
    {
     "data": {
      "text/plain": [
       "936"
      ]
     },
     "execution_count": 3,
     "metadata": {},
     "output_type": "execute_result"
    }
   ],
   "source": [
    "len(galaxies)"
   ]
  },
  {
   "cell_type": "code",
   "execution_count": 8,
   "metadata": {
    "collapsed": false
   },
   "outputs": [],
   "source": [
    "#if there's more than one source detected in sextractor: select source with largest ISOAREA_IMAGE\n",
    "def trim_table(sextable):\n",
    "    trimmed_sextable=Table()\n",
    "    for name in sextable.colnames:\n",
    "        c0 = Column([x[name] for x in sextable], name=name) \n",
    "        trimmed_sextable.add_columns([c0])\n",
    "    trimmed_sextable.sort('ISOAREA_IMAGE')\n",
    "    \n",
    "    while len(trimmed_sextable)>1:\n",
    "        trimmed_sextable.remove_rows(0)\n",
    "    \n",
    "    return trimmed_sextable\n",
    "\n",
    "#create table of SExtractor measurements\n",
    "def make_table(galaxies,band):\n",
    "    simzs=[3,4,5,6,7,8,9,10]\n",
    "\n",
    "    zero_sources_list = {} #keep track of files with 0 sources detected in SExtractor\n",
    "    for z in simzs:\n",
    "        zero_sources_list[z/10.]=[]\n",
    "    \n",
    "    for i,gal in enumerate(galaxies):\n",
    "        objid = gal['dr12objid']\n",
    "        for simz in simzs:\n",
    "            fname = 'SEx_output_{}/{}_imout_{}_simz_{}_evo_1.cat'.format(band,objid,band,simz)\n",
    "            sex_table = Table.read(fname,format='ascii')\n",
    "        \n",
    "            if len(sex_table)>1: #multiple sources detected, pick out source with largest area\n",
    "                sex_table = trim_table(sex_table)\n",
    "            \n",
    "            if len(sex_table)==1: #we're good, at least 1 and only 1 source \n",
    "                #add some meta to sex tables\n",
    "                c1 = Column([objid],name='dr12objid')\n",
    "                c2 = Column([gal['redshift']],name='redshift')\n",
    "                c3 = Column([simz/10.],name='simz')\n",
    "                sex_table.add_columns([c1,c2,c3],[0,0,0])\n",
    "            \n",
    "            if len(sex_table)==0:\n",
    "                zero_sources_list[simz/10.].append(objid)#keep track of files where no sources are detected :/\n",
    "            \n",
    "            if i==0 and simz==3: #first table! save it for stacking\n",
    "                stacked_table = sex_table\n",
    "            else: #stack table onto current sex table\n",
    "                stacked_table = vstack([stacked_table,sex_table])\n",
    "            \n",
    "        if i%50==0:\n",
    "            print '{} galaxies done'.format(i)\n",
    "            \n",
    "    stacked_table.remove_column('NUMBER') #useless column\n",
    "        \n",
    "    #add _band to columns for clarity!\n",
    "    for name in stacked_table.colnames:\n",
    "        if name != 'dr12objid' and name!= 'redshift' and name!= 'simz':\n",
    "            stacked_table.rename_column(name, name+'_'+band)\n",
    "\n",
    "\n",
    "            \n",
    "    return stacked_table, zero_sources_list"
   ]
  },
  {
   "cell_type": "markdown",
   "metadata": {},
   "source": [
    "## Create I,V band measurements table"
   ]
  },
  {
   "cell_type": "code",
   "execution_count": 9,
   "metadata": {
    "collapsed": false,
    "scrolled": true
   },
   "outputs": [
    {
     "name": "stdout",
     "output_type": "stream",
     "text": [
      "0 galaxies done\n",
      "50 galaxies done\n",
      "100 galaxies done\n",
      "150 galaxies done\n",
      "200 galaxies done\n",
      "250 galaxies done\n",
      "300 galaxies done\n",
      "350 galaxies done\n",
      "400 galaxies done\n",
      "450 galaxies done\n",
      "500 galaxies done\n",
      "550 galaxies done\n",
      "600 galaxies done\n",
      "650 galaxies done\n",
      "700 galaxies done\n",
      "750 galaxies done\n",
      "800 galaxies done\n",
      "850 galaxies done\n",
      "900 galaxies done\n"
     ]
    }
   ],
   "source": [
    "table_I, zero_sources_list_I = make_table(galaxies,'I')"
   ]
  },
  {
   "cell_type": "code",
   "execution_count": 37,
   "metadata": {
    "collapsed": false
   },
   "outputs": [
    {
     "name": "stdout",
     "output_type": "stream",
     "text": [
      "0 galaxies done\n",
      "50 galaxies done\n",
      "100 galaxies done\n",
      "150 galaxies done\n",
      "200 galaxies done\n",
      "250 galaxies done\n",
      "300 galaxies done\n",
      "350 galaxies done\n",
      "400 galaxies done\n",
      "450 galaxies done\n",
      "500 galaxies done\n",
      "550 galaxies done\n",
      "600 galaxies done\n",
      "650 galaxies done\n",
      "700 galaxies done\n",
      "750 galaxies done\n",
      "800 galaxies done\n",
      "850 galaxies done\n",
      "900 galaxies done\n"
     ]
    }
   ],
   "source": [
    "table_V, zero_sources_list_V = make_table(galaxies,'V')"
   ]
  },
  {
   "cell_type": "code",
   "execution_count": 12,
   "metadata": {
    "collapsed": false
   },
   "outputs": [
    {
     "name": "stdout",
     "output_type": "stream",
     "text": [
      "2 missing at redshfit 0.3\n",
      "11 missing at redshfit 0.4\n",
      "36 missing at redshfit 0.5\n",
      "63 missing at redshfit 0.6\n",
      "92 missing at redshfit 0.7\n",
      "128 missing at redshfit 0.8\n",
      "173 missing at redshfit 0.9\n",
      "208 missing at redshfit 1.0\n"
     ]
    }
   ],
   "source": [
    "simzs=[3,4,5,6,7,8,9,10]\n",
    "\n",
    "for z in simzs:\n",
    "    print '{} missing at redshfit {}'.format(len(zero_sources_list_I[z/10.]),z/10.)"
   ]
  },
  {
   "cell_type": "code",
   "execution_count": 38,
   "metadata": {
    "collapsed": false
   },
   "outputs": [
    {
     "name": "stdout",
     "output_type": "stream",
     "text": [
      "4 missing at redshfit 0.3\n",
      "20 missing at redshfit 0.4\n",
      "46 missing at redshfit 0.5\n",
      "84 missing at redshfit 0.6\n",
      "140 missing at redshfit 0.7\n",
      "185 missing at redshfit 0.8\n",
      "229 missing at redshfit 0.9\n",
      "249 missing at redshfit 1.0\n"
     ]
    }
   ],
   "source": [
    "for z in simzs:\n",
    "    print '{} missing at redshfit {}'.format(len(zero_sources_list_V[z/10.]),z/10.)"
   ]
  },
  {
   "cell_type": "code",
   "execution_count": 42,
   "metadata": {
    "collapsed": false
   },
   "outputs": [],
   "source": [
    "all_missing_I = zero_sources_list_I[.3]+ zero_sources_list_I[.4]+ zero_sources_list_I[.5]+zero_sources_list_I[.6]+ zero_sources_list_I[.7]+ zero_sources_list_I[.8]+ zero_sources_list_I[.9]+zero_sources_list_I[1.0]\n",
    "all_unique_missing_I = list(set(all_missing_I))\n",
    "all_missing_V = zero_sources_list_V[.3]+ zero_sources_list_V[.4]+ zero_sources_list_V[.5]+zero_sources_list_V[.6]+ zero_sources_list_V[.7]+ zero_sources_list_V[.8]+ zero_sources_list_V[.9]+zero_sources_list_V[1.0]\n",
    "all_unique_missing_V = list(set(all_missing_V))"
   ]
  },
  {
   "cell_type": "code",
   "execution_count": 45,
   "metadata": {
    "collapsed": true
   },
   "outputs": [],
   "source": [
    "table_I.write('ferengi2_I.fits')\n",
    "table_V.write('ferengi2_V.fits')"
   ]
  },
  {
   "cell_type": "code",
   "execution_count": 20,
   "metadata": {
    "collapsed": false,
    "scrolled": false
   },
   "outputs": [],
   "source": [
    "# get pictures of galaxies that got ferengied into oblivion\n",
    "import matplotlib.gridspec as gridspec\n",
    "import Image\n",
    "import ImageOps\n",
    "import matplotlib.pyplot as plt\n",
    "import urllib, cStringIO\n",
    "\n",
    "plt.rcParams['text.usetex']=True\n"
   ]
  },
  {
   "cell_type": "code",
   "execution_count": 44,
   "metadata": {
    "collapsed": false
   },
   "outputs": [
    {
     "data": {
      "text/plain": [
       "322"
      ]
     },
     "execution_count": 44,
     "metadata": {},
     "output_type": "execute_result"
    }
   ],
   "source": []
  },
  {
   "cell_type": "code",
   "execution_count": 21,
   "metadata": {
    "collapsed": false
   },
   "outputs": [],
   "source": [
    "#get galaxy filename\n",
    "def image_from_file(objid,z):\n",
    "    f = '../Ferengi2Sample/Images/{:d}_simz_{:d}_evo_1.jpg'.format(objid,z)\n",
    "    img = Image.open(f)\n",
    "\n",
    "    return img\n",
    "#function for getting galaxy images\n",
    "def image_from_url(gal):\n",
    "    \n",
    "    pixelsize=0.396\n",
    "    height=500\n",
    "    width=500\n",
    "\n",
    "    scale=2.5*gal['petror90_r']/pixelsize/width\n",
    "    # form wurl to query SDSS web sevice to generate cutout image\n",
    "    cutOutImageUrl=\"http://skyservice.pha.jhu.edu/DR12/ImgCutout/getjpeg.aspx?ra=\" + str(gal['RA'])\n",
    "    cutOutImageUrl += \"&dec=\" + str(gal['DEC']) + \"&scale=\"\"\" + str(scale) + \"&width=\" + str(width)\n",
    "    cutOutImageUrl += \"&height=\" + str(height)\n",
    "    \n",
    "    file = cStringIO.StringIO(urllib.urlopen(cutOutImageUrl).read())\n",
    "    img = Image.open(file)    \n",
    "    return img"
   ]
  },
  {
   "cell_type": "code",
   "execution_count": 35,
   "metadata": {
    "collapsed": false
   },
   "outputs": [],
   "source": [
    "zs = [3,4,5,6,7,8,9,10]\n",
    "f = plt.figure(figsize=(25,160))\n",
    "gs = gridspec.GridSpec(50,9)\n",
    "gs.update(wspace=0)\n",
    "\n",
    "for j in range(0,50):\n",
    "    objid = all_unique_missing[j]\n",
    "    gal = galaxies[galaxies['dr12objid']==objid][0]\n",
    "    #gal = galaxies[j]\n",
    "    objid = gal['dr12objid']\n",
    "    #first cell: original image\n",
    "    ax = plt.subplot(gs[j,0])\n",
    "    plt.imshow(image_from_url(gal))\n",
    "\n",
    "    plt.tick_params(labelleft='off',labelbottom='off')\n",
    "    plt.title('z={:.3} (sdss gri)'.format(gal['redshift']),fontsize=15)\n",
    "    plt.ylabel('{:d}'.format(gal['dr12objid']),fontsize=15)\n",
    "\n",
    "    #next: ferengified images at z=0.3, 0.6, 1.0\n",
    "    for i,z in enumerate(zs):\n",
    "        ax = plt.subplot(gs[j,i+1])\n",
    "        plt.imshow(image_from_file(gal['dr12objid'],z))\n",
    "        \n",
    "        #check if detected or not\n",
    "        if objid in zero_sources_list_I[z/10.]:\n",
    "            ax.text(.1,.08,r'X',fontsize=20,color='w',transform=ax.transAxes)\n",
    "\n",
    "        plt.tick_params(labelleft='off',labelbottom='off')\n",
    "        plt.title('z={}'.format(z/10.),fontsize=20)\n",
    "        \n",
    "plt.savefig('50_undetected_galaxies.pdf')"
   ]
  },
  {
   "cell_type": "code",
   "execution_count": null,
   "metadata": {
    "collapsed": false
   },
   "outputs": [],
   "source": []
  },
  {
   "cell_type": "code",
   "execution_count": null,
   "metadata": {
    "collapsed": false
   },
   "outputs": [],
   "source": []
  },
  {
   "cell_type": "code",
   "execution_count": null,
   "metadata": {
    "collapsed": false
   },
   "outputs": [],
   "source": []
  },
  {
   "cell_type": "code",
   "execution_count": null,
   "metadata": {
    "collapsed": false
   },
   "outputs": [],
   "source": [
    "\n"
   ]
  },
  {
   "cell_type": "code",
   "execution_count": null,
   "metadata": {
    "collapsed": false
   },
   "outputs": [],
   "source": []
  },
  {
   "cell_type": "code",
   "execution_count": null,
   "metadata": {
    "collapsed": false
   },
   "outputs": [],
   "source": []
  },
  {
   "cell_type": "code",
   "execution_count": null,
   "metadata": {
    "collapsed": false
   },
   "outputs": [],
   "source": []
  },
  {
   "cell_type": "code",
   "execution_count": null,
   "metadata": {
    "collapsed": false
   },
   "outputs": [],
   "source": []
  },
  {
   "cell_type": "code",
   "execution_count": null,
   "metadata": {
    "collapsed": false
   },
   "outputs": [],
   "source": []
  },
  {
   "cell_type": "code",
   "execution_count": null,
   "metadata": {
    "collapsed": true
   },
   "outputs": [],
   "source": []
  },
  {
   "cell_type": "code",
   "execution_count": null,
   "metadata": {
    "collapsed": false
   },
   "outputs": [],
   "source": []
  },
  {
   "cell_type": "code",
   "execution_count": null,
   "metadata": {
    "collapsed": true
   },
   "outputs": [],
   "source": []
  },
  {
   "cell_type": "code",
   "execution_count": null,
   "metadata": {
    "collapsed": false
   },
   "outputs": [],
   "source": []
  },
  {
   "cell_type": "code",
   "execution_count": null,
   "metadata": {
    "collapsed": false
   },
   "outputs": [],
   "source": []
  },
  {
   "cell_type": "code",
   "execution_count": null,
   "metadata": {
    "collapsed": true
   },
   "outputs": [],
   "source": []
  }
 ],
 "metadata": {
  "kernelspec": {
   "display_name": "Python 2",
   "language": "python",
   "name": "python2"
  },
  "language_info": {
   "codemirror_mode": {
    "name": "ipython",
    "version": 2
   },
   "file_extension": ".py",
   "mimetype": "text/x-python",
   "name": "python",
   "nbconvert_exporter": "python",
   "pygments_lexer": "ipython2",
   "version": "2.7.6"
  }
 },
 "nbformat": 4,
 "nbformat_minor": 0
}

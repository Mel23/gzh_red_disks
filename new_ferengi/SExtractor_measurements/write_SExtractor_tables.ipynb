{
 "cells": [
  {
   "cell_type": "code",
   "execution_count": 1,
   "metadata": {
    "collapsed": false
   },
   "outputs": [],
   "source": [
    "from astropy.io import ascii\n",
    "from astropy.table import vstack,Table,Column\n"
   ]
  },
  {
   "cell_type": "code",
   "execution_count": 2,
   "metadata": {
    "collapsed": false
   },
   "outputs": [],
   "source": [
    "galaxies = Table.read('/home/mel/Documents/GZ_HUBBLE/gzh_red_disks/new_ferengi/data/ferengi_candidates_stage_4_936.fits')"
   ]
  },
  {
   "cell_type": "code",
   "execution_count": 3,
   "metadata": {
    "collapsed": false
   },
   "outputs": [
    {
     "data": {
      "text/plain": [
       "936"
      ]
     },
     "execution_count": 3,
     "metadata": {},
     "output_type": "execute_result"
    }
   ],
   "source": [
    "len(galaxies)"
   ]
  },
  {
   "cell_type": "code",
   "execution_count": 8,
   "metadata": {
    "collapsed": false
   },
   "outputs": [],
   "source": [
    "#if there's more than one source detected in sextractor: select source with largest ISOAREA_IMAGE\n",
    "def trim_table(sextable):\n",
    "    trimmed_sextable=Table()\n",
    "    for name in sextable.colnames:\n",
    "        c0 = Column([x[name] for x in sextable], name=name) \n",
    "        trimmed_sextable.add_columns([c0])\n",
    "    trimmed_sextable.sort('ISOAREA_IMAGE')\n",
    "    \n",
    "    while len(trimmed_sextable)>1:\n",
    "        trimmed_sextable.remove_rows(0)\n",
    "    \n",
    "    return trimmed_sextable\n",
    "\n",
    "#create table of SExtractor measurements\n",
    "def make_table(galaxies,band):\n",
    "    simzs=[3,4,5,6,7,8,9,10]\n",
    "\n",
    "    zero_sources_list = {} #keep track of files with 0 sources detected in SExtractor\n",
    "    for z in simzs:\n",
    "        zero_sources_list[z/10.]=[]\n",
    "    \n",
    "    for i,gal in enumerate(galaxies):\n",
    "        objid = gal['dr12objid']\n",
    "        for simz in simzs:\n",
    "            fname = 'SEx_output_{}/{}_imout_{}_simz_{}_evo_1.cat'.format(band,objid,band,simz)\n",
    "            sex_table = Table.read(fname,format='ascii')\n",
    "        \n",
    "            if len(sex_table)>1: #multiple sources detected, pick out source with largest area\n",
    "                sex_table = trim_table(sex_table)\n",
    "            \n",
    "            if len(sex_table)==1: #we're good, at least 1 and only 1 source \n",
    "                #add some meta to sex tables\n",
    "                c1 = Column([objid],name='dr12objid')\n",
    "                c2 = Column([gal['redshift']],name='redshift')\n",
    "                c3 = Column([simz/10.],name='simz')\n",
    "                sex_table.add_columns([c1,c2,c3],[0,0,0])\n",
    "            \n",
    "            if len(sex_table)==0:\n",
    "                zero_sources_list[simz/10.].append(objid)#keep track of files where no sources are detected :/\n",
    "            \n",
    "            if i==0 and simz==3: #first table! save it for stacking\n",
    "                stacked_table = sex_table\n",
    "            else: #stack table onto current sex table\n",
    "                stacked_table = vstack([stacked_table,sex_table])\n",
    "            \n",
    "        if i%50==0:\n",
    "            print '{} galaxies done'.format(i)\n",
    "            \n",
    "    stacked_table.remove_column('NUMBER') #useless column\n",
    "        \n",
    "    #add _band to columns for clarity!\n",
    "    for name in stacked_table.colnames:\n",
    "        if name != 'dr12objid' and name!= 'redshift' and name!= 'simz':\n",
    "            stacked_table.rename_column(name, name+'_'+band)\n",
    "\n",
    "\n",
    "            \n",
    "    return stacked_table, zero_sources_list"
   ]
  },
  {
   "cell_type": "markdown",
   "metadata": {},
   "source": [
    "## Create I,V band measurements table"
   ]
  },
  {
   "cell_type": "code",
   "execution_count": 9,
   "metadata": {
    "collapsed": false,
    "scrolled": true
   },
   "outputs": [
    {
     "name": "stdout",
     "output_type": "stream",
     "text": [
      "0 galaxies done\n",
      "50 galaxies done\n",
      "100 galaxies done\n",
      "150 galaxies done\n",
      "200 galaxies done\n",
      "250 galaxies done\n",
      "300 galaxies done\n",
      "350 galaxies done\n",
      "400 galaxies done\n",
      "450 galaxies done\n",
      "500 galaxies done\n",
      "550 galaxies done\n",
      "600 galaxies done\n",
      "650 galaxies done\n",
      "700 galaxies done\n",
      "750 galaxies done\n",
      "800 galaxies done\n",
      "850 galaxies done\n",
      "900 galaxies done\n"
     ]
    }
   ],
   "source": [
    "table_I, zero_sources_list_I = make_table(galaxies,'I')"
   ]
  },
  {
   "cell_type": "code",
   "execution_count": 37,
   "metadata": {
    "collapsed": false
   },
   "outputs": [
    {
     "name": "stdout",
     "output_type": "stream",
     "text": [
      "0 galaxies done\n",
      "50 galaxies done\n",
      "100 galaxies done\n",
      "150 galaxies done\n",
      "200 galaxies done\n",
      "250 galaxies done\n",
      "300 galaxies done\n",
      "350 galaxies done\n",
      "400 galaxies done\n",
      "450 galaxies done\n",
      "500 galaxies done\n",
      "550 galaxies done\n",
      "600 galaxies done\n",
      "650 galaxies done\n",
      "700 galaxies done\n",
      "750 galaxies done\n",
      "800 galaxies done\n",
      "850 galaxies done\n",
      "900 galaxies done\n"
     ]
    }
   ],
   "source": [
    "table_V, zero_sources_list_V = make_table(galaxies,'V')"
   ]
  },
  {
   "cell_type": "code",
   "execution_count": 12,
   "metadata": {
    "collapsed": false
   },
   "outputs": [
    {
     "name": "stdout",
     "output_type": "stream",
     "text": [
      "2 missing at redshfit 0.3\n",
      "11 missing at redshfit 0.4\n",
      "36 missing at redshfit 0.5\n",
      "63 missing at redshfit 0.6\n",
      "92 missing at redshfit 0.7\n",
      "128 missing at redshfit 0.8\n",
      "173 missing at redshfit 0.9\n",
      "208 missing at redshfit 1.0\n"
     ]
    }
   ],
   "source": [
    "simzs=[3,4,5,6,7,8,9,10]\n",
    "\n",
    "for z in simzs:\n",
    "    print '{} missing at redshfit {}'.format(len(zero_sources_list_I[z/10.]),z/10.)"
   ]
  },
  {
   "cell_type": "code",
   "execution_count": 38,
   "metadata": {
    "collapsed": false
   },
   "outputs": [
    {
     "name": "stdout",
     "output_type": "stream",
     "text": [
      "4 missing at redshfit 0.3\n",
      "20 missing at redshfit 0.4\n",
      "46 missing at redshfit 0.5\n",
      "84 missing at redshfit 0.6\n",
      "140 missing at redshfit 0.7\n",
      "185 missing at redshfit 0.8\n",
      "229 missing at redshfit 0.9\n",
      "249 missing at redshfit 1.0\n"
     ]
    }
   ],
   "source": [
    "for z in simzs:\n",
    "    print '{} missing at redshfit {}'.format(len(zero_sources_list_V[z/10.]),z/10.)"
   ]
  },
  {
   "cell_type": "code",
   "execution_count": 42,
   "metadata": {
    "collapsed": false
   },
   "outputs": [],
   "source": [
    "all_missing_I = zero_sources_list_I[.3]+ zero_sources_list_I[.4]+ zero_sources_list_I[.5]+zero_sources_list_I[.6]+ zero_sources_list_I[.7]+ zero_sources_list_I[.8]+ zero_sources_list_I[.9]+zero_sources_list_I[1.0]\n",
    "all_unique_missing_I = list(set(all_missing_I))\n",
    "all_missing_V = zero_sources_list_V[.3]+ zero_sources_list_V[.4]+ zero_sources_list_V[.5]+zero_sources_list_V[.6]+ zero_sources_list_V[.7]+ zero_sources_list_V[.8]+ zero_sources_list_V[.9]+zero_sources_list_V[1.0]\n",
    "all_unique_missing_V = list(set(all_missing_V))"
   ]
  },
  {
   "cell_type": "code",
   "execution_count": 45,
   "metadata": {
    "collapsed": true
   },
   "outputs": [],
   "source": [
    "table_I.write('ferengi2_I.fits')\n",
    "table_V.write('ferengi2_V.fits')"
   ]
  },
  {
   "cell_type": "code",
   "execution_count": 20,
   "metadata": {
    "collapsed": false,
    "scrolled": false
   },
   "outputs": [],
   "source": [
    "# get pictures of galaxies that got ferengied into oblivion\n",
    "import matplotlib.gridspec as gridspec\n",
    "import Image\n",
    "import ImageOps\n",
    "import matplotlib.pyplot as plt\n",
    "import urllib, cStringIO\n",
    "\n",
    "plt.rcParams['text.usetex']=True\n"
   ]
  },
  {
   "cell_type": "code",
   "execution_count": 44,
   "metadata": {
    "collapsed": false
   },
   "outputs": [
    {
     "data": {
      "text/plain": [
       "322"
      ]
     },
     "execution_count": 44,
     "metadata": {},
     "output_type": "execute_result"
    }
   ],
   "source": []
  },
  {
   "cell_type": "code",
   "execution_count": 21,
   "metadata": {
    "collapsed": false
   },
   "outputs": [],
   "source": [
    "#get galaxy filename\n",
    "def image_from_file(objid,z):\n",
    "    f = '../Ferengi2Sample/Images/{:d}_simz_{:d}_evo_1.jpg'.format(objid,z)\n",
    "    img = Image.open(f)\n",
    "\n",
    "    return img\n",
    "#function for getting galaxy images\n",
    "def image_from_url(gal):\n",
    "    \n",
    "    pixelsize=0.396\n",
    "    height=500\n",
    "    width=500\n",
    "\n",
    "    scale=2.5*gal['petror90_r']/pixelsize/width\n",
    "    # form wurl to query SDSS web sevice to generate cutout image\n",
    "    cutOutImageUrl=\"http://skyservice.pha.jhu.edu/DR12/ImgCutout/getjpeg.aspx?ra=\" + str(gal['RA'])\n",
    "    cutOutImageUrl += \"&dec=\" + str(gal['DEC']) + \"&scale=\"\"\" + str(scale) + \"&width=\" + str(width)\n",
    "    cutOutImageUrl += \"&height=\" + str(height)\n",
    "    \n",
    "    file = cStringIO.StringIO(urllib.urlopen(cutOutImageUrl).read())\n",
    "    img = Image.open(file)    \n",
    "    return img"
   ]
  },
  {
   "cell_type": "code",
   "execution_count": 35,
   "metadata": {
    "collapsed": false
   },
   "outputs": [],
   "source": [
    "zs = [3,4,5,6,7,8,9,10]\n",
    "f = plt.figure(figsize=(25,160))\n",
    "gs = gridspec.GridSpec(50,9)\n",
    "gs.update(wspace=0)\n",
    "\n",
    "for j in range(0,50):\n",
    "    objid = all_unique_missing[j]\n",
    "    gal = galaxies[galaxies['dr12objid']==objid][0]\n",
    "    #gal = galaxies[j]\n",
    "    objid = gal['dr12objid']\n",
    "    #first cell: original image\n",
    "    ax = plt.subplot(gs[j,0])\n",
    "    plt.imshow(image_from_url(gal))\n",
    "\n",
    "    plt.tick_params(labelleft='off',labelbottom='off')\n",
    "    plt.title('z={:.3} (sdss gri)'.format(gal['redshift']),fontsize=15)\n",
    "    plt.ylabel('{:d}'.format(gal['dr12objid']),fontsize=15)\n",
    "\n",
    "    #next: ferengified images at z=0.3, 0.6, 1.0\n",
    "    for i,z in enumerate(zs):\n",
    "        ax = plt.subplot(gs[j,i+1])\n",
    "        plt.imshow(image_from_file(gal['dr12objid'],z))\n",
    "        \n",
    "        #check if detected or not\n",
    "        if objid in zero_sources_list_I[z/10.]:\n",
    "            ax.text(.1,.08,r'X',fontsize=20,color='w',transform=ax.transAxes)\n",
    "\n",
    "        plt.tick_params(labelleft='off',labelbottom='off')\n",
    "        plt.title('z={}'.format(z/10.),fontsize=20)\n",
    "        \n",
    "plt.savefig('50_undetected_galaxies.pdf')"
   ]
  },
  {
   "cell_type": "code",
   "execution_count": null,
   "metadata": {
    "collapsed": false
   },
   "outputs": [],
   "source": []
  },
  {
   "cell_type": "code",
   "execution_count": 74,
   "metadata": {
    "collapsed": false
   },
   "outputs": [],
   "source": [
    "stacked_table.remove_column('NUMBER')\n"
   ]
  },
  {
   "cell_type": "code",
   "execution_count": 80,
   "metadata": {
    "collapsed": false
   },
   "outputs": [],
   "source": [
    "#add _V to columns for clarity!\n",
    "for name in stacked_table.colnames:\n",
    "    if name != 'dr12objid' and name!= 'redshift' and name!= 'simz':\n",
    "        stacked_table.rename_column(name, name+'_V')\n"
   ]
  },
  {
   "cell_type": "code",
   "execution_count": 77,
   "metadata": {
    "collapsed": false
   },
   "outputs": [],
   "source": [
    "stacked_table.write('test_sex.fits')"
   ]
  },
  {
   "cell_type": "code",
   "execution_count": 41,
   "metadata": {
    "collapsed": false
   },
   "outputs": [
    {
     "data": {
      "text/html": [
       "&lt;Table masked=True length=6810&gt;\n",
       "<table id=\"table139934355312912\">\n",
       "<thead><tr><th>dr12objid</th><th>redshift</th><th>simz</th><th>NUMBER</th><th>X_IMAGE</th><th>Y_IMAGE</th><th>BACKGROUND</th><th>ISOAREA_IMAGE</th><th>FLUX_ISO</th><th>FLUXERR_ISO</th><th>MAG_ISO</th><th>MAGERR_ISO</th><th>FLUX_ISOCOR</th><th>FLUXERR_ISOCOR</th><th>MAG_ISOCOR</th><th>MAGERR_ISOCOR</th><th>FLUX_APER</th><th>FLUX_APER_1</th><th>FLUX_APER_2</th><th>FLUXERR_APER</th><th>FLUXERR_APER_1</th><th>FLUXERR_APER_2</th><th>MAG_APER</th><th>MAG_APER_1</th><th>MAG_APER_2</th><th>MAGERR_APER</th><th>MAGERR_APER_1</th><th>MAGERR_APER_2</th><th>FLUX_AUTO</th><th>FLUXERR_AUTO</th><th>MAG_AUTO</th><th>MAGERR_AUTO</th><th>FLUX_PETRO</th><th>FLUXERR_PETRO</th><th>MAG_PETRO</th><th>MAGERR_PETRO</th><th>FLUX_BEST</th><th>FLUXERR_BEST</th><th>MAG_BEST</th><th>MAGERR_BEST</th><th>PETRO_RADIUS</th><th>KRON_RADIUS</th><th>FLUX_RADIUS</th><th>FLUX_RADIUS_1</th><th>THRESHOLD</th><th>MU_THRESHOLD</th><th>FLUX_MAX</th><th>MU_MAX</th><th>ISOAREA_WORLD</th><th>A_IMAGE</th><th>ERRA_IMAGE</th><th>B_IMAGE</th><th>ERRB_IMAGE</th><th>THETA_IMAGE</th><th>ERRTHETA_IMAGE</th><th>ELONGATION</th><th>ELLIPTICITY</th><th>FWHM_IMAGE</th><th>FLAGS</th><th>CLASS_STAR</th></tr></thead>\n",
       "<thead><tr><th></th><th></th><th></th><th></th><th>pix</th><th>pix</th><th>ct</th><th>pix2</th><th>ct</th><th>ct</th><th>mag</th><th>mag</th><th>ct</th><th>ct</th><th>mag</th><th>mag</th><th></th><th></th><th></th><th></th><th></th><th></th><th>mag</th><th>mag</th><th>mag</th><th></th><th></th><th></th><th>ct</th><th>ct</th><th>mag</th><th>mag</th><th>ct</th><th>ct</th><th>mag</th><th>mag</th><th>ct</th><th>ct</th><th>mag</th><th>mag</th><th></th><th></th><th>pix</th><th>pix</th><th>ct</th><th>mag / arcsec2</th><th>ct</th><th>mag / arcsec2</th><th>deg2</th><th>pix</th><th>pixelstat.stdev;stat.max;pos.errorEllipse;instr.det;meta.main</th><th>pix</th><th>pix</th><th></th><th></th><th></th><th></th><th>pix</th><th></th><th></th></tr></thead>\n",
       "<thead><tr><th>int64</th><th>float64</th><th>float64</th><th>int64</th><th>float64</th><th>float64</th><th>float64</th><th>int64</th><th>float64</th><th>float64</th><th>float64</th><th>float64</th><th>float64</th><th>float64</th><th>float64</th><th>float64</th><th>float64</th><th>float64</th><th>float64</th><th>float64</th><th>float64</th><th>float64</th><th>float64</th><th>float64</th><th>float64</th><th>float64</th><th>float64</th><th>float64</th><th>float64</th><th>float64</th><th>float64</th><th>float64</th><th>float64</th><th>float64</th><th>float64</th><th>float64</th><th>float64</th><th>float64</th><th>float64</th><th>float64</th><th>float64</th><th>float64</th><th>float64</th><th>float64</th><th>float64</th><th>float64</th><th>float64</th><th>float64</th><th>float64</th><th>float64</th><th>float64</th><th>float64</th><th>float64</th><th>float64</th><th>float64</th><th>float64</th><th>float64</th><th>float64</th><th>int64</th><th>float64</th></tr></thead>\n",
       "<tr><td>1237648702977343535</td><td>0.004585617</td><td>0.3</td><td>1</td><td>128.71</td><td>130.456</td><td>0.001162834</td><td>12266</td><td>195.2964</td><td>12.41367</td><td>20.2083</td><td>0.069</td><td>211.7845</td><td>12.49446</td><td>20.1203</td><td>0.0641</td><td>1.535077</td><td>5.398649</td><td>16.54606</td><td>1.420469</td><td>2.355532</td><td>3.907449</td><td>25.4697</td><td>24.1043</td><td>22.8883</td><td>1.0049</td><td>0.4738</td><td>0.2565</td><td>197.7057</td><td>12.50264</td><td>20.195</td><td>0.0687</td><td>209.8166</td><td>12.83953</td><td>20.1304</td><td>0.0665</td><td>197.7057</td><td>12.50264</td><td>20.195</td><td>0.0687</td><td>2.97</td><td>2.54</td><td>33.34</td><td>60.988</td><td>0.003321437</td><td>24.4324</td><td>0.2612647</td><td>19.7779</td><td>8.518055e-07</td><td>31.828</td><td>1.6192</td><td>22.501</td><td>1.1448</td><td>13.6</td><td>13.6</td><td>1.415</td><td>0.293</td><td>160.66</td><td>24</td><td>0.0</td></tr>\n",
       "<tr><td>1237648702977343535</td><td>0.004585617</td><td>0.4</td><td>1</td><td>107.988</td><td>109.124</td><td>0.001038505</td><td>7208</td><td>91.04177</td><td>8.952382</td><td>21.0369</td><td>0.1068</td><td>102.3983</td><td>9.079308</td><td>20.9093</td><td>0.0963</td><td>1.017444</td><td>3.452039</td><td>10.45768</td><td>1.154934</td><td>1.938155</td><td>3.209253</td><td>25.9162</td><td>24.5898</td><td>23.3864</td><td>1.2328</td><td>0.6097</td><td>0.3333</td><td>98.18604</td><td>9.334012</td><td>20.9549</td><td>0.1032</td><td>101.8736</td><td>9.515512</td><td>20.9148</td><td>0.1014</td><td>98.18604</td><td>9.334012</td><td>20.9549</td><td>0.1032</td><td>2.97</td><td>2.71</td><td>28.359</td><td>51.517</td><td>0.003355414</td><td>24.568</td><td>0.1398651</td><td>20.4563</td><td>5.005555e-07</td><td>26.177</td><td>1.9517</td><td>17.414</td><td>1.2984</td><td>11.7</td><td>11.7</td><td>1.503</td><td>0.335</td><td>128.18</td><td>24</td><td>0.0</td></tr>\n",
       "<tr><td>1237648702977343535</td><td>0.004585617</td><td>0.5</td><td>1</td><td>94.997</td><td>96.698</td><td>0.0006154832</td><td>4943</td><td>54.24776</td><td>4.233837</td><td>21.599</td><td>0.0848</td><td>64.16037</td><td>4.359529</td><td>21.4168</td><td>0.0738</td><td>0.6481047</td><td>2.243293</td><td>7.002924</td><td>0.5297294</td><td>0.9104784</td><td>1.524937</td><td>26.4059</td><td>25.0578</td><td>23.8218</td><td>0.8876</td><td>0.4408</td><td>0.2365</td><td>60.82948</td><td>4.50807</td><td>21.4747</td><td>0.0805</td><td>64.14838</td><td>4.682272</td><td>21.417</td><td>0.0793</td><td>60.82948</td><td>4.50807</td><td>21.4747</td><td>0.0805</td><td>3.3</td><td>2.89</td><td>26.568</td><td>48.694</td><td>0.003214099</td><td>24.2606</td><td>0.08913338</td><td>20.9455</td><td>3.432639e-07</td><td>23.714</td><td>2.3042</td><td>15.362</td><td>1.4927</td><td>10.0</td><td>10.0</td><td>1.544</td><td>0.352</td><td>114.59</td><td>24</td><td>0.0</td></tr>\n",
       "<tr><td>1237648702977343535</td><td>0.004585617</td><td>0.6</td><td>1</td><td>86.691</td><td>88.501</td><td>0.0007444824</td><td>3487</td><td>31.38391</td><td>3.689041</td><td>22.1932</td><td>0.1277</td><td>37.86599</td><td>3.824355</td><td>21.9894</td><td>0.1097</td><td>0.4489709</td><td>1.602317</td><td>5.010831</td><td>0.5522427</td><td>0.9021474</td><td>1.536222</td><td>26.8045</td><td>25.4231</td><td>24.1852</td><td>1.3358</td><td>0.6114</td><td>0.3329</td><td>37.75096</td><td>4.091749</td><td>21.9927</td><td>0.1177</td><td>44.37551</td><td>4.639255</td><td>21.8171</td><td>0.1135</td><td>37.75096</td><td>4.091749</td><td>21.9927</td><td>0.1177</td><td>4.62</td><td>3.06</td><td>24.362</td><td>44.732</td><td>0.002818648</td><td>24.4526</td><td>0.04721212</td><td>21.6355</td><td>2.421528e-07</td><td>21.499</td><td>2.7283</td><td>12.889</td><td>1.6357</td><td>11.3</td><td>11.3</td><td>1.668</td><td>0.4</td><td>99.93</td><td>16</td><td>0.0</td></tr>\n",
       "<tr><td>1237648702977343535</td><td>0.004585617</td><td>0.7</td><td>1</td><td>83.912</td><td>83.364</td><td>0.0005954842</td><td>2742</td><td>20.31112</td><td>3.486026</td><td>22.6657</td><td>0.1864</td><td>25.63143</td><td>3.677888</td><td>22.4131</td><td>0.1558</td><td>0.2781035</td><td>1.077242</td><td>3.524239</td><td>0.5072261</td><td>0.904768</td><td>1.535907</td><td>27.3245</td><td>25.8542</td><td>24.5673</td><td>1.9807</td><td>0.9121</td><td>0.4733</td><td>26.93837</td><td>4.066664</td><td>22.3591</td><td>0.1639</td><td>33.16381</td><td>4.717338</td><td>22.1333</td><td>0.1545</td><td>26.93837</td><td>4.066664</td><td>22.3591</td><td>0.1639</td><td>5.28</td><td>3.43</td><td>23.972</td><td>43.444</td><td>0.002632352</td><td>24.6541</td><td>0.02618596</td><td>22.2754</td><td>1.904167e-07</td><td>17.977</td><td>2.8762</td><td>11.995</td><td>1.9191</td><td>13.0</td><td>13.0</td><td>1.499</td><td>0.333</td><td>88.16</td><td>16</td><td>0.0</td></tr>\n",
       "<tr><td>1237648702977343535</td><td>0.004585617</td><td>0.8</td><td>1</td><td>80.302</td><td>78.129</td><td>0.0006646567</td><td>1805</td><td>12.00516</td><td>2.618698</td><td>23.2366</td><td>0.2369</td><td>17.25155</td><td>2.938296</td><td>22.8429</td><td>0.185</td><td>0.2191827</td><td>0.7453451</td><td>2.566566</td><td>0.435173</td><td>0.728327</td><td>1.278616</td><td>27.583</td><td>26.2541</td><td>24.9116</td><td>2.1562</td><td>1.0612</td><td>0.541</td><td>18.36205</td><td>3.305541</td><td>22.7752</td><td>0.1955</td><td>22.57561</td><td>3.858496</td><td>22.5509</td><td>0.1856</td><td>18.36205</td><td>3.305541</td><td>22.7752</td><td>0.1955</td><td>5.28</td><td>3.69</td><td>22.804</td><td>40.633</td><td>0.002881845</td><td>24.6568</td><td>0.01940964</td><td>22.6006</td><td>1.253472e-07</td><td>16.124</td><td>3.3617</td><td>10.121</td><td>2.1101</td><td>11.2</td><td>11.2</td><td>1.593</td><td>0.372</td><td>76.69</td><td>16</td><td>0.0</td></tr>\n",
       "<tr><td>1237648702977343535</td><td>0.004585617</td><td>0.9</td><td>1</td><td>75.242</td><td>74.484</td><td>0.0005608941</td><td>1285</td><td>7.891201</td><td>2.03963</td><td>23.6921</td><td>0.2807</td><td>12.72761</td><td>2.429062</td><td>23.1731</td><td>0.2073</td><td>0.1492389</td><td>0.5875764</td><td>1.872275</td><td>0.3621903</td><td>0.6108738</td><td>1.050454</td><td>28.0003</td><td>26.5123</td><td>25.2541</td><td>2.6356</td><td>1.1291</td><td>0.6093</td><td>14.39759</td><td>2.812128</td><td>23.0393</td><td>0.2121</td><td>17.53226</td><td>3.208704</td><td>22.8254</td><td>0.1988</td><td>14.39759</td><td>2.812128</td><td>23.0393</td><td>0.2121</td><td>5.28</td><td>4.12</td><td>22.956</td><td>41.826</td><td>0.002913507</td><td>24.6564</td><td>0.01566795</td><td>22.8331</td><td>8.923611e-08</td><td>13.386</td><td>3.4859</td><td>9.95</td><td>2.591</td><td>1.5</td><td>1.5</td><td>1.345</td><td>0.257</td><td>69.28</td><td>16</td><td>0.0</td></tr>\n",
       "<tr><td>1237648702977343535</td><td>0.004585617</td><td>1.0</td><td>1</td><td>71.473</td><td>72.993</td><td>0.0005241591</td><td>682</td><td>4.327018</td><td>1.42659</td><td>24.3445</td><td>0.358</td><td>7.753554</td><td>1.79225</td><td>23.7112</td><td>0.251</td><td>0.1300195</td><td>0.4351966</td><td>1.390722</td><td>0.3077217</td><td>0.5049331</td><td>0.8569829</td><td>28.15</td><td>26.8383</td><td>25.5769</td><td>2.5703</td><td>1.26</td><td>0.6692</td><td>10.54737</td><td>2.26938</td><td>23.3771</td><td>0.2337</td><td>12.00379</td><td>2.463875</td><td>23.2367</td><td>0.2229</td><td>10.54737</td><td>2.26938</td><td>23.3771</td><td>0.2337</td><td>5.28</td><td>4.53</td><td>22.63</td><td>40.376</td><td>0.002900388</td><td>24.6152</td><td>0.01364632</td><td>22.9831</td><td>4.736111e-08</td><td>11.612</td><td>4.1714</td><td>8.151</td><td>2.9281</td><td>7.2</td><td>7.2</td><td>1.425</td><td>0.298</td><td>58.4</td><td>0</td><td>0.0</td></tr>\n",
       "<tr><td>1237648702984683605</td><td>0.006297647</td><td>0.3</td><td>1</td><td>38.022</td><td>38.11</td><td>0.0004130838</td><td>1362</td><td>17.10028</td><td>2.924254</td><td>22.8525</td><td>0.1857</td><td>18.06801</td><td>2.932521</td><td>22.7927</td><td>0.1763</td><td>1.856378</td><td>5.298585</td><td>10.98582</td><td>1.15992</td><td>1.771767</td><td>2.407531</td><td>25.2633</td><td>24.1246</td><td>23.3329</td><td>0.6786</td><td>0.3631</td><td>0.238</td><td>14.62273</td><td>2.704035</td><td>23.0224</td><td>0.2008</td><td>16.69983</td><td>2.88979</td><td>22.8782</td><td>0.1879</td><td>18.06801</td><td>2.932521</td><td>22.7927</td><td>0.1763</td><td>2.97</td><td>2.14</td><td>6.513</td><td>13.158</td><td>0.001828386</td><td>25.1654</td><td>0.1136973</td><td>20.6812</td><td>9.458333e-08</td><td>8.066</td><td>1.3863</td><td>7.158</td><td>1.2303</td><td>24.4</td><td>24.4</td><td>1.127</td><td>0.112</td><td>10.75</td><td>17</td><td>0.03</td></tr>\n",
       "<tr><td>...</td><td>...</td><td>...</td><td>...</td><td>...</td><td>...</td><td>...</td><td>...</td><td>...</td><td>...</td><td>...</td><td>...</td><td>...</td><td>...</td><td>...</td><td>...</td><td>...</td><td>...</td><td>...</td><td>...</td><td>...</td><td>...</td><td>...</td><td>...</td><td>...</td><td>...</td><td>...</td><td>...</td><td>...</td><td>...</td><td>...</td><td>...</td><td>...</td><td>...</td><td>...</td><td>...</td><td>...</td><td>...</td><td>...</td><td>...</td><td>...</td><td>...</td><td>...</td><td>...</td><td>...</td><td>...</td><td>...</td><td>...</td><td>...</td><td>...</td><td>...</td><td>...</td><td>...</td><td>...</td><td>...</td><td>...</td><td>...</td><td>...</td><td>...</td><td>...</td></tr>\n",
       "<tr><td>1237674475439783956</td><td>0.004993734</td><td>0.5</td><td>1</td><td>10.137</td><td>10.175</td><td>0.001311294</td><td>65</td><td>1.362923</td><td>0.8258079</td><td>25.5988</td><td>0.658</td><td>1.613075</td><td>0.850771</td><td>25.4159</td><td>0.5728</td><td>0.7519071</td><td>1.401098</td><td>1.770582</td><td>0.6974912</td><td>0.8680655</td><td>0.9561487</td><td>26.2446</td><td>25.5688</td><td>25.3147</td><td>1.0074</td><td>0.6728</td><td>0.5865</td><td>1.411318</td><td>0.8403732</td><td>25.5609</td><td>0.6467</td><td>1.560188</td><td>0.8837398</td><td>25.4521</td><td>0.6151</td><td>1.411318</td><td>0.8403732</td><td>25.5609</td><td>0.6467</td><td>3.3</td><td>2.65</td><td>2.391</td><td>4.302</td><td>0.006662897</td><td>23.7614</td><td>0.07235672</td><td>21.1719</td><td>4.513889e-09</td><td>1.943</td><td>1.1902</td><td>1.898</td><td>1.1622</td><td>60.2</td><td>60.1</td><td>1.024</td><td>0.024</td><td>4.27</td><td>16</td><td>0.22</td></tr>\n",
       "<tr><td>1237674475439783956</td><td>0.004993734</td><td>0.6</td><td>1</td><td>9.559</td><td>9.675</td><td>0.001378594</td><td>52</td><td>0.7972984</td><td>0.6315523</td><td>26.1809</td><td>0.8602</td><td>0.9485434</td><td>0.6515996</td><td>25.9924</td><td>0.746</td><td>0.4672435</td><td>0.8571104</td><td>1.073293</td><td>0.55355</td><td>0.6717913</td><td>0.7518414</td><td>26.7611</td><td>26.1024</td><td>25.8582</td><td>1.2866</td><td>0.8512</td><td>0.7607</td><td>0.8543111</td><td>0.6537802</td><td>26.106</td><td>0.8311</td><td>0.9230273</td><td>0.6798382</td><td>26.022</td><td>0.7999</td><td>0.8543111</td><td>0.6537802</td><td>26.106</td><td>0.8311</td><td>3.3</td><td>2.74</td><td>2.32</td><td>4.134</td><td>0.004707088</td><td>24.1387</td><td>0.04384248</td><td>21.7159</td><td>3.611111e-09</td><td>1.844</td><td>1.4817</td><td>1.759</td><td>1.4133</td><td>-22.8</td><td>-22.8</td><td>1.048</td><td>0.046</td><td>4.5</td><td>16</td><td>0.34</td></tr>\n",
       "<tr><td>1237674650458193981</td><td>0.006033491</td><td>0.3</td><td>1</td><td>29.001</td><td>28.891</td><td>0.0007306172</td><td>478</td><td>12.35882</td><td>2.486137</td><td>23.2051</td><td>0.2185</td><td>13.1151</td><td>2.494643</td><td>23.1406</td><td>0.2066</td><td>2.596019</td><td>6.5272</td><td>10.96498</td><td>1.348344</td><td>1.934842</td><td>2.383132</td><td>24.8992</td><td>23.8982</td><td>23.335</td><td>0.5641</td><td>0.3219</td><td>0.236</td><td>11.58132</td><td>2.406605</td><td>23.2756</td><td>0.2257</td><td>12.33967</td><td>2.484221</td><td>23.2067</td><td>0.2186</td><td>11.58132</td><td>2.406605</td><td>23.2756</td><td>0.2257</td><td>2.97</td><td>2.51</td><td>4.476</td><td>9.081</td><td>0.004233892</td><td>24.2538</td><td>0.1745237</td><td>20.216</td><td>3.319444e-08</td><td>5.179</td><td>1.0447</td><td>3.686</td><td>0.7435</td><td>70.3</td><td>70.3</td><td>1.405</td><td>0.288</td><td>7.82</td><td>16</td><td>0.03</td></tr>\n",
       "<tr><td>1237674650458193981</td><td>0.006033491</td><td>0.4</td><td>1</td><td>24.395</td><td>24.184</td><td>0.001249357</td><td>264</td><td>5.836584</td><td>1.708514</td><td>24.0196</td><td>0.3179</td><td>6.254152</td><td>1.716574</td><td>23.9446</td><td>0.2981</td><td>1.591704</td><td>3.76399</td><td>5.844774</td><td>1.078534</td><td>1.450929</td><td>1.729385</td><td>25.4303</td><td>24.4959</td><td>24.0181</td><td>0.7359</td><td>0.4186</td><td>0.3213</td><td>5.445842</td><td>1.650293</td><td>24.0948</td><td>0.3291</td><td>5.680679</td><td>1.685526</td><td>24.049</td><td>0.3222</td><td>5.445842</td><td>1.650293</td><td>24.0948</td><td>0.3291</td><td>2.64</td><td>2.4</td><td>3.711</td><td>7.033</td><td>0.00400594</td><td>24.3138</td><td>0.1146058</td><td>20.6726</td><td>1.833333e-08</td><td>4.007</td><td>1.1789</td><td>2.945</td><td>0.8665</td><td>69.9</td><td>69.9</td><td>1.36</td><td>0.265</td><td>6.86</td><td>16</td><td>0.03</td></tr>\n",
       "<tr><td>1237674650458193981</td><td>0.006033491</td><td>0.5</td><td>1</td><td>21.208</td><td>21.065</td><td>0.001084064</td><td>193</td><td>3.408918</td><td>1.305752</td><td>24.6035</td><td>0.416</td><td>3.769007</td><td>1.319297</td><td>24.4944</td><td>0.3801</td><td>1.045641</td><td>2.379993</td><td>3.583464</td><td>0.8468799</td><td>1.153227</td><td>1.356756</td><td>25.8865</td><td>24.9936</td><td>24.5492</td><td>0.8796</td><td>0.5262</td><td>0.4112</td><td>3.344934</td><td>1.293442</td><td>24.624</td><td>0.4199</td><td>3.674617</td><td>1.355904</td><td>24.522</td><td>0.4007</td><td>3.344934</td><td>1.293442</td><td>24.624</td><td>0.4199</td><td>3.3</td><td>2.65</td><td>3.559</td><td>6.885</td><td>0.00389738</td><td>24.3437</td><td>0.07914027</td><td>21.0746</td><td>1.340278e-08</td><td>3.589</td><td>1.3855</td><td>2.77</td><td>1.0695</td><td>64.8</td><td>64.8</td><td>1.295</td><td>0.228</td><td>6.61</td><td>16</td><td>0.02</td></tr>\n",
       "<tr><td>1237674650458193981</td><td>0.006033491</td><td>0.6</td><td>1</td><td>19.62</td><td>19.371</td><td>0.001034305</td><td>145</td><td>2.184179</td><td>1.045213</td><td>25.0868</td><td>0.5197</td><td>2.471257</td><td>1.061833</td><td>24.9527</td><td>0.4666</td><td>0.7561069</td><td>1.655663</td><td>2.423631</td><td>0.7294609</td><td>0.9574342</td><td>1.112777</td><td>26.2385</td><td>25.3876</td><td>24.9738</td><td>1.0477</td><td>0.628</td><td>0.4986</td><td>2.260121</td><td>1.063278</td><td>25.0497</td><td>0.5109</td><td>2.409159</td><td>1.098453</td><td>24.9803</td><td>0.4952</td><td>2.260121</td><td>1.063278</td><td>25.0497</td><td>0.5109</td><td>3.3</td><td>2.81</td><td>3.394</td><td>6.582</td><td>0.003826573</td><td>24.3636</td><td>0.05738319</td><td>21.4236</td><td>1.006944e-08</td><td>3.061</td><td>1.4765</td><td>2.593</td><td>1.251</td><td>66.2</td><td>66.2</td><td>1.18</td><td>0.153</td><td>6.49</td><td>16</td><td>0.02</td></tr>\n",
       "<tr><td>1237674650458193981</td><td>0.006033491</td><td>0.7</td><td>1</td><td>18.289</td><td>17.943</td><td>0.0008536601</td><td>133</td><td>1.593377</td><td>0.8927342</td><td>25.4292</td><td>0.6085</td><td>1.859391</td><td>0.9150038</td><td>25.2616</td><td>0.5344</td><td>0.5372134</td><td>1.193597</td><td>1.786631</td><td>0.6054114</td><td>0.8133836</td><td>0.9589878</td><td>26.6096</td><td>25.7429</td><td>25.3049</td><td>1.2239</td><td>0.7401</td><td>0.5829</td><td>1.730785</td><td>0.9311656</td><td>25.3394</td><td>0.5843</td><td>1.75912</td><td>0.9391189</td><td>25.3218</td><td>0.5798</td><td>1.730785</td><td>0.9311656</td><td>25.3394</td><td>0.5843</td><td>3.3</td><td>3.15</td><td>3.616</td><td>7.106</td><td>0.003452108</td><td>24.4754</td><td>0.04205148</td><td>21.7612</td><td>9.236111e-09</td><td>3.173</td><td>1.8079</td><td>2.456</td><td>1.3994</td><td>57.4</td><td>57.4</td><td>1.292</td><td>0.226</td><td>7.54</td><td>16</td><td>0.02</td></tr>\n",
       "<tr><td>1237674650458193981</td><td>0.006033491</td><td>0.8</td><td>1</td><td>17.843</td><td>17.469</td><td>0.0006108384</td><td>137</td><td>1.319001</td><td>0.8122199</td><td>25.6344</td><td>0.6687</td><td>1.55754</td><td>0.835607</td><td>25.4539</td><td>0.5826</td><td>0.4185867</td><td>0.9454288</td><td>1.465927</td><td>0.5416722</td><td>0.7222137</td><td>0.8696632</td><td>26.8805</td><td>25.9959</td><td>25.5197</td><td>1.4053</td><td>0.8296</td><td>0.6443</td><td>1.439794</td><td>0.8495345</td><td>25.5392</td><td>0.6408</td><td>1.41274</td><td>0.8411041</td><td>25.5598</td><td>0.6466</td><td>1.439794</td><td>0.8495345</td><td>25.5392</td><td>0.6408</td><td>2.97</td><td>3.12</td><td>3.827</td><td>7.502</td><td>0.002798653</td><td>24.7032</td><td>0.03307195</td><td>22.022</td><td>9.513888e-09</td><td>3.211</td><td>2.0229</td><td>2.666</td><td>1.6792</td><td>52.4</td><td>52.4</td><td>1.205</td><td>0.17</td><td>9.57</td><td>16</td><td>0.03</td></tr>\n",
       "<tr><td>1237674650458193981</td><td>0.006033491</td><td>0.9</td><td>1</td><td>16.947</td><td>16.207</td><td>0.0005700971</td><td>102</td><td>0.8576185</td><td>0.6549563</td><td>26.1018</td><td>0.8294</td><td>1.059878</td><td>0.6852163</td><td>25.8719</td><td>0.7021</td><td>0.3046277</td><td>0.7008026</td><td>1.102509</td><td>0.4621589</td><td>0.6321771</td><td>0.7604614</td><td>27.2256</td><td>26.321</td><td>25.829</td><td>1.6476</td><td>0.9797</td><td>0.7491</td><td>1.067713</td><td>0.7332816</td><td>25.8639</td><td>0.7458</td><td>1.119108</td><td>0.7543297</td><td>25.8128</td><td>0.732</td><td>1.067713</td><td>0.7332816</td><td>25.8639</td><td>0.7458</td><td>3.96</td><td>3.54</td><td>3.888</td><td>7.763</td><td>0.002960852</td><td>24.6421</td><td>0.02399257</td><td>22.3704</td><td>7.083333e-09</td><td>2.677</td><td>2.0877</td><td>2.53</td><td>1.9732</td><td>35.7</td><td>35.7</td><td>1.058</td><td>0.055</td><td>10.08</td><td>16</td><td>0.01</td></tr>\n",
       "<tr><td>1237674650458193981</td><td>0.006033491</td><td>1.0</td><td>1</td><td>16.676</td><td>16.22</td><td>0.0005419487</td><td>85</td><td>0.6323405</td><td>0.5623866</td><td>26.4326</td><td>0.9659</td><td>0.8002485</td><td>0.5941116</td><td>26.1769</td><td>0.8063</td><td>0.222598</td><td>0.5243372</td><td>0.8381079</td><td>0.4101802</td><td>0.5531164</td><td>0.6644878</td><td>27.5662</td><td>26.636</td><td>26.1267</td><td>2.0012</td><td>1.1456</td><td>0.861</td><td>0.7896491</td><td>0.632472</td><td>26.1914</td><td>0.8698</td><td>0.856125</td><td>0.6671653</td><td>26.1037</td><td>0.8463</td><td>0.7896491</td><td>0.632472</td><td>26.1914</td><td>0.8698</td><td>4.29</td><td>3.52</td><td>3.763</td><td>7.208</td><td>0.002591058</td><td>24.7869</td><td>0.02033823</td><td>22.5498</td><td>5.902777e-09</td><td>2.85</td><td>2.5848</td><td>2.216</td><td>2.0106</td><td>66.6</td><td>66.6</td><td>1.286</td><td>0.222</td><td>9.4</td><td>16</td><td>0.12</td></tr>\n",
       "</table>"
      ],
      "text/plain": [
       "<Table masked=True length=6810>\n",
       "     dr12objid        redshift    simz  NUMBER ... FWHM_IMAGE FLAGS CLASS_STAR\n",
       "                                               ...    pix                     \n",
       "       int64          float64   float64 int64  ...  float64   int64  float64  \n",
       "------------------- ----------- ------- ------ ... ---------- ----- ----------\n",
       "1237648702977343535 0.004585617     0.3      1 ...     160.66    24        0.0\n",
       "1237648702977343535 0.004585617     0.4      1 ...     128.18    24        0.0\n",
       "1237648702977343535 0.004585617     0.5      1 ...     114.59    24        0.0\n",
       "1237648702977343535 0.004585617     0.6      1 ...      99.93    16        0.0\n",
       "1237648702977343535 0.004585617     0.7      1 ...      88.16    16        0.0\n",
       "1237648702977343535 0.004585617     0.8      1 ...      76.69    16        0.0\n",
       "1237648702977343535 0.004585617     0.9      1 ...      69.28    16        0.0\n",
       "1237648702977343535 0.004585617     1.0      1 ...       58.4     0        0.0\n",
       "1237648702984683605 0.006297647     0.3      1 ...      10.75    17       0.03\n",
       "                ...         ...     ...    ... ...        ...   ...        ...\n",
       "1237674475439783956 0.004993734     0.5      1 ...       4.27    16       0.22\n",
       "1237674475439783956 0.004993734     0.6      1 ...        4.5    16       0.34\n",
       "1237674650458193981 0.006033491     0.3      1 ...       7.82    16       0.03\n",
       "1237674650458193981 0.006033491     0.4      1 ...       6.86    16       0.03\n",
       "1237674650458193981 0.006033491     0.5      1 ...       6.61    16       0.02\n",
       "1237674650458193981 0.006033491     0.6      1 ...       6.49    16       0.02\n",
       "1237674650458193981 0.006033491     0.7      1 ...       7.54    16       0.02\n",
       "1237674650458193981 0.006033491     0.8      1 ...       9.57    16       0.03\n",
       "1237674650458193981 0.006033491     0.9      1 ...      10.08    16       0.01\n",
       "1237674650458193981 0.006033491     1.0      1 ...        9.4    16       0.12"
      ]
     },
     "execution_count": 41,
     "metadata": {},
     "output_type": "execute_result"
    }
   ],
   "source": [
    "stacked_table"
   ]
  },
  {
   "cell_type": "code",
   "execution_count": null,
   "metadata": {
    "collapsed": false
   },
   "outputs": [],
   "source": []
  },
  {
   "cell_type": "code",
   "execution_count": 14,
   "metadata": {
    "collapsed": false
   },
   "outputs": [],
   "source": [
    "simzs=[3,4,5,6,7,8,9,10]\n",
    "zero_sources_list = {} #keep track of files with 0 sources detected in SExtractor\n",
    "for z in simzs:\n",
    "    zero_sources_list[z/10.]=[]\n"
   ]
  },
  {
   "cell_type": "code",
   "execution_count": 15,
   "metadata": {
    "collapsed": false
   },
   "outputs": [
    {
     "data": {
      "text/plain": [
       "{0.3: [], 0.4: [], 0.5: [], 0.6: [], 0.7: [], 0.8: [], 0.9: [], 1.0: []}"
      ]
     },
     "execution_count": 15,
     "metadata": {},
     "output_type": "execute_result"
    }
   ],
   "source": [
    "zero_sources_list"
   ]
  },
  {
   "cell_type": "code",
   "execution_count": null,
   "metadata": {
    "collapsed": false
   },
   "outputs": [],
   "source": []
  },
  {
   "cell_type": "code",
   "execution_count": null,
   "metadata": {
    "collapsed": true
   },
   "outputs": [],
   "source": []
  },
  {
   "cell_type": "code",
   "execution_count": null,
   "metadata": {
    "collapsed": false
   },
   "outputs": [],
   "source": []
  },
  {
   "cell_type": "code",
   "execution_count": null,
   "metadata": {
    "collapsed": true
   },
   "outputs": [],
   "source": []
  },
  {
   "cell_type": "code",
   "execution_count": null,
   "metadata": {
    "collapsed": false
   },
   "outputs": [],
   "source": []
  },
  {
   "cell_type": "code",
   "execution_count": null,
   "metadata": {
    "collapsed": false
   },
   "outputs": [],
   "source": []
  },
  {
   "cell_type": "code",
   "execution_count": null,
   "metadata": {
    "collapsed": true
   },
   "outputs": [],
   "source": []
  }
 ],
 "metadata": {
  "kernelspec": {
   "display_name": "Python 2",
   "language": "python",
   "name": "python2"
  },
  "language_info": {
   "codemirror_mode": {
    "name": "ipython",
    "version": 2
   },
   "file_extension": ".py",
   "mimetype": "text/x-python",
   "name": "python",
   "nbconvert_exporter": "python",
   "pygments_lexer": "ipython2",
   "version": "2.7.6"
  }
 },
 "nbformat": 4,
 "nbformat_minor": 0
}

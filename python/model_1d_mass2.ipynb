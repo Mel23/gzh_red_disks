{
 "cells": [
  {
   "cell_type": "code",
   "execution_count": 1,
   "metadata": {
    "collapsed": true
   },
   "outputs": [],
   "source": [
    "from matplotlib import pyplot as plt\n",
    "import pandas as pd\n",
    "from scipy.integrate import odeint\n",
    "from astropy import cosmology\n",
    "from IPython.display import Image\n",
    "import pickle\n",
    "from astropy.table import Table,Column\n",
    "import numpy as np\n",
    "%matplotlib inline\n",
    "# better-looking plots\n",
    "plt.rcParams['font.family'] = 'serif'\n",
    "plt.rcParams['figure.figsize'] = (10.0, 8.0)\n",
    "plt.rcParams['font.size'] = 20"
   ]
  },
  {
   "cell_type": "code",
   "execution_count": 2,
   "metadata": {
    "collapsed": false
   },
   "outputs": [],
   "source": [
    "C =cosmology.Planck15"
   ]
  },
  {
   "cell_type": "markdown",
   "metadata": {},
   "source": [
    "## First: generate matrix using labels to keep track"
   ]
  },
  {
   "cell_type": "code",
   "execution_count": 3,
   "metadata": {
    "collapsed": false
   },
   "outputs": [],
   "source": [
    "statesto = pd.Index(('BD1', 'RD1', 'RE1'))\n",
    "statesfrom = pd.Index(('BD1', 'RD1'))\n",
    "for i in range(2,6):\n",
    "    statesto=statesto.append(pd.Index(('BD%s'%i,'RD%s'%i,'RE%s'%i)))\n",
    "for i in range(2,4):\n",
    "    statesfrom=statesfrom.append(pd.Index(('BD%s'%i,'RD%s'%i)))\n",
    "statesfrom = statesfrom.append(pd.Index(('BD4','RD4','K')))\n",
    "rate_labels = pd.DataFrame(index='to ' + statesto, columns='from ' + statesfrom, data=np.chararray((15,9)))\n",
    "for frm in statesfrom:\n",
    "    for to in statesto:\n",
    "        rate_labels['from '+frm]['to '+to] = '$r_{%s \\rightarrow %s}$'%(frm,to)\n"
   ]
  },
  {
   "cell_type": "code",
   "execution_count": 4,
   "metadata": {
    "collapsed": true
   },
   "outputs": [],
   "source": [
    "def rate_matrix_labels(rates):\n",
    "    #create matrix using rates to reproduce differential equations when dotted with vector N0\n",
    "    #m is a vector - m[0] = m1, m[3] = m4\n",
    "    rate_mtrx = pd.DataFrame(index=np.linspace(0,2,3),columns=np.linspace(0,2,3),data=np.chararray((3,3)))\n",
    "    \n",
    "    rate_mtrx[0][0] = '-$a~sSFR(t)$' + rates['from BD2']['to RD2'] + ' -' +rates['from BD2']['to RE3']\n",
    "\n",
    "    rate_mtrx[0][1] = rates['from BD2']['to RD2']\n",
    "    \n",
    "    rate_mtrx[1][1] = '-' + rates['from RD2']['to RE3']\n",
    "\n",
    "    rate_mtrx[2][2] = '+/-' + rates['from K']['to RE2']\n",
    "   \n",
    "    return rate_mtrx\n"
   ]
  },
  {
   "cell_type": "code",
   "execution_count": 5,
   "metadata": {
    "collapsed": false
   },
   "outputs": [
    {
     "data": {
      "text/html": [
       "<div>\n",
       "<table border=\"1\" class=\"dataframe\">\n",
       "  <thead>\n",
       "    <tr style=\"text-align: right;\">\n",
       "      <th></th>\n",
       "      <th>0.0</th>\n",
       "      <th>1.0</th>\n",
       "      <th>2.0</th>\n",
       "    </tr>\n",
       "  </thead>\n",
       "  <tbody>\n",
       "    <tr>\n",
       "      <th>0</th>\n",
       "      <td>-$a~sSFR(t)$$r_{BD2 \\rightarrow RD2}$ -$r_{BD2...</td>\n",
       "      <td></td>\n",
       "      <td></td>\n",
       "    </tr>\n",
       "    <tr>\n",
       "      <th>1</th>\n",
       "      <td>$r_{BD2 \\rightarrow RD2}$</td>\n",
       "      <td>-$r_{RD2 \\rightarrow RE3}$</td>\n",
       "      <td></td>\n",
       "    </tr>\n",
       "    <tr>\n",
       "      <th>2</th>\n",
       "      <td></td>\n",
       "      <td></td>\n",
       "      <td>+/-$r_{K \\rightarrow RE2}$</td>\n",
       "    </tr>\n",
       "  </tbody>\n",
       "</table>\n",
       "</div>"
      ],
      "text/plain": [
       "                                                   0  \\\n",
       "0  -$a~sSFR(t)$$r_{BD2 \\rightarrow RD2}$ -$r_{BD2...   \n",
       "1                          $r_{BD2 \\rightarrow RD2}$   \n",
       "2                                                      \n",
       "\n",
       "                            1                           2  \n",
       "0                                                          \n",
       "1  -$r_{RD2 \\rightarrow RE3}$                              \n",
       "2                              +/-$r_{K \\rightarrow RE2}$  "
      ]
     },
     "execution_count": 5,
     "metadata": {},
     "output_type": "execute_result"
    }
   ],
   "source": [
    "rm = rate_matrix_labels(rate_labels)\n",
    "rm"
   ]
  },
  {
   "cell_type": "code",
   "execution_count": 6,
   "metadata": {
    "collapsed": true
   },
   "outputs": [],
   "source": [
    "def alpha(a_s,M_star,m):\n",
    "    alpha = (1+a_s) - m/M_star\n",
    "    return alpha\n",
    "def sSFR(t):\n",
    "    sSFR = 2.5*(t/3.5)**(-2.2)\n",
    "    return sSFR\n",
    "def rate_matrix(rates,m,t):\n",
    "    #create matrix using rates to reproduce differential equations when dotted with vector N0\n",
    "    #m is one mass value\n",
    "    rate_mtrx = pd.DataFrame(index=np.linspace(0,2,3),columns=np.linspace(0,2,3),data=np.zeros((3,3)))\n",
    "    a_s = -1.4 \n",
    "    M_star = 10.82\n",
    "\n",
    "    rate_mtrx[0][0] =  - alpha(a_s,M_star,m)*sSFR(t) - rates['from BD2']['to RD2'] - rates['from BD2']['to RE3']\n",
    " \n",
    "    rate_mtrx[0][1] = rates['from BD2']['to RD2']\n",
    "    \n",
    "    rate_mtrx[1][1] = - rates['from RD2']['to RE3']\n",
    "    \n",
    "    rate_mtrx[2][2] = rates['from K']['to RE2']\n",
    "    \n",
    "    return rate_mtrx\n",
    "\n",
    "def modelrates(N, t, rates, rate_matrix_fn, m):\n",
    "    rate_mtrx = rate_matrix_fn(rates,m,t)\n",
    "    return np.dot(rate_mtrx, N)\n",
    "def find_nearest(array,value):\n",
    "    idx = (np.abs(array-value)).argmin()\n",
    "    return array[idx]\n",
    "def find_nearest_idx(array,value):\n",
    "    idx = (np.abs(array-value)).argmin()\n",
    "    return idx\n",
    "def plot_NF(F_RD,F_DR):\n",
    "    colors = '#0c457d'\n",
    "    fig, (axrd, axdr) = plt.subplots(1, 2, figsize=(12, 6))\n",
    "    F_RD.plot(ax=axrd,colors=colors,lw=2)\n",
    "    axrd.set(xlabel='$z$', ylabel='$f_{R|D}(z)$', ylim=(0, .4));\n",
    "    F_DR.plot(ax=axdr,colors=colors,lw=2)\n",
    "    axdr.set(xlabel='$z$')\n",
    "    axdr.set(ylabel='$f_{D|R}(z)$', ylim=(0, 0.4));\n",
    "    plt.tight_layout()"
   ]
  },
  {
   "cell_type": "code",
   "execution_count": 7,
   "metadata": {
    "collapsed": false
   },
   "outputs": [],
   "source": [
    "#load dictionary of data; N_RD, N_BD, N_RE, f_RID, f_DIR evolutions for each mass bin\n",
    "with open('results.pickle', 'rb') as handle:\n",
    "    results = pickle.load(handle)\n"
   ]
  },
  {
   "cell_type": "code",
   "execution_count": 8,
   "metadata": {
    "collapsed": false
   },
   "outputs": [
    {
     "data": {
      "text/plain": [
       "10.55"
      ]
     },
     "execution_count": 8,
     "metadata": {},
     "output_type": "execute_result"
    }
   ],
   "source": [
    "results['m_centers'][-3]"
   ]
  },
  {
   "cell_type": "code",
   "execution_count": 9,
   "metadata": {
    "collapsed": false
   },
   "outputs": [],
   "source": [
    "#centers of bins where f_rid and f_dir are evaluated in the data\n",
    "z_centers = results['z_centers']\n",
    "#mass bins\n",
    "m_centers = results['m_centers'][-3] #just highest mass bin\n",
    "m = m_centers\n",
    "#define times/redshifts to compute evolution in model\n",
    "zstart = 1.0\n",
    "zend = 0.3\n",
    "z = np.linspace(zstart, zend, 100)\n",
    "t = C.age(z)\n",
    "t0 = C.age(zend).value\n",
    "\n",
    "model_z = [find_nearest(z,i) for i in z_centers[:]] #closest redshift in model to observed redshift values, excluding z=1 \n",
    "#(z=1 is the input value, will always match model!)\n",
    "model_z = model_z * 8 #2 for each fraction, 4 for each mass = 16 series \n",
    "\n",
    "\n",
    "rate_vector_labels = pd.Index(( ('BD2 to RD2'),\n",
    "                               ('BD2 to RE3'),\n",
    "                               ('RD2 to RE3'),\n",
    "                               ('K to RE2')))"
   ]
  },
  {
   "cell_type": "code",
   "execution_count": 10,
   "metadata": {
    "collapsed": false
   },
   "outputs": [],
   "source": [
    "def model_fractions(rate_vector, m_centers):\n",
    "    # Set rates per galaxy in Gyr^{-1} at fiducial redshift\n",
    "    rates = pd.DataFrame(index='to ' + statesto, columns='from ' + statesfrom,data=np.zeros(shape=(15,9)))\n",
    "    for i in range(2,3):\n",
    "        rates['from BD{}'.format(i)]['to RD{}'.format(i)]=rate_vector['BD{} to RD{}'.format(i,i)]\n",
    "        rates['from BD{}'.format(i)]['to RE{}'.format(i+1)]=rate_vector['BD{} to RE{}'.format(i,i+1)]\n",
    "        rates['from K']['to RE{}'.format(i)]=rate_vector['K to RE{}'.format(i)]\n",
    "        rates['from RD{}'.format(i)]['to RE{}'.format(i+1)]=rate_vector['RD{} to RE{}'.format(i,i+1)]\n",
    "\n",
    "    #set initial values\n",
    "    states = pd.Index((('BD2'),('RD2'),('RE2')))\n",
    "    #inital BD, RD, RE for masses 1-4 (z=1)\n",
    "    N0=pd.Series(index=states)\n",
    "    for i in range(0,1):\n",
    "        N0['BD{}'.format(i+2)] = results['M={}'.format(m)]['N_BD'][len(z_centers)-1] #z=1 values\n",
    "        N0['RD{}'.format(i+2)] = results['M={}'.format(m)]['N_RD'][len(z_centers)-1]\n",
    "        N0['RE{}'.format(i+2)] = results['M={}'.format(m)]['N_RE'][len(z_centers)-1]    \n",
    "    N0 /= N0.sum()  # normalise to unity\n",
    "        \n",
    "    #evolve numbers from z=1 to z=0.3\n",
    "    N = odeint(modelrates, N0, t, args=(rates, rate_matrix, m_centers))\n",
    "    N = pd.DataFrame(index=z, columns=states, data=N)\n",
    "    N=N[::-1] #number evolution of BD,RD,RE\n",
    "    \n",
    "    F_RD = pd.DataFrame(index=N.index) #evolution of fractions\n",
    "    F_DR = pd.DataFrame(index=N.index) #evolution of fractions\n",
    "\n",
    "    for i in range(2,3):\n",
    "        F_RD['$f_{R|D}\\_%s$'%i] = N['RD{}'.format(i)] / (N['RD{}'.format(i)]+N['BD{}'.format(i)])\n",
    "    for i in range(2,3):\n",
    "        F_DR['$f_{D|R}\\_%s$'%i] = N['RD{}'.format(i)] / (N['RD{}'.format(i)]+N['RE{}'.format(i)])\n",
    "\n",
    "    \n",
    "    #compare results of fractions at 3 redshifts, for 2 fractions, for all 4 masses, compute chi-squared:\n",
    "    chi2 = 0\n",
    "\n",
    "    for i,zc in enumerate(z_centers[:-1]): \n",
    "        obs_f_rid = results['M={}'.format(m)]['f_RID'][i]\n",
    "        obs_f_dir = results['M={}'.format(m)]['f_DIR'][i]\n",
    "        obs_f_rid_err = results['M={}'.format(m)]['f_RID_err'][i]\n",
    "        obs_f_dir_err = results['M={}'.format(m)]['f_DIR_err'][i]\n",
    "\n",
    "        idx = find_nearest(z,zc) #find closest redshift to zc in model\n",
    "        model_f_rid = F_RD['$f_{R|D}\\_%s$'%(2)][idx]\n",
    "        model_f_dir = F_DR['$f_{D|R}\\_%s$'%(2)][idx]\n",
    "    \n",
    "        chi2 += ((obs_f_rid - model_f_rid)/obs_f_rid_err)**2\n",
    "        chi2 += ((obs_f_dir - model_f_dir)/obs_f_dir_err)**2\n",
    "\n",
    "    #all done! return chi square value for these rates\n",
    "    #return F_RD, F_DR, chi2\n",
    "    return chi2"
   ]
  },
  {
   "cell_type": "code",
   "execution_count": 11,
   "metadata": {
    "collapsed": false
   },
   "outputs": [],
   "source": [
    "def plot_NF(F_RD,F_DR):\n",
    "    plt.rcParams['font.family'] = 'serif'\n",
    "    plt.rcParams['font.size'] = 30\n",
    "    colors = '#0c457d'\n",
    "    fig, (axrd, axdr) = plt.subplots(1, 2, figsize=(18, 8))\n",
    "    F_RD.plot(ax=axrd,colors=colors,lw=2)\n",
    "    axrd.legend(loc=4,fontsize=20)\n",
    "    \n",
    "    #high mass \n",
    "    y=results['M={}'.format(m)]['f_RID']\n",
    "    yerr = results['M={}'.format(m)]['f_RID_err']\n",
    "    lo = [a-b for a,b in zip(y,yerr)]\n",
    "    hi = [a+b for a,b in zip(y,yerr)]\n",
    "\n",
    "    axrd.scatter(model_z[0:4],y,color='#0c457d',marker='D',s=300)\n",
    "    axrd.fill_between(model_z[0:4],lo,hi,alpha=.03)\n",
    "\n",
    "    axrd.set(xlabel='$z$', ylabel='$f_{R|D}(z)$', ylim=(0, .4),xlim=(.29,1.1));\n",
    "\n",
    "    F_DR.plot(ax=axdr,colors=colors,lw=2)\n",
    "    axdr.legend(loc=4,fontsize=20)\n",
    "\n",
    "    #high mass \n",
    "    y=results['M={}'.format(m)]['f_DIR']\n",
    "    yerr = results['M={}'.format(m)]['f_DIR_err']\n",
    "    lo = [a-b for a,b in zip(y,yerr)]\n",
    "    hi = [a+b for a,b in zip(y,yerr)]\n",
    "\n",
    "    axdr.scatter(model_z[0:4],y,color='#0c457d',marker='D',s=300)\n",
    "    axdr.fill_between(model_z[0:4],lo,hi,alpha=.03)\n",
    "    axdr.set(xlabel='$z$')\n",
    "    axdr.set(ylabel='$f_{D|R}(z)$', ylim=(0, 0.4),xlim=(.29,1.1));\n",
    "    plt.tight_layout()"
   ]
  },
  {
   "cell_type": "code",
   "execution_count": 12,
   "metadata": {
    "collapsed": false
   },
   "outputs": [],
   "source": [
    "#define rate labels\n",
    "rate_vector_labels = pd.Index(( ('BD2 to RD2'),\n",
    "                                ('BD2 to RE3'),\n",
    "                                ('RD2 to RE3'),\n",
    "                                ('K to RE2')))"
   ]
  },
  {
   "cell_type": "code",
   "execution_count": 13,
   "metadata": {
    "collapsed": true
   },
   "outputs": [],
   "source": [
    "def rate_list(n=10., w=.1):\n",
    "    #d = bd2 -> rd2\n",
    "    #h = bd2 -> re3\n",
    "    #l = rd2 -> re3\n",
    "    #q = K -> re2\n",
    "    \n",
    "    #max rate = +/- 0.1\n",
    "    #n = number of steps for each rate\n",
    "    m1=.041\n",
    "    m2 = .0825\n",
    "    rate_data = [[round(d*m1+.005,3),\n",
    "                  round(h*m1+.005,3),\n",
    "                  round(l*m1+.005,3),\n",
    "                  round(q*m2-.99,3)] \n",
    "                  for d in range(0,25)\n",
    "                  for h in range(0,25)\n",
    "                  for l in range(0,25)\n",
    "                  for q in range(0,25)\n",
    "             ]\n",
    "    return rate_data"
   ]
  },
  {
   "cell_type": "code",
   "execution_count": null,
   "metadata": {
    "collapsed": false
   },
   "outputs": [],
   "source": [
    "r = np.linspace(-.99,.99,25)\n",
    "m2=r[1]-r[0]\n",
    "ratedata = [round(i*m2+r[0],3) for i in range(0,25)]\n",
    "ratedata,m2"
   ]
  },
  {
   "cell_type": "code",
   "execution_count": 14,
   "metadata": {
    "collapsed": false
   },
   "outputs": [
    {
     "data": {
      "text/plain": [
       "(array([ 15625.,  15625.,  15625.,  15625.,  15625.,  15625.,  15625.,\n",
       "         15625.,  15625.,  15625.,  15625.,  15625.,  15625.,  15625.,\n",
       "         15625.,  15625.,  15625.,  15625.,  15625.,  15625.,  15625.,\n",
       "         15625.,  15625.,  15625.,  15625.]),\n",
       " array([-0.99  , -0.9108, -0.8316, -0.7524, -0.6732, -0.594 , -0.5148,\n",
       "        -0.4356, -0.3564, -0.2772, -0.198 , -0.1188, -0.0396,  0.0396,\n",
       "         0.1188,  0.198 ,  0.2772,  0.3564,  0.4356,  0.5148,  0.594 ,\n",
       "         0.6732,  0.7524,  0.8316,  0.9108,  0.99  ]),\n",
       " <a list of 25 Patch objects>)"
      ]
     },
     "execution_count": 14,
     "metadata": {},
     "output_type": "execute_result"
    },
    {
     "data": {
      "image/png": "[encoded data removed]",
      "text/plain": [
       "<matplotlib.figure.Figure at 0x7f674e6f1f50>"
      ]
     },
     "metadata": {},
     "output_type": "display_data"
    }
   ],
   "source": [
    "#sanity checks\n",
    "rate_data = rate_list()\n",
    "\n",
    "this_rate = [val[3] for val in rate_data]\n",
    "plt.hist(this_rate,bins=25)"
   ]
  },
  {
   "cell_type": "code",
   "execution_count": 15,
   "metadata": {
    "collapsed": false
   },
   "outputs": [
    {
     "name": "stdout",
     "output_type": "stream",
     "text": [
      "number of combinations: 390625\n"
     ]
    }
   ],
   "source": [
    "#generate a bunch of combinations of rates, 2 each, maximum rate of 0.1\n",
    "#rate_data = rate_list()\n",
    "print 'number of combinations: %s'%len(rate_data)"
   ]
  },
  {
   "cell_type": "code",
   "execution_count": null,
   "metadata": {
    "collapsed": false
   },
   "outputs": [],
   "source": []
  },
  {
   "cell_type": "code",
   "execution_count": null,
   "metadata": {
    "collapsed": false
   },
   "outputs": [],
   "source": [
    "#create table to save results\n",
    "c0 = Column(np.zeros(1),name='chi2') \n",
    "c2 = Column(np.zeros(1), name = 'BD2 to RD2')\n",
    "c4 = Column(np.zeros(1), name = 'BD2 to RE3')\n",
    "c6 = Column(np.zeros(1), name = 'RD2 to RE3')\n",
    "c8 = Column(np.zeros(1), name = 'K to RE2')\n",
    "\n",
    "chi2_table_1d_mass2 = Table()  \n",
    "chi2_table_1d_mass2.add_columns([c0,c2,c4,c6,c8])\n"
   ]
  },
  {
   "cell_type": "code",
   "execution_count": 15,
   "metadata": {
    "collapsed": false
   },
   "outputs": [
    {
     "data": {
      "text/plain": [
       "401007"
      ]
     },
     "execution_count": 15,
     "metadata": {},
     "output_type": "execute_result"
    }
   ],
   "source": [
    "#or: load table\n",
    "chi2_table_1d_mass2 = Table.read('chi2_table_1d_mass2.fits')\n",
    "#chi2_table.remove_row(0)\n",
    "len(chi2_table_1d_mass2)"
   ]
  },
  {
   "cell_type": "code",
   "execution_count": 58,
   "metadata": {
    "collapsed": false
   },
   "outputs": [
    {
     "data": {
      "text/html": [
       "&lt;Row index=281000&gt;\n",
       "<table id=\"table140080993380688\">\n",
       "<thead><tr><th>chi2</th><th>BD2 to RD2</th><th>BD2 to RE3</th><th>RD2 to RE3</th><th>K to RE2</th></tr></thead>\n",
       "<thead><tr><th>float64</th><th>float64</th><th>float64</th><th>float64</th><th>float64</th></tr></thead>\n",
       "<tr><td>12159.9078378</td><td>0.702</td><td>0.989</td><td>0.62</td><td>-0.99</td></tr>\n",
       "</table>"
      ],
      "text/plain": [
       "<Row index=281000>\n",
       "     chi2     BD2 to RD2 BD2 to RE3 RD2 to RE3 K to RE2\n",
       "   float64     float64    float64    float64   float64 \n",
       "------------- ---------- ---------- ---------- --------\n",
       "12159.9078378      0.702      0.989       0.62    -0.99"
      ]
     },
     "execution_count": 58,
     "metadata": {},
     "output_type": "execute_result"
    }
   ],
   "source": [
    "chi2_table_1d_mass2[281000]"
   ]
  },
  {
   "cell_type": "code",
   "execution_count": 59,
   "metadata": {
    "collapsed": false
   },
   "outputs": [
    {
     "data": {
      "text/plain": [
       "[0.702, 0.989, 0.62, -0.99]"
      ]
     },
     "execution_count": 59,
     "metadata": {},
     "output_type": "execute_result"
    }
   ],
   "source": [
    "rate_data[281000] #correcting where things got fucked up "
   ]
  },
  {
   "cell_type": "code",
   "execution_count": 60,
   "metadata": {
    "collapsed": true
   },
   "outputs": [],
   "source": [
    "chi2_table_1d_mass2 = chi2_table_1d_mass2[0:281000]"
   ]
  },
  {
   "cell_type": "code",
   "execution_count": 63,
   "metadata": {
    "collapsed": false
   },
   "outputs": [
    {
     "data": {
      "text/plain": [
       "(<Row index=280999>\n",
       "      chi2     BD2 to RD2 BD2 to RE3 RD2 to RE3 K to RE2\n",
       "    float64     float64    float64    float64   float64 \n",
       " ------------- ---------- ---------- ---------- --------\n",
       " 6584.53048556      0.702      0.989      0.579     0.99,\n",
       " [0.702, 0.989, 0.579, 0.99])"
      ]
     },
     "execution_count": 63,
     "metadata": {},
     "output_type": "execute_result"
    }
   ],
   "source": [
    "chi2_table_1d_mass2[280999],rate_data[280999] "
   ]
  },
  {
   "cell_type": "code",
   "execution_count": 64,
   "metadata": {
    "collapsed": false
   },
   "outputs": [
    {
     "name": "stdout",
     "output_type": "stream",
     "text": [
      "0 12159.9078378 15:38:23.821018\n",
      "1000 12539.1052971 15:39:42.536017\n",
      "2000 9656.06096704 15:40:52.182860\n",
      "3000 11754.5934674 15:42:02.200347\n",
      "4000 14363.1222363 15:43:14.121059\n",
      "5000 10922.1417424 15:44:26.397491\n",
      "6000 13544.2033896 15:45:38.368720\n",
      "7000 10034.1295844 15:46:52.902163\n",
      "8000 12657.8829498 15:48:07.683868\n",
      "9000 15396.2947629 15:49:24.652554\n",
      "10000 11694.6551591 15:50:40.845194\n",
      "11000 14534.5527826 15:51:59.677461\n",
      "12000 10641.9225765 15:53:17.998466\n",
      "13000 13585.6685148 15:54:37.595106\n",
      "14000 16306.2235897 15:55:57.293324\n",
      "15000 12533.351479 15:57:17.661207\n",
      "16000 12851.8484002 15:58:38.706940\n",
      "17000 9955.32285962 15:59:48.976361\n",
      "18000 12076.7859486 16:01:02.652624\n",
      "19000 14673.0347845 16:02:14.933977\n",
      "20000 11253.1027805 16:03:29.834455\n",
      "21000 13868.1626085 16:04:42.649955\n",
      "22000 10373.0952534 16:05:58.860983\n",
      "23000 12995.6778014 16:07:12.211541\n",
      "24000 15703.1034068 16:08:27.002595\n",
      "25000 12045.8523064 16:09:44.263713\n",
      "26000 14857.39536 16:11:08.747062\n",
      "27000 11005.6845883 16:12:49.554282\n",
      "28000 13924.6585359 16:14:22.304369\n",
      "29000 16604.7728417 16:15:43.228386\n",
      "30000 12888.3353959 16:17:05.391057\n",
      "31000 15731.3557004 16:18:29.666198\n",
      "32000 10243.8781668 16:19:45.745453\n",
      "33000 12384.8925462 16:20:57.307967\n",
      "34000 14967.3841512 16:22:08.886101\n",
      "35000 11570.119731 16:23:21.804987\n",
      "36000 14176.2004815 16:24:33.989490\n",
      "37000 10698.3994679 16:25:51.323540\n",
      "38000 13317.3284271 16:27:07.030639\n",
      "39000 15993.8063428 16:28:24.088332\n",
      "40000 12380.8458811 16:29:42.178870\n",
      "41000 15163.6712839 16:30:59.653176\n",
      "42000 11353.4050577 16:32:19.737382\n",
      "43000 14246.7425562 16:33:39.852287\n",
      "44000 16887.2979704 16:35:01.962224\n",
      "45000 13226.2422845 16:36:24.790230\n",
      "46000 16029.991625 16:37:50.035644\n",
      "47000 12083.3071161 16:39:12.895821\n",
      "48000 12679.9018764 16:40:31.848482\n",
      "49000 15247.4176382 16:42:03.129561\n",
      "50000 11874.11878 16:43:16.197575\n",
      "51000 14469.5557097 16:44:29.344693\n",
      "52000 11010.8892517 16:45:45.730531\n",
      "53000 13624.0430637 16:47:01.048048\n",
      "54000 16269.7143198 16:48:17.949646\n",
      "55000 12700.7894302 16:49:35.099698\n",
      "56000 15454.6909286 16:50:53.130751\n",
      "57000 11686.1512398 16:52:10.951867\n",
      "58000 14553.210812 16:53:28.713905\n",
      "59000 17155.0937472 16:54:48.821483\n",
      "60000 13548.3160238 16:56:08.638843\n",
      "61000 16313.4513488 16:57:33.900705\n",
      "62000 12420.3917502 16:58:54.405089\n",
      "63000 12962.7050363 17:00:12.763459\n",
      "64000 15514.2423514 17:01:24.020075\n",
      "65000 12165.9414583 17:02:35.709912\n",
      "66000 14749.3329176 17:03:48.308760\n",
      "67000 11311.3418334 17:05:04.782025\n",
      "68000 13916.9056191 17:06:19.792221\n",
      "69000 16531.9914202 17:07:34.865411\n",
      "70000 13006.7257277 17:08:50.557920\n",
      "71000 15731.6229531 17:10:07.458036\n",
      "72000 12004.8973766 17:11:25.525107\n",
      "73000 14845.2195424 17:12:43.224905\n",
      "74000 17409.3146125 17:14:01.577852\n",
      "75000 13855.6790557 17:15:20.346612\n",
      "76000 16582.8910818 17:16:40.871036\n",
      "77000 12742.7439142 17:18:00.256548\n",
      "78000 15656.4585553 17:19:21.270331\n",
      "79000 15768.8454355 17:20:36.604052\n",
      "80000 12446.3544011 17:21:47.769907\n",
      "81000 15016.5212637 17:23:00.027631\n",
      "82000 11600.4714178 17:24:12.026138\n",
      "83000 14196.8918266 17:25:25.918274\n",
      "84000 16781.6759906 17:26:40.838223\n",
      "85000 13299.5993765 17:27:56.146809\n",
      "86000 15995.513774 17:29:14.644585\n",
      "87000 12310.5340832 17:30:31.221581\n",
      "88000 15123.8090518 17:31:49.510297\n",
      "89000 17650.9932201 17:33:10.246536\n",
      "90000 14149.3466001 17:34:31.382532\n",
      "91000 16839.3480171 17:35:55.121642\n",
      "92000 13051.3202605 17:37:15.833154\n",
      "93000 15928.2096581 17:38:37.861462\n",
      "94000 16012.1107957 17:39:59.234020\n",
      "95000 12716.0576036 17:41:10.645563\n",
      "96000 15272.0098365 17:42:25.623207\n",
      "97000 11878.9352991 17:43:54.553407\n",
      "98000 14464.8829142 17:45:06.473626\n",
      "99000 17019.697962 17:46:19.313122\n",
      "100000 13580.2687491 17:47:32.514282\n",
      "101000 16247.3038125 17:48:48.515315\n",
      "102000 12603.8775063 17:50:06.092604\n",
      "103000 15389.9181266 17:51:21.927127\n",
      "104000 17881.0568503 17:52:38.482165\n",
      "105000 14430.2394274 17:53:55.793875\n",
      "106000 17083.7569359 17:55:14.443467\n",
      "107000 13346.995961 17:56:33.659714\n",
      "108000 16187.5450081 17:57:52.830286\n",
      "109000 18599.6963315 17:59:12.374924\n"
     ]
    }
   ],
   "source": [
    "fname = 'chi2_table_1d_mass2.fits'\n",
    "\n",
    "import datetime\n",
    "#test 30,000 rate combos to start \n",
    "for i,vector in enumerate(rate_data[281000:]):\n",
    "    rate_vector = pd.Series(index=rate_vector_labels,data=vector)\n",
    "    chi2val = model_fractions(rate_vector,m_centers)\n",
    "    chi2_table_1d_mass2.add_row([chi2val]+vector)\n",
    "    if i % 1000 ==0:\n",
    "        print i, chi2val, datetime.datetime.now().strftime('%H:%M:%S.%f')\n",
    "    if i % 5000 ==0:\n",
    "        chi2_table_1d_mass2.write(fname,format='fits',overwrite=True)"
   ]
  },
  {
   "cell_type": "code",
   "execution_count": 65,
   "metadata": {
    "collapsed": false
   },
   "outputs": [],
   "source": [
    "chi2_table_1d_mass2.write(fname,format='fits',overwrite=True) #once more for good measure"
   ]
  },
  {
   "cell_type": "code",
   "execution_count": 17,
   "metadata": {
    "collapsed": false
   },
   "outputs": [
    {
     "data": {
      "text/plain": [
       "14460"
      ]
     },
     "execution_count": 17,
     "metadata": {},
     "output_type": "execute_result"
    }
   ],
   "source": [
    "find_nearest_idx(chi2_table_1d_mass2['chi2'],np.min(chi2_table_1d_mass2['chi2']))"
   ]
  },
  {
   "cell_type": "code",
   "execution_count": 18,
   "metadata": {
    "collapsed": true
   },
   "outputs": [],
   "source": [
    "#plot a few of the best values\n",
    "def plot_best_values(rank):\n",
    "    #rank = 0 for lowest chi2, 1 for second lowest, etc. \n",
    "    rate_list = []\n",
    "    for val in chi2_table_1d_mass2[rank]:\n",
    "        rate_list.append(val)\n",
    "    rate_list = rate_list[1:]\n",
    "    rate_vector = pd.Series(index=rate_vector_labels,data=rate_list) #rate combo with best chi2\n",
    "    F_RD,F_DR,chi2val = model_fractions(rate_vector,m)\n",
    "    plot_NF(F_RD,F_DR)"
   ]
  },
  {
   "cell_type": "code",
   "execution_count": 19,
   "metadata": {
    "collapsed": false
   },
   "outputs": [
    {
     "name": "stderr",
     "output_type": "stream",
     "text": [
      "/usr/local/lib/python2.7/dist-packages/pandas/tools/plotting.py:929: UserWarning: 'colors' is being deprecated. Please use 'color'instead of 'colors'\n",
      "  warnings.warn((\"'colors' is being deprecated. Please use 'color'\"\n",
      "/usr/lib/pymodules/python2.7/matplotlib/collections.py:548: FutureWarning: elementwise comparison failed; returning scalar instead, but in the future will perform elementwise comparison\n",
      "  if self._edgecolors == 'face':\n"
     ]
    },
    {
     "data": {
      "image/png": "[encoded data removed]",
      "text/plain": [
       "<matplotlib.figure.Figure at 0x7f4b12008e50>"
      ]
     },
     "metadata": {},
     "output_type": "display_data"
    }
   ],
   "source": [
    "plot_best_values(14460)\n"
   ]
  },
  {
   "cell_type": "code",
   "execution_count": 20,
   "metadata": {
    "collapsed": false
   },
   "outputs": [
    {
     "data": {
      "text/html": [
       "&lt;Row index=14460&gt;\n",
       "<table id=\"table139960433493136\">\n",
       "<thead><tr><th>chi2</th><th>BD2 to RD2</th><th>BD2 to RE3</th><th>RD2 to RE3</th><th>K to RE2</th></tr></thead>\n",
       "<thead><tr><th>float64</th><th>float64</th><th>float64</th><th>float64</th><th>float64</th></tr></thead>\n",
       "<tr><td>26.3792059111</td><td>0.005</td><td>0.948</td><td>0.128</td><td>-0.165</td></tr>\n",
       "</table>"
      ],
      "text/plain": [
       "<Row index=14460>\n",
       "     chi2     BD2 to RD2 BD2 to RE3 RD2 to RE3 K to RE2\n",
       "   float64     float64    float64    float64   float64 \n",
       "------------- ---------- ---------- ---------- --------\n",
       "26.3792059111      0.005      0.948      0.128   -0.165"
      ]
     },
     "execution_count": 20,
     "metadata": {},
     "output_type": "execute_result"
    }
   ],
   "source": [
    "chi2_table_1d_mass2[14460]"
   ]
  },
  {
   "cell_type": "code",
   "execution_count": null,
   "metadata": {
    "collapsed": false
   },
   "outputs": [],
   "source": []
  },
  {
   "cell_type": "code",
   "execution_count": null,
   "metadata": {
    "collapsed": false
   },
   "outputs": [],
   "source": []
  },
  {
   "cell_type": "code",
   "execution_count": null,
   "metadata": {
    "collapsed": false
   },
   "outputs": [],
   "source": []
  },
  {
   "cell_type": "code",
   "execution_count": null,
   "metadata": {
    "collapsed": false
   },
   "outputs": [],
   "source": []
  },
  {
   "cell_type": "code",
   "execution_count": null,
   "metadata": {
    "collapsed": true
   },
   "outputs": [],
   "source": []
  }
 ],
 "metadata": {
  "kernelspec": {
   "display_name": "Python 2",
   "language": "python",
   "name": "python2"
  },
  "language_info": {
   "codemirror_mode": {
    "name": "ipython",
    "version": 2
   },
   "file_extension": ".py",
   "mimetype": "text/x-python",
   "name": "python",
   "nbconvert_exporter": "python",
   "pygments_lexer": "ipython2",
   "version": "2.7.6"
  }
 },
 "nbformat": 4,
 "nbformat_minor": 0
}

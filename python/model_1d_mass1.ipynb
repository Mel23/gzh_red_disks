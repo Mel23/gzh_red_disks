{
 "cells": [
  {
   "cell_type": "code",
   "execution_count": 1,
   "metadata": {
    "collapsed": true
   },
   "outputs": [],
   "source": [
    "from matplotlib import pyplot as plt\n",
    "import pandas as pd\n",
    "from scipy.integrate import odeint\n",
    "from astropy import cosmology\n",
    "from IPython.display import Image\n",
    "import pickle\n",
    "from astropy.table import Table,Column\n",
    "import numpy as np\n",
    "%matplotlib inline\n",
    "# better-looking plots\n",
    "plt.rcParams['font.family'] = 'serif'\n",
    "plt.rcParams['figure.figsize'] = (10.0, 8.0)\n",
    "plt.rcParams['font.size'] = 20"
   ]
  },
  {
   "cell_type": "code",
   "execution_count": 2,
   "metadata": {
    "collapsed": false
   },
   "outputs": [],
   "source": [
    "C =cosmology.Planck15"
   ]
  },
  {
   "cell_type": "markdown",
   "metadata": {},
   "source": [
    "## First: generate matrix using labels to keep track"
   ]
  },
  {
   "cell_type": "code",
   "execution_count": 3,
   "metadata": {
    "collapsed": false
   },
   "outputs": [],
   "source": [
    "statesto = pd.Index(('BD1', 'RD1', 'RE1'))\n",
    "statesfrom = pd.Index(('BD1', 'RD1'))\n",
    "for i in range(2,6):\n",
    "    statesto=statesto.append(pd.Index(('BD%s'%i,'RD%s'%i,'RE%s'%i)))\n",
    "for i in range(2,4):\n",
    "    statesfrom=statesfrom.append(pd.Index(('BD%s'%i,'RD%s'%i)))\n",
    "statesfrom = statesfrom.append(pd.Index(('BD4','RD4','K')))\n",
    "rate_labels = pd.DataFrame(index='to ' + statesto, columns='from ' + statesfrom, data=np.chararray((15,9)))\n",
    "for frm in statesfrom:\n",
    "    for to in statesto:\n",
    "        rate_labels['from '+frm]['to '+to] = '$r_{%s \\rightarrow %s}$'%(frm,to)\n"
   ]
  },
  {
   "cell_type": "code",
   "execution_count": 4,
   "metadata": {
    "collapsed": true
   },
   "outputs": [],
   "source": [
    "def rate_matrix_labels(rates):\n",
    "    #create matrix using rates to reproduce differential equations when dotted with vector N0\n",
    "    #m is a vector - m[0] = m1, m[3] = m4\n",
    "    rate_mtrx = pd.DataFrame(index=np.linspace(0,2,3),columns=np.linspace(0,2,3),data=np.chararray((3,3)))\n",
    "    \n",
    "    rate_mtrx[0][0] = '-$a~sSFR(t)$' + rates['from BD1']['to RD1'] + ' -' +rates['from BD1']['to RE2']\n",
    "\n",
    "    rate_mtrx[0][1] = rates['from BD1']['to RD1']\n",
    "    \n",
    "    rate_mtrx[1][1] = '-' + rates['from RD1']['to RE2']\n",
    "\n",
    "    rate_mtrx[2][2] = '+/-' + rates['from K']['to RE1']\n",
    "   \n",
    "    return rate_mtrx\n"
   ]
  },
  {
   "cell_type": "code",
   "execution_count": 5,
   "metadata": {
    "collapsed": false
   },
   "outputs": [
    {
     "data": {
      "text/html": [
       "<div>\n",
       "<table border=\"1\" class=\"dataframe\">\n",
       "  <thead>\n",
       "    <tr style=\"text-align: right;\">\n",
       "      <th></th>\n",
       "      <th>0.0</th>\n",
       "      <th>1.0</th>\n",
       "      <th>2.0</th>\n",
       "    </tr>\n",
       "  </thead>\n",
       "  <tbody>\n",
       "    <tr>\n",
       "      <th>0</th>\n",
       "      <td>-$a~sSFR(t)$$r_{BD1 \\rightarrow RD1}$ -$r_{BD1...</td>\n",
       "      <td></td>\n",
       "      <td></td>\n",
       "    </tr>\n",
       "    <tr>\n",
       "      <th>1</th>\n",
       "      <td>$r_{BD1 \\rightarrow RD1}$</td>\n",
       "      <td>-$r_{RD1 \\rightarrow RE2}$</td>\n",
       "      <td></td>\n",
       "    </tr>\n",
       "    <tr>\n",
       "      <th>2</th>\n",
       "      <td></td>\n",
       "      <td></td>\n",
       "      <td>+/-$r_{K \\rightarrow RE1}$</td>\n",
       "    </tr>\n",
       "  </tbody>\n",
       "</table>\n",
       "</div>"
      ],
      "text/plain": [
       "                                                   0  \\\n",
       "0  -$a~sSFR(t)$$r_{BD1 \\rightarrow RD1}$ -$r_{BD1...   \n",
       "1                          $r_{BD1 \\rightarrow RD1}$   \n",
       "2                                                      \n",
       "\n",
       "                            1                           2  \n",
       "0                                                          \n",
       "1  -$r_{RD1 \\rightarrow RE2}$                              \n",
       "2                              +/-$r_{K \\rightarrow RE1}$  "
      ]
     },
     "execution_count": 5,
     "metadata": {},
     "output_type": "execute_result"
    }
   ],
   "source": [
    "rm = rate_matrix_labels(rate_labels)\n",
    "rm"
   ]
  },
  {
   "cell_type": "code",
   "execution_count": 6,
   "metadata": {
    "collapsed": true
   },
   "outputs": [],
   "source": [
    "def alpha(a_s,M_star,m):\n",
    "    alpha = (1+a_s) - m/M_star\n",
    "    return alpha\n",
    "def sSFR(t):\n",
    "    sSFR = 2.5*(t/3.5)**(-2.2)\n",
    "    return sSFR\n",
    "def rate_matrix(rates,m,t):\n",
    "    #create matrix using rates to reproduce differential equations when dotted with vector N0\n",
    "    #m is one mass value\n",
    "    rate_mtrx = pd.DataFrame(index=np.linspace(0,2,3),columns=np.linspace(0,2,3),data=np.zeros((3,3)))\n",
    "    a_s = -1.4 \n",
    "    M_star = 10.82\n",
    "\n",
    "    rate_mtrx[0][0] =  - alpha(a_s,M_star,m)*sSFR(t) - rates['from BD1']['to RD1'] - rates['from BD1']['to RE2']\n",
    " \n",
    "    rate_mtrx[0][1] = rates['from BD1']['to RD1']\n",
    "    \n",
    "    rate_mtrx[1][1] = - rates['from RD1']['to RE2']\n",
    "    \n",
    "    rate_mtrx[2][2] = rates['from K']['to RE1']\n",
    "    \n",
    "    return rate_mtrx\n",
    "\n",
    "def modelrates(N, t, rates, rate_matrix_fn, m):\n",
    "    rate_mtrx = rate_matrix_fn(rates,m,t)\n",
    "    return np.dot(rate_mtrx, N)\n",
    "def find_nearest(array,value):\n",
    "    idx = (np.abs(array-value)).argmin()\n",
    "    return array[idx]\n",
    "def find_nearest_idx(array,value):\n",
    "    idx = (np.abs(array-value)).argmin()\n",
    "    return idx\n",
    "def plot_NF(F_RD,F_DR):\n",
    "    colors = '#008744'\n",
    "    fig, (axrd, axdr) = plt.subplots(1, 2, figsize=(12, 6))\n",
    "    F_RD.plot(ax=axrd,colors=colors,lw=2)\n",
    "    axrd.set(xlabel='$z$', ylabel='$f_{R|D}(z)$', ylim=(0, .4));\n",
    "    F_DR.plot(ax=axdr,colors=colors,lw=2)\n",
    "    axdr.set(xlabel='$z$')\n",
    "    axdr.set(ylabel='$f_{D|R}(z)$', ylim=(0, 0.4));\n",
    "    plt.tight_layout()"
   ]
  },
  {
   "cell_type": "code",
   "execution_count": 7,
   "metadata": {
    "collapsed": false
   },
   "outputs": [],
   "source": [
    "#load dictionary of data; N_RD, N_BD, N_RE, f_RID, f_DIR evolutions for each mass bin\n",
    "with open('results.pickle', 'rb') as handle:\n",
    "    results = pickle.load(handle)\n"
   ]
  },
  {
   "cell_type": "code",
   "execution_count": 8,
   "metadata": {
    "collapsed": false
   },
   "outputs": [
    {
     "data": {
      "text/plain": [
       "10.25"
      ]
     },
     "execution_count": 8,
     "metadata": {},
     "output_type": "execute_result"
    }
   ],
   "source": [
    "results['m_centers'][-4]"
   ]
  },
  {
   "cell_type": "code",
   "execution_count": 9,
   "metadata": {
    "collapsed": false
   },
   "outputs": [],
   "source": [
    "#centers of bins where f_rid and f_dir are evaluated in the data\n",
    "z_centers = results['z_centers']\n",
    "#mass bins\n",
    "m_centers = results['m_centers'][-4] #just highest mass bin\n",
    "m = m_centers\n",
    "#define times/redshifts to compute evolution in model\n",
    "zstart = 1.0\n",
    "zend = 0.3\n",
    "z = np.linspace(zstart, zend, 100)\n",
    "t = C.age(z)\n",
    "t0 = C.age(zend).value\n",
    "\n",
    "model_z = [find_nearest(z,i) for i in z_centers[:]] #closest redshift in model to observed redshift values, excluding z=1 \n",
    "#(z=1 is the input value, will always match model!)\n",
    "model_z = model_z * 8 #2 for each fraction, 4 for each mass = 16 series \n",
    "\n",
    "\n",
    "rate_vector_labels = pd.Index(( ('BD1 to RD1'),\n",
    "                               ('BD1 to RE2'),\n",
    "                               ('RD1 to RE2'),\n",
    "                               ('K to RE1')))"
   ]
  },
  {
   "cell_type": "code",
   "execution_count": 10,
   "metadata": {
    "collapsed": false
   },
   "outputs": [],
   "source": [
    "def model_fractions(rate_vector, m_centers):\n",
    "    # Set rates per galaxy in Gyr^{-1} at fiducial redshift\n",
    "    rates = pd.DataFrame(index='to ' + statesto, columns='from ' + statesfrom,data=np.zeros(shape=(15,9)))\n",
    "    for i in range(1,2):\n",
    "        rates['from BD{}'.format(i)]['to RD{}'.format(i)]=rate_vector['BD{} to RD{}'.format(i,i)]\n",
    "        rates['from BD{}'.format(i)]['to RE{}'.format(i+1)]=rate_vector['BD{} to RE{}'.format(i,i+1)]\n",
    "        rates['from K']['to RE{}'.format(i)]=rate_vector['K to RE{}'.format(i)]\n",
    "        rates['from RD{}'.format(i)]['to RE{}'.format(i+1)]=rate_vector['RD{} to RE{}'.format(i,i+1)]\n",
    "\n",
    "    #set initial values\n",
    "    states = pd.Index((('BD1'),('RD1'),('RE1')))\n",
    "    #inital BD, RD, RE for masses 1-4 (z=1)\n",
    "    N0=pd.Series(index=states)\n",
    "    for i in range(0,1):\n",
    "        N0['BD{}'.format(i+1)] = results['M={}'.format(m)]['N_BD'][len(z_centers)-1] #z=1 values\n",
    "        N0['RD{}'.format(i+1)] = results['M={}'.format(m)]['N_RD'][len(z_centers)-1]\n",
    "        N0['RE{}'.format(i+1)] = results['M={}'.format(m)]['N_RE'][len(z_centers)-1]    \n",
    "    N0 /= N0.sum()  # normalise to unity\n",
    "        \n",
    "    #evolve numbers from z=1 to z=0.3\n",
    "    N = odeint(modelrates, N0, t, args=(rates, rate_matrix, m_centers))\n",
    "    N = pd.DataFrame(index=z, columns=states, data=N)\n",
    "    N=N[::-1] #number evolution of BD,RD,RE\n",
    "    \n",
    "    F_RD = pd.DataFrame(index=N.index) #evolution of fractions\n",
    "    F_DR = pd.DataFrame(index=N.index) #evolution of fractions\n",
    "\n",
    "    for i in range(1,2):\n",
    "        F_RD['$f_{R|D}\\_%s$'%i] = N['RD{}'.format(i)] / (N['RD{}'.format(i)]+N['BD{}'.format(i)])\n",
    "    for i in range(1,2):\n",
    "        F_DR['$f_{D|R}\\_%s$'%i] = N['RD{}'.format(i)] / (N['RD{}'.format(i)]+N['RE{}'.format(i)])\n",
    "\n",
    "    \n",
    "    #compare results of fractions at 3 redshifts, for 2 fractions, for all 4 masses, compute chi-squared:\n",
    "    chi2 = 0\n",
    "\n",
    "    for i,zc in enumerate(z_centers[:-1]): \n",
    "        obs_f_rid = results['M={}'.format(m)]['f_RID'][i]\n",
    "        obs_f_dir = results['M={}'.format(m)]['f_DIR'][i]\n",
    "        obs_f_rid_err = results['M={}'.format(m)]['f_RID_err'][i]\n",
    "        obs_f_dir_err = results['M={}'.format(m)]['f_DIR_err'][i]\n",
    "\n",
    "        idx = find_nearest(z,zc) #find closest redshift to zc in model\n",
    "        model_f_rid = F_RD['$f_{R|D}\\_%s$'%(1)][idx]\n",
    "        model_f_dir = F_DR['$f_{D|R}\\_%s$'%(1)][idx]\n",
    "    \n",
    "        chi2 += ((obs_f_rid - model_f_rid)/obs_f_rid_err)**2\n",
    "        chi2 += ((obs_f_dir - model_f_dir)/obs_f_dir_err)**2\n",
    "\n",
    "    #all done! return chi square value for these rates\n",
    "    #return F_RD, F_DR, chi2\n",
    "    return chi2"
   ]
  },
  {
   "cell_type": "code",
   "execution_count": 11,
   "metadata": {
    "collapsed": false
   },
   "outputs": [],
   "source": [
    "def plot_NF(F_RD,F_DR):\n",
    "    plt.rcParams['font.family'] = 'serif'\n",
    "    plt.rcParams['font.size'] = 30\n",
    "    colors = '#008744'\n",
    "    fig, (axrd, axdr) = plt.subplots(1, 2, figsize=(18, 8))\n",
    "    F_RD.plot(ax=axrd,colors=colors,lw=2)\n",
    "    axrd.legend(loc=1,fontsize=20)\n",
    "    \n",
    "    #high mass \n",
    "    y=results['M={}'.format(m)]['f_RID']\n",
    "    yerr = results['M={}'.format(m)]['f_RID_err']\n",
    "    lo = [a-b for a,b in zip(y,yerr)]\n",
    "    hi = [a+b for a,b in zip(y,yerr)]\n",
    "\n",
    "    axrd.scatter(model_z[0:4],y,color='#008744',marker='^',s=300)\n",
    "    axrd.fill_between(model_z[0:4],lo,hi,alpha=.03)\n",
    "\n",
    "    axrd.set(xlabel='$z$', ylabel='$f_{R|D}(z)$', ylim=(0, .4),xlim=(.29,1.1));\n",
    "\n",
    "    F_DR.plot(ax=axdr,colors=colors,lw=2)\n",
    "    axdr.legend(loc=1,fontsize=20)\n",
    "\n",
    "    #high mass \n",
    "    y=results['M={}'.format(m)]['f_DIR']\n",
    "    yerr = results['M={}'.format(m)]['f_DIR_err']\n",
    "    lo = [a-b for a,b in zip(y,yerr)]\n",
    "    hi = [a+b for a,b in zip(y,yerr)]\n",
    "\n",
    "    axdr.scatter(model_z[0:4],y,color='#008744',marker='^',s=300)\n",
    "    axdr.fill_between(model_z[0:4],lo,hi,alpha=.03)\n",
    "    axdr.set(xlabel='$z$')\n",
    "    axdr.set(ylabel='$f_{D|R}(z)$', ylim=(0, 0.4),xlim=(.29,1.1));\n",
    "    plt.tight_layout()"
   ]
  },
  {
   "cell_type": "code",
   "execution_count": 12,
   "metadata": {
    "collapsed": false
   },
   "outputs": [],
   "source": [
    "#define rate labels\n",
    "rate_vector_labels = pd.Index(( ('BD1 to RD1'),\n",
    "                                ('BD1 to RE2'),\n",
    "                                ('RD1 to RE2'),\n",
    "                                ('K to RE1')))"
   ]
  },
  {
   "cell_type": "code",
   "execution_count": 13,
   "metadata": {
    "collapsed": true
   },
   "outputs": [],
   "source": [
    "def rate_list(n=10., w=.1):\n",
    "    #d = bd1 -> rd1\n",
    "    #h = bd1 -> re2\n",
    "    #l = rd1 -> re2\n",
    "    #q = K -> re1\n",
    "    \n",
    "    #max rate = +/- 0.1\n",
    "    #n = number of steps for each rate\n",
    "    m1=.041\n",
    "    m2 = .0825\n",
    "    rate_data = [[round(d*m1+.005,3),\n",
    "                  round(h*m1+.005,3),\n",
    "                  round(l*m1+.005,3),\n",
    "                  round(q*m2-.99,3)] \n",
    "                  for d in range(0,25)\n",
    "                  for h in range(0,25)\n",
    "                  for l in range(0,25)\n",
    "                  for q in range(0,25)\n",
    "             ]\n",
    "    return rate_data"
   ]
  },
  {
   "cell_type": "code",
   "execution_count": null,
   "metadata": {
    "collapsed": false
   },
   "outputs": [],
   "source": [
    "r = np.linspace(-.99,.99,25)\n",
    "m2=r[1]-r[0]\n",
    "ratedata = [round(i*m2+r[0],3) for i in range(0,25)]\n",
    "ratedata,m2"
   ]
  },
  {
   "cell_type": "code",
   "execution_count": 14,
   "metadata": {
    "collapsed": false
   },
   "outputs": [
    {
     "data": {
      "text/plain": [
       "(array([ 15625.,  15625.,  15625.,  15625.,  15625.,  15625.,  15625.,\n",
       "         15625.,  15625.,  15625.,  15625.,  15625.,  15625.,  15625.,\n",
       "         15625.,  15625.,  15625.,  15625.,  15625.,  15625.,  15625.,\n",
       "         15625.,  15625.,  15625.,  15625.]),\n",
       " array([-0.99  , -0.9108, -0.8316, -0.7524, -0.6732, -0.594 , -0.5148,\n",
       "        -0.4356, -0.3564, -0.2772, -0.198 , -0.1188, -0.0396,  0.0396,\n",
       "         0.1188,  0.198 ,  0.2772,  0.3564,  0.4356,  0.5148,  0.594 ,\n",
       "         0.6732,  0.7524,  0.8316,  0.9108,  0.99  ]),\n",
       " <a list of 25 Patch objects>)"
      ]
     },
     "execution_count": 14,
     "metadata": {},
     "output_type": "execute_result"
    },
    {
     "data": {
      "image/png": "[encoded data removed]",
      "text/plain": [
       "<matplotlib.figure.Figure at 0x7feee8b4b090>"
      ]
     },
     "metadata": {},
     "output_type": "display_data"
    }
   ],
   "source": [
    "#sanity checks\n",
    "rate_data = rate_list()\n",
    "\n",
    "this_rate = [val[3] for val in rate_data]\n",
    "plt.hist(this_rate,bins=25)"
   ]
  },
  {
   "cell_type": "code",
   "execution_count": 15,
   "metadata": {
    "collapsed": false
   },
   "outputs": [
    {
     "name": "stdout",
     "output_type": "stream",
     "text": [
      "number of combinations: 390625\n"
     ]
    }
   ],
   "source": [
    "#generate a bunch of combinations of rates, 2 each, maximum rate of 0.1\n",
    "#rate_data = rate_list()\n",
    "print 'number of combinations: %s'%len(rate_data)"
   ]
  },
  {
   "cell_type": "code",
   "execution_count": null,
   "metadata": {
    "collapsed": false
   },
   "outputs": [],
   "source": []
  },
  {
   "cell_type": "code",
   "execution_count": 26,
   "metadata": {
    "collapsed": false
   },
   "outputs": [],
   "source": [
    "#create table to save results\n",
    "c0 = Column(np.zeros(1),name='chi2') \n",
    "c2 = Column(np.zeros(1), name = 'BD1 to RD1')\n",
    "c4 = Column(np.zeros(1), name = 'BD1 to RE2')\n",
    "c6 = Column(np.zeros(1), name = 'RD1 to RE2')\n",
    "c8 = Column(np.zeros(1), name = 'K to RE1')\n",
    "\n",
    "chi2_table_1d_mass1 = Table()  \n",
    "chi2_table_1d_mass1.add_columns([c0,c2,c4,c6,c8])\n"
   ]
  },
  {
   "cell_type": "code",
   "execution_count": 16,
   "metadata": {
    "collapsed": false
   },
   "outputs": [
    {
     "data": {
      "text/plain": [
       "390626"
      ]
     },
     "execution_count": 16,
     "metadata": {},
     "output_type": "execute_result"
    }
   ],
   "source": [
    "#or: load table\n",
    "chi2_table_1d_mass1 = Table.read('chi2_table_1d_mass1.fits')\n",
    "#chi2_table.remove_row(0)\n",
    "len(chi2_table_1d_mass1)"
   ]
  },
  {
   "cell_type": "code",
   "execution_count": 28,
   "metadata": {
    "collapsed": false
   },
   "outputs": [
    {
     "data": {
      "text/plain": [
       "([0.907, 0.456, 0.62, -0.99], <Row index=351000>\n",
       "      chi2     BD1 to RD1 BD1 to RE2 RD1 to RE2 K to RE1\n",
       "    float64     float64    float64    float64   float64 \n",
       " ------------- ---------- ---------- ---------- --------\n",
       " 29226.4198995      0.907      0.456       0.62    -0.99)"
      ]
     },
     "execution_count": 28,
     "metadata": {},
     "output_type": "execute_result"
    }
   ],
   "source": [
    "idx = 351000\n",
    "rate_data[idx],chi2_table_1d_mass1[idx]"
   ]
  },
  {
   "cell_type": "code",
   "execution_count": 30,
   "metadata": {
    "collapsed": false
   },
   "outputs": [],
   "source": [
    "chi2_table_1d_mass1 = chi2_table_1d_mass1[0:351000]"
   ]
  },
  {
   "cell_type": "code",
   "execution_count": 31,
   "metadata": {
    "collapsed": false
   },
   "outputs": [
    {
     "name": "stdout",
     "output_type": "stream",
     "text": [
      "0 29226.4198995 12:00:26.802379\n",
      "1000 35002.4457012 12:01:45.887165\n",
      "2000 27867.2883895 12:03:05.916557\n",
      "3000 33710.2791005 12:04:28.367287\n",
      "4000 39373.7583034 12:05:54.076164\n",
      "5000 32322.2634303 12:07:14.343536\n",
      "6000 38142.1810265 12:08:35.146840\n",
      "7000 30813.1258227 12:09:55.597126\n",
      "8000 36810.4756757 12:11:16.366913\n",
      "9000 33531.5477125 12:12:31.463085\n",
      "10000 26917.1204378 12:13:43.142228\n",
      "11000 32370.1313924 12:14:55.411579\n",
      "12000 25764.2548505 12:16:11.163589\n",
      "13000 31157.7435723 12:17:29.880665\n",
      "14000 36845.1248932 12:18:50.455368\n",
      "15000 29884.8429204 12:20:08.520454\n",
      "16000 35645.9612602 12:21:29.772495\n",
      "17000 28537.2040564 12:22:49.385024\n",
      "18000 34369.8096804 12:24:10.554971\n",
      "19000 39991.7358725 12:25:30.922782\n",
      "20000 32999.2934945 12:26:50.601730\n",
      "21000 38779.0024341 12:28:14.765634\n",
      "22000 31509.496936 12:29:35.794329\n",
      "23000 37467.894663 12:30:57.300353\n",
      "24000 34136.1241237 12:32:19.009097\n",
      "25000 27517.1417444 12:33:32.592201\n",
      "26000 32984.2483259 12:34:46.170731\n",
      "27000 26367.4363312 12:36:03.126757\n",
      "28000 31781.8313829 12:37:20.333791\n",
      "29000 37447.2169555 12:38:38.595051\n",
      "30000 30519.515059 12:40:00.801109\n",
      "31000 36262.6009841 12:41:24.227003\n",
      "32000 29183.3427604 12:42:46.925888\n",
      "33000 35002.1323076 12:44:08.457872\n",
      "34000 40581.1213263 12:45:31.248778\n",
      "35000 33648.7385815 12:46:53.280633\n",
      "36000 39386.7040147 12:48:20.964807\n",
      "37000 32177.8681671 12:49:43.800866\n",
      "38000 38095.6028182 12:51:05.024805\n",
      "39000 43478.5778641 12:52:27.602490\n"
     ]
    }
   ],
   "source": [
    "fname = 'chi2_table_1d_mass1.fits'\n",
    "\n",
    "import datetime\n",
    "#test 30,000 rate combos to start \n",
    "for i,vector in enumerate(rate_data[351000:]):\n",
    "    rate_vector = pd.Series(index=rate_vector_labels,data=vector)\n",
    "    chi2val = model_fractions(rate_vector,m_centers)\n",
    "    chi2_table_1d_mass1.add_row([chi2val]+vector)\n",
    "    if i % 1000 ==0:\n",
    "        print i, chi2val, datetime.datetime.now().strftime('%H:%M:%S.%f')\n",
    "    if i % 5000 ==0:\n",
    "        chi2_table_1d_mass1.write(fname,format='fits',overwrite=True)"
   ]
  },
  {
   "cell_type": "code",
   "execution_count": 32,
   "metadata": {
    "collapsed": false,
    "scrolled": true
   },
   "outputs": [],
   "source": [
    "#chi2_table_1d_mass1.remove_row(0)\n",
    "chi2_table_1d_mass1.write(fname,format='fits',overwrite=True) #once more for good measure"
   ]
  },
  {
   "cell_type": "code",
   "execution_count": 13,
   "metadata": {
    "collapsed": false
   },
   "outputs": [
    {
     "data": {
      "text/plain": [
       "15011"
      ]
     },
     "execution_count": 13,
     "metadata": {},
     "output_type": "execute_result"
    }
   ],
   "source": [
    "find_nearest_idx(chi2_table_1d_mass1['chi2'],np.min(chi2_table_1d_mass1['chi2']))"
   ]
  },
  {
   "cell_type": "code",
   "execution_count": 14,
   "metadata": {
    "collapsed": true
   },
   "outputs": [],
   "source": [
    "#plot a few of the best values\n",
    "def plot_best_values(rank):\n",
    "    #rank = 0 for lowest chi2, 1 for second lowest, etc. \n",
    "    rate_list = []\n",
    "    for val in chi2_table_1d_mass1[rank]:\n",
    "        rate_list.append(val)\n",
    "    rate_list = rate_list[1:]\n",
    "    rate_vector = pd.Series(index=rate_vector_labels,data=rate_list) #rate combo with best chi2\n",
    "    F_RD,F_DR,chi2val = model_fractions(rate_vector,m)\n",
    "    plot_NF(F_RD,F_DR)"
   ]
  },
  {
   "cell_type": "code",
   "execution_count": 17,
   "metadata": {
    "collapsed": false
   },
   "outputs": [
    {
     "data": {
      "image/png": "[encoded data removed]",
      "text/plain": [
       "<matplotlib.figure.Figure at 0x7f7aae90fc10>"
      ]
     },
     "metadata": {},
     "output_type": "display_data"
    }
   ],
   "source": [
    "plot_best_values(15011)\n"
   ]
  },
  {
   "cell_type": "code",
   "execution_count": 1,
   "metadata": {
    "collapsed": false
   },
   "outputs": [
    {
     "ename": "NameError",
     "evalue": "name 'chi2_table_1d_mass1' is not defined",
     "output_type": "error",
     "traceback": [
      "\u001b[1;31m---------------------------------------------------------------------------\u001b[0m",
      "\u001b[1;31mNameError\u001b[0m                                 Traceback (most recent call last)",
      "\u001b[1;32m<ipython-input-1-0746d6a04c3d>\u001b[0m in \u001b[0;36m<module>\u001b[1;34m()\u001b[0m\n\u001b[1;32m----> 1\u001b[1;33m \u001b[0mchi2_table_1d_mass1\u001b[0m\u001b[1;33m[\u001b[0m\u001b[1;36m15011\u001b[0m\u001b[1;33m]\u001b[0m\u001b[1;33m\u001b[0m\u001b[0m\n\u001b[0m",
      "\u001b[1;31mNameError\u001b[0m: name 'chi2_table_1d_mass1' is not defined"
     ]
    }
   ],
   "source": [
    "chi2_table_1d_mass1[15011]"
   ]
  },
  {
   "cell_type": "code",
   "execution_count": null,
   "metadata": {
    "collapsed": false
   },
   "outputs": [],
   "source": []
  },
  {
   "cell_type": "code",
   "execution_count": null,
   "metadata": {
    "collapsed": false
   },
   "outputs": [],
   "source": []
  },
  {
   "cell_type": "code",
   "execution_count": null,
   "metadata": {
    "collapsed": false
   },
   "outputs": [],
   "source": []
  },
  {
   "cell_type": "code",
   "execution_count": null,
   "metadata": {
    "collapsed": false
   },
   "outputs": [],
   "source": []
  },
  {
   "cell_type": "code",
   "execution_count": null,
   "metadata": {
    "collapsed": true
   },
   "outputs": [],
   "source": []
  }
 ],
 "metadata": {
  "kernelspec": {
   "display_name": "Python 2",
   "language": "python",
   "name": "python2"
  },
  "language_info": {
   "codemirror_mode": {
    "name": "ipython",
    "version": 2
   },
   "file_extension": ".py",
   "mimetype": "text/x-python",
   "name": "python",
   "nbconvert_exporter": "python",
   "pygments_lexer": "ipython2",
   "version": "2.7.6"
  }
 },
 "nbformat": 4,
 "nbformat_minor": 0
}

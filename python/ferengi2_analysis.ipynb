{
 "cells": [
  {
   "cell_type": "code",
   "execution_count": 1,
   "metadata": {
    "collapsed": false
   },
   "outputs": [
    {
     "name": "stdout",
     "output_type": "stream",
     "text": [
      "Populating the interactive namespace from numpy and matplotlib\n"
     ]
    }
   ],
   "source": [
    "%pylab inline\n",
    "import matplotlib.gridspec as gridspec\n",
    "from astropy.table import Table,Column\n",
    "import numpy as np\n",
    "import matplotlib.pyplot as plt\n",
    "from operator import itemgetter\n",
    "import os\n",
    "from astropy.cosmology import WMAP9 \n",
    "import requests\n",
    "from scipy import stats\n",
    "import matplotlib.patches as patches\n",
    "import scipy.stats.distributions as dist\n",
    "from scipy.optimize import curve_fit\n",
    "from PIL import Image\n",
    "import urllib, cStringIO\n",
    "import random\n",
    "\n",
    "#function for getting galaxy images\n",
    "def get_image(url):\n",
    "    file = cStringIO.StringIO(urllib.urlopen(url).read())\n",
    "    img = Image.open(file)\n",
    "    return img\n",
    "\n",
    "\n",
    "mpl.rcParams['text.usetex']=True\n",
    "mpl.rcParams['xtick.labelsize'] = 20\n",
    "mpl.rcParams['ytick.labelsize'] = 20 \n"
   ]
  },
  {
   "cell_type": "code",
   "execution_count": 2,
   "metadata": {
    "collapsed": true
   },
   "outputs": [],
   "source": [
    "#ferengi data\n",
    "data=Table.read('../new_ferengi/data/ferengi2_reduced.fits')"
   ]
  },
  {
   "cell_type": "code",
   "execution_count": 3,
   "metadata": {
    "collapsed": false
   },
   "outputs": [
    {
     "name": "stdout",
     "output_type": "stream",
     "text": [
      "134 edge on disks excluded from data, leaving 802 galaxies\n"
     ]
    }
   ],
   "source": [
    "f_features =  't00_smooth_or_features_a1_features_frac_weighted_2'\n",
    "#exclude edge-on disks\n",
    "f_notedgeon = 't02_edgeon_a05_no_debiased'\n",
    "n_edgeon = 't02_edgeon_a04_weight'\n",
    "n_limit = (data[n_edgeon]<20)\n",
    "f_limit = (data[n_edgeon]>=20) & (data[f_notedgeon]>=0.6)\n",
    "data = data[n_limit | f_limit]\n",
    "print '{} edge on disks excluded from data, leaving {} galaxies'.format(936-len(data),len(data))"
   ]
  },
  {
   "cell_type": "code",
   "execution_count": 8,
   "metadata": {
    "collapsed": true
   },
   "outputs": [],
   "source": [
    "def get_error(k,n,c=0.683):\n",
    "    p_lower = dist.beta.ppf((1-c)/2.,k+1,n-k+1)\n",
    "    p_upper = dist.beta.ppf(1-(1-c)/2.,k+1,n-k+1)\n",
    "    return p_lower,p_upper\n",
    "\n",
    "# calculate I, I_e, Ierr, I_e_err for different thresholds t\n",
    "\n",
    "def get_I(t,morph_type):\n",
    "    #t = thereshold for detecting disk galaxies \n",
    "    #morph_type = disks or elliptical \n",
    "    Inc = []\n",
    "    Inc_lo = []\n",
    "    Inc_hi = []\n",
    "    yerr = []\n",
    "    \n",
    "    for zsim in range(3,11):\n",
    "        f_at_3 = []\n",
    "        f_at_z = []\n",
    "        for gal in data: #for each galaxy at that redshift:\n",
    "            f_at_3.append(gal['f_features_03']) #value of f_features at z=0.3\n",
    "            f_at_z.append(gal['f_features_{:02d}'.format(zsim)]) #value of f_features at z=z\n",
    "    \n",
    "        f_at_3 = np.array(f_at_3)\n",
    "        f_at_z = np.array(f_at_z)\n",
    "\n",
    "        if morph_type == 'disk': #calculate number of disks \n",
    "            N_act = len(f_at_3[f_at_3>=t])\n",
    "            N_obs = len(f_at_z[f_at_z>=t])\n",
    "            I=float(N_obs)/N_act if (N_act+N_obs)>10  else 0\n",
    "            Inc.append(I)\n",
    "            errlo,errhi=get_error(N_obs,N_act,.95)\n",
    "            Inc_lo.append(errlo)\n",
    "            Inc_hi.append(errhi)\n",
    "\n",
    "        \n",
    "        else: #calculate number of ellipticals \n",
    "            N_act = len(f_at_3[f_at_3<t])\n",
    "            N_obs = len(f_at_z[f_at_z<t])            \n",
    "            I=float(N_obs)/N_act if (N_act+N_obs)>10  else 0\n",
    "            Inc.append(I)\n",
    "            errlo,errhi=get_error(N_act,N_obs,.95)\n",
    "            Inc_lo.append(1./errlo)\n",
    "            Inc_hi.append(1./errhi)    \n",
    "\n",
    "        yerr.append(((errhi-I)+(I-errlo))/2) #average error for point\n",
    "        \n",
    "    #fit data to function, assume simple linear. feel free to try other functions. \n",
    "    def func(x, m, b):\n",
    "        return m*x+b\n",
    "    popt, pcov = curve_fit(func, zs, Inc, sigma=yerr)\n",
    "    perr = np.sqrt(np.diag(pcov)) #error on slope, intercept of linear fit\n",
    "    \n",
    "    return Inc, Inc_hi, Inc_lo, popt, perr"
   ]
  },
  {
   "cell_type": "code",
   "execution_count": 5,
   "metadata": {
    "collapsed": false
   },
   "outputs": [
    {
     "data": {
      "text/plain": [
       "array([ 0.3,  0.4,  0.5,  0.6,  0.7,  0.8,  0.9,  1. ])"
      ]
     },
     "execution_count": 5,
     "metadata": {},
     "output_type": "execute_result"
    }
   ],
   "source": [
    "zs= np.linspace(3,10,8)\n",
    "zs = zs/10.\n",
    "zs"
   ]
  },
  {
   "cell_type": "code",
   "execution_count": 104,
   "metadata": {
    "collapsed": false
   },
   "outputs": [],
   "source": [
    "thresholds = [0.25,0.3]\n",
    "# Save Incompletness values for diff. thresholds and errors\n",
    "l = len(thresholds)\n",
    "c0 = Column(data=np.zeros(l),name='threshold')\n",
    "c1 = Column(data=np.zeros(l),name='slope') \n",
    "c2 = Column(data=np.zeros(l),name='intercept')\n",
    "c3 = Column(data=np.zeros(l),name = 'slope_err')\n",
    "c4 = Column(data=np.zeros(l),name = 'intercept_err')\n",
    "c5 = Column(data=np.zeros(l),name='E_slope') \n",
    "c6 = Column(data=np.zeros(l),name='E_intercept')\n",
    "c7 = Column(data=np.zeros(l),name = 'E_slope_err')\n",
    "c8 = Column(data=np.zeros(l),name = 'E_intercept_err')\n",
    "\n",
    "\n",
    "Inc_table = Table()  \n",
    "Inc_table.add_columns([c0,c1,c2,c3,c4,c5,c6,c7,c8])\n",
    "\n"
   ]
  },
  {
   "cell_type": "code",
   "execution_count": 109,
   "metadata": {
    "collapsed": false
   },
   "outputs": [],
   "source": [
    "for i,t in enumerate(thresholds): \n",
    "    Inc_table['threshold'][i]=t\n",
    "    Inc, Inc_hi, Inc_lo, popt, perr = get_I(t,'disk')\n",
    "    Inc_table['slope'][i] = popt[0]\n",
    "    Inc_table['intercept'][i]=popt[1]\n",
    "    Inc_table['slope_err'][i]=perr[0]\n",
    "    Inc_table['intercept_err'][i]=perr[1]\n",
    "    Inc, Inc_hi, Inc_lo, popt, perr = get_I(t,'elliptical')\n",
    "    Inc_table['E_slope'][i] = popt[0]\n",
    "    Inc_table['E_intercept'][i]=popt[1]\n",
    "    Inc_table['E_slope_err'][i]=perr[0]\n",
    "    Inc_table['E_intercept_err'][i]=perr[1]"
   ]
  },
  {
   "cell_type": "code",
   "execution_count": 110,
   "metadata": {
    "collapsed": false
   },
   "outputs": [
    {
     "data": {
      "text/html": [
       "&lt;Table length=2&gt;\n",
       "<table id=\"table140558679317200\" class=\"table-striped table-bordered table-condensed\">\n",
       "<thead><tr><th>threshold</th><th>slope</th><th>intercept</th><th>slope_err</th><th>intercept_err</th><th>E_slope</th><th>E_intercept</th><th>E_slope_err</th><th>E_intercept_err</th></tr></thead>\n",
       "<thead><tr><th>float64</th><th>float64</th><th>float64</th><th>float64</th><th>float64</th><th>float64</th><th>float64</th><th>float64</th><th>float64</th></tr></thead>\n",
       "<tr><td>0.25</td><td>-0.469286714638</td><td>1.1397862307</td><td>0.0531316988255</td><td>0.0196808837046</td><td>0.196990691255</td><td>0.941349422399</td><td>0.0224690202579</td><td>0.00832546930179</td></tr>\n",
       "<tr><td>0.3</td><td>-0.972074430269</td><td>1.28966655874</td><td>0.0415274228413</td><td>0.0150733207304</td><td>0.325076030193</td><td>0.903083683559</td><td>0.0152539126615</td><td>0.00534036542556</td></tr>\n",
       "</table>"
      ],
      "text/plain": [
       "<Table length=2>\n",
       "threshold      slope        intercept   ...   E_slope_err   E_intercept_err \n",
       " float64      float64        float64    ...     float64         float64     \n",
       "--------- --------------- ------------- ... --------------- ----------------\n",
       "     0.25 -0.469286714638  1.1397862307 ... 0.0224690202579 0.00832546930179\n",
       "      0.3 -0.972074430269 1.28966655874 ... 0.0152539126615 0.00534036542556"
      ]
     },
     "execution_count": 110,
     "metadata": {},
     "output_type": "execute_result"
    }
   ],
   "source": [
    "Inc_table"
   ]
  },
  {
   "cell_type": "code",
   "execution_count": 111,
   "metadata": {
    "collapsed": false
   },
   "outputs": [],
   "source": [
    "fname = '../data/ferengi_Inc.fits'\n",
    "if os.path.exists(fname):\n",
    "    os.remove(fname)\n",
    "Inc_table.write(fname,format='fits')"
   ]
  },
  {
   "cell_type": "code",
   "execution_count": 9,
   "metadata": {
    "collapsed": false
   },
   "outputs": [
    {
     "data": {
      "text/plain": [
       "<matplotlib.legend.Legend at 0x7faacaeed450>"
      ]
     },
     "execution_count": 9,
     "metadata": {},
     "output_type": "execute_result"
    },
    {
     "data": {
      "image/png": "[encoded data removed]",
      "text/plain": [
       "<matplotlib.figure.Figure at 0x7faacb0bb690>"
      ]
     },
     "metadata": {},
     "output_type": "display_data"
    }
   ],
   "source": [
    "#plot stuff\n",
    "t=0.3\n",
    "Inc, Inc_hi, Inc_lo, popt, perr = get_I(t,'disk')\n",
    "slope = popt[0]\n",
    "intercept=popt[1]\n",
    "f=plt.figure(figsize=(10,7))\n",
    "plt.ylim(.2,1.1)\n",
    "plt.xlim(.2,1.1)\n",
    "plt.xlabel('$\\mathrm{redshift}$',fontsize=35)\n",
    "plt.ylabel(r'$\\mathrm{completeness~\\xi}$',fontsize=35)\n",
    "\n",
    "plt.fill_between(zs,Inc_hi,Inc_lo,alpha=0.2,color='k')\n",
    "\n",
    "plt.scatter(zs,Inc,marker='x',color='k',s=50)\n",
    "plt.plot(zs,zs*slope+intercept,ls='dashed',c='k',label=r'$~\\xi={:.2f}z+{:.2f}$'.format(slope,intercept),lw=2)\n",
    "plt.legend(fontsize=30,frameon=False)"
   ]
  },
  {
   "cell_type": "code",
   "execution_count": 14,
   "metadata": {
    "collapsed": false
   },
   "outputs": [],
   "source": [
    "errhi = [a-b for a,b in zip(Inc_hi,Inc)]\n",
    "errlo = [a-b for a,b in zip(Inc,Inc_lo)]"
   ]
  },
  {
   "cell_type": "code",
   "execution_count": 16,
   "metadata": {
    "collapsed": false
   },
   "outputs": [],
   "source": [
    "err = [(a+b)/2 for a,b in zip(errhi,errlo)]"
   ]
  },
  {
   "cell_type": "code",
   "execution_count": 17,
   "metadata": {
    "collapsed": false
   },
   "outputs": [
    {
     "data": {
      "text/plain": [
       "[0.0090296493716082726,\n",
       " 0.048099751731749629,\n",
       " 0.059665333904062534,\n",
       " 0.065805444380345413,\n",
       " 0.06673393065612504,\n",
       " 0.068220454474867215,\n",
       " 0.067725143203711674,\n",
       " 0.064924495576628383]"
      ]
     },
     "execution_count": 17,
     "metadata": {},
     "output_type": "execute_result"
    }
   ],
   "source": [
    "err"
   ]
  },
  {
   "cell_type": "code",
   "execution_count": 18,
   "metadata": {
    "collapsed": false
   },
   "outputs": [
    {
     "data": {
      "text/plain": [
       "array([ 0.3,  0.4,  0.5,  0.6,  0.7,  0.8,  0.9,  1. ])"
      ]
     },
     "execution_count": 18,
     "metadata": {},
     "output_type": "execute_result"
    }
   ],
   "source": [
    "zs"
   ]
  },
  {
   "cell_type": "code",
   "execution_count": null,
   "metadata": {
    "collapsed": true
   },
   "outputs": [],
   "source": []
  }
 ],
 "metadata": {
  "kernelspec": {
   "display_name": "Python 2",
   "language": "python",
   "name": "python2"
  },
  "language_info": {
   "codemirror_mode": {
    "name": "ipython",
    "version": 2
   },
   "file_extension": ".py",
   "mimetype": "text/x-python",
   "name": "python",
   "nbconvert_exporter": "python",
   "pygments_lexer": "ipython2",
   "version": "2.7.6"
  }
 },
 "nbformat": 4,
 "nbformat_minor": 0
}

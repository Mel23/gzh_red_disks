{
 "cells": [
  {
   "cell_type": "code",
   "execution_count": 24,
   "metadata": {
    "collapsed": true
   },
   "outputs": [],
   "source": [
    "from matplotlib import pyplot as plt\n",
    "import pandas as pd\n",
    "from scipy.integrate import odeint\n",
    "from astropy import cosmology\n",
    "from IPython.display import Image\n",
    "import numpy as np\n",
    "%matplotlib inline\n",
    "# better-looking plots\n",
    "plt.rcParams['font.family'] = 'serif'\n",
    "plt.rcParams['figure.figsize'] = (10.0, 8.0)\n",
    "plt.rcParams['font.size'] = 12\n",
    "\n",
    "C =cosmology.Planck15"
   ]
  },
  {
   "cell_type": "markdown",
   "metadata": {},
   "source": [
    "Describe migration between classes using differential equations parameterised by the transition rates.\n",
    "\n",
    "In the interval $dt$, the **change** in the number of blue disks equals **minus** the fraction of the current number of blue disks that will become red disks **minus** the fraction of the current number of blue disks that will become red ellipticals **minus** term accounting for the number of blue disks moving into this mass bin due to increasing their mass via SF (Peng et al. 2010)\n",
    "\n",
    "$\\frac{dN_{BD}}{dt} = - N_{BD} \\, \\left(r_{BD \\rightarrow RD} + r_{BD \\rightarrow RE} +  (\\alpha \\cdot sSFR(t)) \\right)$\n",
    "\n",
    "In the interval $dt$, the **change** in the number of red disks equals the fraction of the current number of blue disks that will become red disks **minus** the fraction of the current number of red disks that will become red ellipticals (red disks do not rejuvenate in this model).\n",
    "\n",
    "$\\frac{dN_{RD}}{dt} = - N_{RD} \\, r_{RD \\rightarrow RE} + N_{BD} \\, r_{BD \\rightarrow RD}$\n",
    "\n",
    "\n",
    "In the interval $dt$, the **change** in the number of red disks equals the fraction of the current number of blue disks that will become red ellipticals **minus** the fraction of the current number of red disks that will become red ellipticals (red ellipticals remain red ellipticals forever).\n",
    "\n",
    "$\\frac{dN_{RE}}{dt} = + N_{BD} \\, r_{BD \\rightarrow RE} + N_{RD} \\, r_{RD \\rightarrow RE}$"
   ]
  },
  {
   "cell_type": "code",
   "execution_count": 2,
   "metadata": {
    "collapsed": false
   },
   "outputs": [
    {
     "data": {
      "text/html": [
       "<div>\n",
       "<table border=\"1\" class=\"dataframe\">\n",
       "  <thead>\n",
       "    <tr style=\"text-align: right;\">\n",
       "      <th></th>\n",
       "      <th>from BD</th>\n",
       "      <th>from RD</th>\n",
       "      <th>from RE</th>\n",
       "    </tr>\n",
       "  </thead>\n",
       "  <tbody>\n",
       "    <tr>\n",
       "      <th>to BD</th>\n",
       "      <td>$r_{BD \\rightarrow BD}$</td>\n",
       "      <td>$r_{RD \\rightarrow BD}$</td>\n",
       "      <td>$r_{RE \\rightarrow BD}$</td>\n",
       "    </tr>\n",
       "    <tr>\n",
       "      <th>to RD</th>\n",
       "      <td>$r_{BD \\rightarrow RD}$</td>\n",
       "      <td>$r_{RD \\rightarrow RD}$</td>\n",
       "      <td>$r_{RE \\rightarrow RD}$</td>\n",
       "    </tr>\n",
       "    <tr>\n",
       "      <th>to RE</th>\n",
       "      <td>$r_{BD \\rightarrow RE}$</td>\n",
       "      <td>$r_{RD \\rightarrow RE}$</td>\n",
       "      <td>$r_{RE \\rightarrow RE}$</td>\n",
       "    </tr>\n",
       "  </tbody>\n",
       "</table>\n",
       "</div>"
      ],
      "text/plain": [
       "                       from BD                  from RD  \\\n",
       "to BD  $r_{BD \\rightarrow BD}$  $r_{RD \\rightarrow BD}$   \n",
       "to RD  $r_{BD \\rightarrow RD}$  $r_{RD \\rightarrow RD}$   \n",
       "to RE  $r_{BD \\rightarrow RE}$  $r_{RD \\rightarrow RE}$   \n",
       "\n",
       "                       from RE  \n",
       "to BD  $r_{RE \\rightarrow BD}$  \n",
       "to RD  $r_{RE \\rightarrow RD}$  \n",
       "to RE  $r_{RE \\rightarrow RE}$  "
      ]
     },
     "execution_count": 2,
     "metadata": {},
     "output_type": "execute_result"
    }
   ],
   "source": [
    "states = pd.Index(('BD', 'RD', 'RE')) #only considering blue disks, red disks, red ellipticals\n",
    "rate_labels = pd.DataFrame(index='to ' + states, columns='from ' + states,\n",
    "                     data=[['$r_{BD \\rightarrow BD}$', '$r_{RD \\rightarrow BD}$', '$r_{RE \\rightarrow BD}$'],\n",
    "                           ['$r_{BD \\rightarrow RD}$', '$r_{RD \\rightarrow RD}$', '$r_{RE \\rightarrow RD}$'],\n",
    "                           ['$r_{BD \\rightarrow RE}$', '$r_{RD \\rightarrow RE}$', '$r_{RE \\rightarrow RE}$']])\n",
    "rate_labels"
   ]
  },
  {
   "cell_type": "code",
   "execution_count": 3,
   "metadata": {
    "collapsed": true
   },
   "outputs": [],
   "source": [
    "def alpha(a_s,M_star,m):\n",
    "    alpha = (1+a_s) - m/M_star\n",
    "    return alpha\n",
    "def sSFR(t):\n",
    "    sSFR = 2.5*(t/3.5)**(-2.2)\n",
    "    return sSFR\n",
    "def rate_matrix(rates,m,t):\n",
    "    #create matrix using rates to reproduce differential equations when dotted with vector N0\n",
    "    rate_mtrx = pd.DataFrame(data=np.zeros((3, 3)))\n",
    "    a_s = -1.4 \n",
    "    M_star = 10.82\n",
    "    rate_mtrx[0][0] = -rates['from BD']['to RD'] - rates['from BD']['to RE'] - alpha(a_s,M_star,m)*sSFR(t)\n",
    "    rate_mtrx[0][1] = rates['from BD']['to RD']\n",
    "    rate_mtrx[0][2] = rates['from BD']['to RE']\n",
    "    rate_mtrx[1][2] = rates['from RD']['to RE']\n",
    "    rate_mtrx[2][2] = rates['from RE']['to RE']\n",
    "    return rate_mtrx\n",
    "def model(N, t, rates, rate_matrix_fn, m):\n",
    "    rate_mtrx = rate_matrix_fn(rates,m,t)\n",
    "    return np.dot(rate_mtrx, N)\n",
    "def find_nearest(array,value):\n",
    "    idx = (np.abs(array-value)).argmin()\n",
    "    return array[idx]\n",
    "def find_nearest_idx(array,value):\n",
    "    idx = (np.abs(array-value)).argmin()\n",
    "    return idx\n"
   ]
  },
  {
   "cell_type": "code",
   "execution_count": 4,
   "metadata": {
    "collapsed": false
   },
   "outputs": [
    {
     "data": {
      "text/plain": [
       "[0.31, 0.54, 0.76, 0.99]"
      ]
     },
     "execution_count": 4,
     "metadata": {},
     "output_type": "execute_result"
    }
   ],
   "source": [
    "#centers of bins where f_rid and f_dir are evaluated \n",
    "z_centers = [0.3125, 0.53750000000000009, 0.76250000000000007, 0.98750000000000004]\n",
    "z_centers = [round(z,2) for z in z_centers]\n",
    "z_centers"
   ]
  },
  {
   "cell_type": "code",
   "execution_count": 5,
   "metadata": {
    "collapsed": false
   },
   "outputs": [
    {
     "data": {
      "text/html": [
       "<div>\n",
       "<table border=\"1\" class=\"dataframe\">\n",
       "  <thead>\n",
       "    <tr style=\"text-align: right;\">\n",
       "      <th></th>\n",
       "      <th>0.99</th>\n",
       "      <th>0.76</th>\n",
       "      <th>0.54</th>\n",
       "      <th>0.31</th>\n",
       "    </tr>\n",
       "  </thead>\n",
       "  <tbody>\n",
       "    <tr>\n",
       "      <th>BD</th>\n",
       "      <td>266.200000</td>\n",
       "      <td>253.700000</td>\n",
       "      <td>119.300000</td>\n",
       "      <td>72.800000</td>\n",
       "    </tr>\n",
       "    <tr>\n",
       "      <th>RD</th>\n",
       "      <td>114.100000</td>\n",
       "      <td>99.300000</td>\n",
       "      <td>34.900000</td>\n",
       "      <td>21.100000</td>\n",
       "    </tr>\n",
       "    <tr>\n",
       "      <th>RE</th>\n",
       "      <td>310.900000</td>\n",
       "      <td>365.700000</td>\n",
       "      <td>124.100000</td>\n",
       "      <td>104.900000</td>\n",
       "    </tr>\n",
       "    <tr>\n",
       "      <th>$f_{R|D}$</th>\n",
       "      <td>0.300026</td>\n",
       "      <td>0.281303</td>\n",
       "      <td>0.226329</td>\n",
       "      <td>0.224707</td>\n",
       "    </tr>\n",
       "    <tr>\n",
       "      <th>$f_{D|R}$</th>\n",
       "      <td>0.268471</td>\n",
       "      <td>0.213548</td>\n",
       "      <td>0.219497</td>\n",
       "      <td>0.167460</td>\n",
       "    </tr>\n",
       "  </tbody>\n",
       "</table>\n",
       "</div>"
      ],
      "text/plain": [
       "                 0.99        0.76        0.54        0.31\n",
       "BD         266.200000  253.700000  119.300000   72.800000\n",
       "RD         114.100000   99.300000   34.900000   21.100000\n",
       "RE         310.900000  365.700000  124.100000  104.900000\n",
       "$f_{R|D}$    0.300026    0.281303    0.226329    0.224707\n",
       "$f_{D|R}$    0.268471    0.213548    0.219497    0.167460"
      ]
     },
     "execution_count": 5,
     "metadata": {},
     "output_type": "execute_result"
    }
   ],
   "source": [
    "#High Mass: 11<M<11.4, measured numbers of each state at z = 0.3, \n",
    "rd = [114.1,99.3,34.9,21.1] \n",
    "bd = [266.2,253.7,119.3,72.8]\n",
    "re = [310.9,365.7,124.1,104.9]\n",
    "\n",
    "gzh_data = pd.DataFrame(index=states, columns=z_centers[::-1],\n",
    "                        data=[bd,rd,re])\n",
    "gzh_fracs = pd.DataFrame(index=['$f_{R|D}$','$f_{D|R}$'], columns = z_centers[::-1],\n",
    "                        data = [[a/(a+b) for a,b in zip(rd,bd)],[a/(a+b) for a,b in zip(rd,re)]])\n",
    "gzh_data=gzh_data.append(gzh_fracs)\n",
    "gzh_data"
   ]
  },
  {
   "cell_type": "code",
   "execution_count": 6,
   "metadata": {
    "collapsed": true
   },
   "outputs": [],
   "source": [
    "zstart = 1.0\n",
    "zend = 0.3\n",
    "z = np.linspace(zstart, zend, 100)\n",
    "t = C.age(z)\n",
    "t0 = C.age(zend).value\n"
   ]
  },
  {
   "cell_type": "code",
   "execution_count": 7,
   "metadata": {
    "collapsed": false
   },
   "outputs": [],
   "source": [
    "def compute_likelihood(rate_vector,m):\n",
    "    # Set rates per galaxy in Gyr^{-1} at fiducial redshift\n",
    "    rates = pd.DataFrame(index='to ' + states, columns='from ' + states,\n",
    "                     data=np.zeros((3, 3)))\n",
    "    rates['from BD']['to RD'] = rate_vector[0]\n",
    "    rates['from BD']['to RE'] = rate_vector[1]\n",
    "    rates['from RD']['to RE'] = rate_vector[2]\n",
    "\n",
    "    #set initial values\n",
    "    N0 = pd.Series(index=states, data=[gzh_data[z_centers[-1]]['BD'], gzh_data[z_centers[-1]]['RD'], gzh_data[z_centers[-1]]['RE']])\n",
    "    N0 /= N0.sum()  # normalise to unity\n",
    "    \n",
    "    #evolve numbers from z=1 to z=0.3\n",
    "    N = odeint(model, N0, t, args=(rates, rate_matrix, m))\n",
    "    N = pd.DataFrame(index=z, columns='$N_{' + states + '}$', data=N)\n",
    "    N = N[::-1] #number evolution of BD,RD,RE\n",
    "    F = pd.DataFrame(index=N.index) #evolution of fractions\n",
    "    F['$f_{R|D}$'] = N['$N_{RD}$'] / (N['$N_{RD}$'] + N['$N_{BD}$'])\n",
    "    F['$f_{D|R}$'] = N['$N_{RD}$'] / (N['$N_{RD}$'] + N['$N_{RE}$'])\n",
    "    \n",
    "    #compare results of fractions at 3 redshifts, compute chi-squared:\n",
    "    chi2 = 0\n",
    "    \n",
    "    for zc in z_centers[:-1]: \n",
    "        obs_f_rid = gzh_data[zc]['$f_{R|D}$']\n",
    "        obs_f_dir = gzh_data[zc]['$f_{D|R}$']\n",
    "        idx = find_nearest(z,zc)\n",
    "        model_f_rid = F['$f_{R|D}$'][idx]\n",
    "        model_f_dir = F['$f_{D|R}$'][idx]\n",
    "    \n",
    "        chi2 += (obs_f_rid - model_f_rid)**2/model_f_rid\n",
    "        chi2 += (obs_f_dir - model_f_dir)**2/model_f_dir\n",
    "\n",
    "    #all done! return chi square value for these rates\n",
    "    return chi2"
   ]
  },
  {
   "cell_type": "markdown",
   "metadata": {},
   "source": [
    "Create a list of rates [bd->rd, bd->re, rd->re]:"
   ]
  },
  {
   "cell_type": "code",
   "execution_count": 101,
   "metadata": {
    "collapsed": false
   },
   "outputs": [
    {
     "data": {
      "text/plain": [
       "3610"
      ]
     },
     "execution_count": 101,
     "metadata": {},
     "output_type": "execute_result"
    }
   ],
   "source": [
    "n = 20.\n",
    "rate_vectors = [[x/n,y/n,k/n] for x in range(1,int(n)) for y in range(1,int(n)) for k in range(1,int(n)) if (x/n+y/n)<=1]\n",
    "len(rate_vectors)\n",
    "#chi2=[compute_likelihood(rv,11) for rv in rate_vectors]\n"
   ]
  },
  {
   "cell_type": "markdown",
   "metadata": {},
   "source": [
    "Compute chi2 for each set of rates, compute timestamp after every 1000 combinations"
   ]
  },
  {
   "cell_type": "code",
   "execution_count": 102,
   "metadata": {
    "collapsed": false
   },
   "outputs": [
    {
     "name": "stdout",
     "output_type": "stream",
     "text": [
      "0, 2017-05-18 13:01:58\n",
      "1000, 2017-05-18 13:02:48\n",
      "2000, 2017-05-18 13:03:41\n",
      "3000, 2017-05-18 13:04:34\n"
     ]
    }
   ],
   "source": [
    "chi2=[]\n",
    "for i,rv in enumerate(rate_vectors):\n",
    "    chi2.append(compute_likelihood(rv,11))\n",
    "    if i % 1000 == 0:\n",
    "        print('{}, {:%Y-%m-%d %H:%M:%S}'.format(i,datetime.datetime.now()))\n"
   ]
  },
  {
   "cell_type": "code",
   "execution_count": 103,
   "metadata": {
    "collapsed": false
   },
   "outputs": [],
   "source": [
    "#sort chi2\n",
    "chi2_sorted = [c for c in chi2]\n",
    "chi2_sorted.sort()"
   ]
  },
  {
   "cell_type": "code",
   "execution_count": 108,
   "metadata": {
    "collapsed": false
   },
   "outputs": [
    {
     "name": "stdout",
     "output_type": "stream",
     "text": [
      "[0.05, 0.35, 0.05] 0.0305113028666\n",
      "[0.1, 0.2, 0.95] 0.0314304590752\n",
      "[0.05, 0.35, 0.1] 0.0319100715529\n",
      "[0.1, 0.2, 0.9] 0.0319515917479\n",
      "[0.1, 0.2, 0.85] 0.0328389880711\n",
      "[0.1, 0.15, 0.95] 0.0330753642384\n",
      "[0.05, 0.35, 0.15] 0.0336770325768\n",
      "[0.1, 0.2, 0.8] 0.0341144683088\n",
      "[0.1, 0.15, 0.9] 0.0351209677937\n",
      "[0.05, 0.3, 0.05] 0.0357379670313\n"
     ]
    }
   ],
   "source": [
    "#find the 10 lowest chi2 values \n",
    "for c in chi2_sorted[0:10]:\n",
    "    idx = find_nearest_idx(chi2,c)\n",
    "    print rate_vectors[idx],chi2[idx]"
   ]
  },
  {
   "cell_type": "code",
   "execution_count": null,
   "metadata": {
    "collapsed": false
   },
   "outputs": [],
   "source": []
  },
  {
   "cell_type": "code",
   "execution_count": null,
   "metadata": {
    "collapsed": false
   },
   "outputs": [],
   "source": []
  },
  {
   "cell_type": "code",
   "execution_count": null,
   "metadata": {
    "collapsed": false
   },
   "outputs": [],
   "source": []
  },
  {
   "cell_type": "code",
   "execution_count": null,
   "metadata": {
    "collapsed": true
   },
   "outputs": [],
   "source": []
  }
 ],
 "metadata": {
  "kernelspec": {
   "display_name": "Python 2",
   "language": "python",
   "name": "python2"
  },
  "language_info": {
   "codemirror_mode": {
    "name": "ipython",
    "version": 2
   },
   "file_extension": ".py",
   "mimetype": "text/x-python",
   "name": "python",
   "nbconvert_exporter": "python",
   "pygments_lexer": "ipython2",
   "version": "2.7.6"
  }
 },
 "nbformat": 4,
 "nbformat_minor": 0
}

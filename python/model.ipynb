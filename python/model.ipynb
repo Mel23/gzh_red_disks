{
 "cells": [
  {
   "cell_type": "code",
   "execution_count": 1,
   "metadata": {
    "collapsed": false
   },
   "outputs": [],
   "source": [
    "from matplotlib import pyplot as plt\n",
    "import pandas as pd\n",
    "from scipy.integrate import odeint\n",
    "from astropy import cosmology\n",
    "from IPython.display import Image\n",
    "import numpy as np\n",
    "%matplotlib inline\n",
    "# better-looking plots\n",
    "plt.rcParams['font.family'] = 'serif'\n",
    "plt.rcParams['figure.figsize'] = (10.0, 8.0)\n",
    "plt.rcParams['font.size'] = 12\n",
    "\n",
    "C = cosmology.FlatLambdaCDM(70.0, 0.3)\n"
   ]
  },
  {
   "cell_type": "code",
   "execution_count": 33,
   "metadata": {
    "collapsed": true
   },
   "outputs": [],
   "source": [
    "#Record N_RD, N_BD, N_RE for each mass at each redshift bin from z=1 to z=.3\n",
    "\n",
    "\n",
    "#High Mass: 11<M<11.4\n",
    "rd = [134.5,114.0,38.9,26.4]\n",
    "bd = [133.3,182.3,100.4,76.3]\n",
    "re = [356.5,418.0,144.1,121.6]\n",
    "\n",
    "f_RID1 = rd[0]/(rd[0]+bd[0]) #red disks / red disks + blue disks at z=1\n",
    "f_DIR1 = rd[0]/(rd[0]+re[0]) #red disks / red disks + red ellipticals at z=1\n",
    "\n",
    "\n",
    "f_RID3 = rd[-1]/(rd[-1]+bd[-1]) #red disks / red disks + blue disks at z=0.3\n",
    "f_DIR3 = rd[-1]/(rd[-1]+re[-1]) #red disks / red disks + red ellipticals at z=0.3"
   ]
  },
  {
   "cell_type": "code",
   "execution_count": 29,
   "metadata": {
    "collapsed": false
   },
   "outputs": [],
   "source": [
    "# Low-middle mass: 10.3<M<10.7\n",
    "rd = [76.0,117.7,63.0,96.0]\n",
    "bd = [491.1,720.2,479.9,458.7]\n",
    "re = [616.0,1077.3,408.0,317.0]\n",
    "\n",
    "f_RID1 = rd[0]/(rd[0]+bd[0]) #red disks / red disks + blue disks at z=1\n",
    "f_DIR1 = rd[0]/(rd[0]+re[0]) #red disks / red disks + red ellipticals at z=1\n",
    "\n",
    "f_RID3 = rd[-1]/(rd[-1]+bd[-1]) #red disks / red disks + blue disks at z=0.3\n",
    "f_DIR3 = rd[-1]/(rd[-1]+re[-1]) #red disks / red disks + red ellipticals at z=0.3"
   ]
  },
  {
   "cell_type": "code",
   "execution_count": 179,
   "metadata": {
    "collapsed": true
   },
   "outputs": [],
   "source": [
    "# Low mass: 9.9<M<10.3\n",
    "rd = [5.8,18.4,14.7,54.9]\n",
    "bd = [478.3,766.6,529.8,531.7]\n",
    "re = [154.2,503.6,328.3,298.1]\n",
    "\n",
    "f_RID1 = rd[0]/(rd[0]+bd[0]) #red disks / red disks + blue disks at z=1\n",
    "f_DIR1 = rd[0]/(rd[0]+re[0]) #red disks / red disks + red ellipticals at z=1\n",
    "\n",
    "f_RID3 = rd[-1]/(rd[-1]+bd[-1]) #red disks / red disks + blue disks at z=0.3\n",
    "f_DIR3 = rd[-1]/(rd[-1]+re[-1]) #red disks / red disks + red ellipticals at z=0.3\n"
   ]
  },
  {
   "cell_type": "code",
   "execution_count": 2,
   "metadata": {
    "collapsed": true
   },
   "outputs": [],
   "source": [
    "states = pd.Index(('BD', 'RD', 'RE')) #only considering blue disks, red disks, red ellipticals\n"
   ]
  },
  {
   "cell_type": "code",
   "execution_count": 3,
   "metadata": {
    "collapsed": false
   },
   "outputs": [
    {
     "data": {
      "text/html": [
       "<div>\n",
       "<table border=\"1\" class=\"dataframe\">\n",
       "  <thead>\n",
       "    <tr style=\"text-align: right;\">\n",
       "      <th></th>\n",
       "      <th>from BD</th>\n",
       "      <th>from RD</th>\n",
       "      <th>from RE</th>\n",
       "    </tr>\n",
       "  </thead>\n",
       "  <tbody>\n",
       "    <tr>\n",
       "      <th>to BD</th>\n",
       "      <td>$r_{BD \\rightarrow BD}$</td>\n",
       "      <td>$r_{RD \\rightarrow BD}$</td>\n",
       "      <td>$r_{RE \\rightarrow BD}$</td>\n",
       "    </tr>\n",
       "    <tr>\n",
       "      <th>to RD</th>\n",
       "      <td>$r_{BD \\rightarrow RD}$</td>\n",
       "      <td>$r_{RD \\rightarrow RD}$</td>\n",
       "      <td>$r_{RE \\rightarrow RD}$</td>\n",
       "    </tr>\n",
       "    <tr>\n",
       "      <th>to RE</th>\n",
       "      <td>$r_{BD \\rightarrow RE}$</td>\n",
       "      <td>$r_{RD \\rightarrow RE}$</td>\n",
       "      <td>$r_{RE \\rightarrow RE}$</td>\n",
       "    </tr>\n",
       "  </tbody>\n",
       "</table>\n",
       "</div>"
      ],
      "text/plain": [
       "                       from BD                  from RD  \\\n",
       "to BD  $r_{BD \\rightarrow BD}$  $r_{RD \\rightarrow BD}$   \n",
       "to RD  $r_{BD \\rightarrow RD}$  $r_{RD \\rightarrow RD}$   \n",
       "to RE  $r_{BD \\rightarrow RE}$  $r_{RD \\rightarrow RE}$   \n",
       "\n",
       "                       from RE  \n",
       "to BD  $r_{RE \\rightarrow BD}$  \n",
       "to RD  $r_{RE \\rightarrow RD}$  \n",
       "to RE  $r_{RE \\rightarrow RE}$  "
      ]
     },
     "execution_count": 3,
     "metadata": {},
     "output_type": "execute_result"
    }
   ],
   "source": [
    "rate_labels = pd.DataFrame(index='to ' + states, columns='from ' + states,\n",
    "                     data=[['$r_{BD \\rightarrow BD}$', '$r_{RD \\rightarrow BD}$', '$r_{RE \\rightarrow BD}$'],\n",
    "                           ['$r_{BD \\rightarrow RD}$', '$r_{RD \\rightarrow RD}$', '$r_{RE \\rightarrow RD}$'],\n",
    "                           ['$r_{BD \\rightarrow RE}$', '$r_{RD \\rightarrow RE}$', '$r_{RE \\rightarrow RE}$']])\n",
    "rate_labels"
   ]
  },
  {
   "cell_type": "markdown",
   "metadata": {},
   "source": [
    "$\\frac{dN_{BD}}{dt}|_{m}= N_{BD} \\, (-r_{BD \\rightarrow RD} - r_{BD \\rightarrow RE} - (\\alpha \\times sSFR(t))$\n",
    "\n",
    "$\\frac{dN_{RD}}{dt}|_{m} = - N_{RD} \\, r_{RD \\rightarrow RE} + N_{BD} \\, r_{BD \\rightarrow RD}$\n",
    "\n",
    "$\\frac{dN_{RE}}{dt}|_{2m} = + N_{BD} \\, r_{BD \\rightarrow RE} + N_{RD} \\, r_{RD \\rightarrow RE} \\, + N_{RE} r_{RE \\rightarrow RE} $\n",
    "\n",
    "$\\alpha = (1+\\alpha_s)-m/M^*$\n",
    "\n",
    "$sSFR(t) = 2.5\\times(\\frac{t}{3.5 Gyr})^-2.2$"
   ]
  },
  {
   "cell_type": "code",
   "execution_count": 4,
   "metadata": {
    "collapsed": true
   },
   "outputs": [],
   "source": [
    "def alpha(a_s,M_star,m):\n",
    "    alpha = (1+a_s) - m/M_star\n",
    "    return alpha\n",
    "def sSFR(t):\n",
    "    sSFR = 2.5*(t/3.5)**(-2.2)\n",
    "    return sSFR\n"
   ]
  },
  {
   "cell_type": "code",
   "execution_count": 41,
   "metadata": {
    "collapsed": false
   },
   "outputs": [
    {
     "data": {
      "text/html": [
       "<div>\n",
       "<table border=\"1\" class=\"dataframe\">\n",
       "  <thead>\n",
       "    <tr style=\"text-align: right;\">\n",
       "      <th></th>\n",
       "      <th>from BD</th>\n",
       "      <th>from RD</th>\n",
       "      <th>from RE</th>\n",
       "    </tr>\n",
       "  </thead>\n",
       "  <tbody>\n",
       "    <tr>\n",
       "      <th>to BD</th>\n",
       "      <td>0.00</td>\n",
       "      <td>0.00</td>\n",
       "      <td>0.00</td>\n",
       "    </tr>\n",
       "    <tr>\n",
       "      <th>to RD</th>\n",
       "      <td>0.01</td>\n",
       "      <td>0.00</td>\n",
       "      <td>0.00</td>\n",
       "    </tr>\n",
       "    <tr>\n",
       "      <th>to RE</th>\n",
       "      <td>0.01</td>\n",
       "      <td>0.01</td>\n",
       "      <td>0.05</td>\n",
       "    </tr>\n",
       "  </tbody>\n",
       "</table>\n",
       "</div>"
      ],
      "text/plain": [
       "       from BD  from RD  from RE\n",
       "to BD     0.00     0.00     0.00\n",
       "to RD     0.01     0.00     0.00\n",
       "to RE     0.01     0.01     0.05"
      ]
     },
     "execution_count": 41,
     "metadata": {},
     "output_type": "execute_result"
    }
   ],
   "source": [
    "# Set rates per galaxy in Gyr^{-1} at fiducial redshift\n",
    "rates = pd.DataFrame(index='to ' + states, columns='from ' + states,\n",
    "                     data=np.zeros((3, 3)))\n",
    "rates['from BD']['to RD'] = 0.01\n",
    "rates['from RD']['to RE'] = 0.01\n",
    "rates['from BD']['to RE'] = 0.01\n",
    "rates['from RE']['to RE']=.05\n",
    "#for s in states:\n",
    "#    rates['from ' + s]['to ' + s] = 0\n",
    "#    rates['from ' + s]['to ' + s] = - rates['from ' + s].sum()\n",
    "rates"
   ]
  },
  {
   "cell_type": "code",
   "execution_count": 54,
   "metadata": {
    "collapsed": true
   },
   "outputs": [],
   "source": [
    "def rate_matrx(rates,m,t):\n",
    "    #create matrix using rates to reproduce differential equations when dotted with vector N0\n",
    "    rate_mtrx = pd.DataFrame(data=np.zeros((3, 3)))\n",
    "    a_s = -1.4 \n",
    "    M_star = 10.82\n",
    "    rate_mtrx[0][0] = rates['from BD']['to RD'] - rates['from BD']['to RE'] - alpha(a_s,M_star,m)*sSFR(t)\n",
    "    rate_mtrx[0][1] = rates['from BD']['to RD']\n",
    "    rate_mtrx[0][2] = rates['from BD']['to RE']\n",
    "    rate_mtrx[1][2] = rates['from RD']['to RE']\n",
    "    rate_mtrx[2][2] = .5*rates['from RE']['to RE']\n",
    "    return rate_mtrx"
   ]
  },
  {
   "cell_type": "code",
   "execution_count": 55,
   "metadata": {
    "collapsed": true
   },
   "outputs": [],
   "source": [
    "def model(N, t, rates, rate_matrix_fn, m):\n",
    "    rate_mtrx = rate_matrix_fn(rates,m,t)\n",
    "    return np.dot(rate_mtrx, N)"
   ]
  },
  {
   "cell_type": "code",
   "execution_count": 43,
   "metadata": {
    "collapsed": false
   },
   "outputs": [
    {
     "data": {
      "text/plain": [
       "BD    0.213519\n",
       "RD    0.215441\n",
       "RE    0.571040\n",
       "dtype: float64"
      ]
     },
     "execution_count": 43,
     "metadata": {},
     "output_type": "execute_result"
    }
   ],
   "source": [
    "# initial relative number densities\n",
    "# for log(M*/Msun) ~ 10.5, starting with f_{R|D} ~ 0.05 and f_{D|R} ~ 0.1 at z ~ 1\n",
    "N0 = pd.Series(index=states, data=[bd[0], rd[0], re[0]])\n",
    "N0 /= N0.sum()  # normalise to unity\n",
    "N0"
   ]
  },
  {
   "cell_type": "code",
   "execution_count": 44,
   "metadata": {
    "collapsed": true
   },
   "outputs": [],
   "source": [
    "# redshifts and times to evaluate\n",
    "zstart = 1.0\n",
    "zend = 0.3\n",
    "z = np.linspace(zstart, zend, 100)\n",
    "t = C.age(z)\n",
    "t0 = C.age(zend).value\n",
    "m=11"
   ]
  },
  {
   "cell_type": "code",
   "execution_count": 59,
   "metadata": {
    "collapsed": false
   },
   "outputs": [],
   "source": [
    "N = odeint(model, N0, t, args=(rates, rate_matrix, m))"
   ]
  },
  {
   "cell_type": "code",
   "execution_count": 60,
   "metadata": {
    "collapsed": true
   },
   "outputs": [],
   "source": [
    "N = pd.DataFrame(index=z, columns='$N_{' + states + '}$', data=N)\n",
    "N = N[::-1] #number evolution of BD,RD,RE"
   ]
  },
  {
   "cell_type": "code",
   "execution_count": 61,
   "metadata": {
    "collapsed": false
   },
   "outputs": [],
   "source": [
    "F = pd.DataFrame(index=N.index) #evolution of fractions\n",
    "F['$f_{R|D}$'] = N['$N_{RD}$'] / (N['$N_{RD}$'] + N['$N_{BD}$'])\n",
    "F['$f_{D|R}$'] = N['$N_{RD}$'] / (N['$N_{RD}$'] + N['$N_{RE}$'])\n"
   ]
  },
  {
   "cell_type": "code",
   "execution_count": 39,
   "metadata": {
    "collapsed": false
   },
   "outputs": [],
   "source": [
    "def plot_NF(N, F):\n",
    "    fig, (axN, axF) = plt.subplots(1, 2, figsize=(12, 6))\n",
    "    N.plot(ax=axN)\n",
    "    axN.set(xlabel='$z$', ylabel='$N(z)/N(z={:.1f})$'.format(zstart), ylim=(0, 1));\n",
    "    F.plot(ax=axF)\n",
    "    axF.set(xlabel='$z$', ylabel='$f(z)$', ylim=(0, 0.4));\n",
    "    plt.tight_layout()"
   ]
  },
  {
   "cell_type": "code",
   "execution_count": 62,
   "metadata": {
    "collapsed": false
   },
   "outputs": [
    {
     "data": {
      "image/png": "[encoded data removed]",
      "text/plain": [
       "<matplotlib.figure.Figure at 0x7f4ef515b710>"
      ]
     },
     "metadata": {},
     "output_type": "display_data"
    }
   ],
   "source": [
    "plot_NF(N, F)\n"
   ]
  },
  {
   "cell_type": "code",
   "execution_count": 194,
   "metadata": {
    "collapsed": false
   },
   "outputs": [
    {
     "data": {
      "text/plain": [
       "array([-0.01919427,  0.00940951,  0.00978477])"
      ]
     },
     "execution_count": 194,
     "metadata": {},
     "output_type": "execute_result"
    }
   ],
   "source": [
    "np.dot(rates,N0/N0.sum())"
   ]
  },
  {
   "cell_type": "code",
   "execution_count": 180,
   "metadata": {
    "collapsed": false
   },
   "outputs": [
    {
     "data": {
      "text/plain": [
       "BD    898.151781\n",
       "RD     17.559410\n",
       "RE     20.142848\n",
       "dtype: float64"
      ]
     },
     "execution_count": 180,
     "metadata": {},
     "output_type": "execute_result"
    }
   ],
   "source": [
    "N0"
   ]
  },
  {
   "cell_type": "raw",
   "metadata": {
    "collapsed": false
   },
   "source": [
    "N0"
   ]
  },
  {
   "cell_type": "code",
   "execution_count": 191,
   "metadata": {
    "collapsed": false
   },
   "outputs": [
    {
     "data": {
      "text/html": [
       "<div>\n",
       "<table border=\"1\" class=\"dataframe\">\n",
       "  <thead>\n",
       "    <tr style=\"text-align: right;\">\n",
       "      <th></th>\n",
       "      <th>from BD</th>\n",
       "      <th>from RD</th>\n",
       "      <th>from RE</th>\n",
       "    </tr>\n",
       "  </thead>\n",
       "  <tbody>\n",
       "    <tr>\n",
       "      <th>to BD</th>\n",
       "      <td>-0.02</td>\n",
       "      <td>0.00</td>\n",
       "      <td>0</td>\n",
       "    </tr>\n",
       "    <tr>\n",
       "      <th>to RD</th>\n",
       "      <td>0.01</td>\n",
       "      <td>-0.01</td>\n",
       "      <td>0</td>\n",
       "    </tr>\n",
       "    <tr>\n",
       "      <th>to RE</th>\n",
       "      <td>0.01</td>\n",
       "      <td>0.01</td>\n",
       "      <td>-0</td>\n",
       "    </tr>\n",
       "  </tbody>\n",
       "</table>\n",
       "</div>"
      ],
      "text/plain": [
       "       from BD  from RD  from RE\n",
       "to BD    -0.02     0.00        0\n",
       "to RD     0.01    -0.01        0\n",
       "to RE     0.01     0.01       -0"
      ]
     },
     "execution_count": 191,
     "metadata": {},
     "output_type": "execute_result"
    }
   ],
   "source": [
    "rates"
   ]
  },
  {
   "cell_type": "code",
   "execution_count": 193,
   "metadata": {
    "collapsed": false
   },
   "outputs": [
    {
     "data": {
      "text/plain": [
       "BD    0.959714\n",
       "RD    0.018763\n",
       "RE    0.021523\n",
       "dtype: float64"
      ]
     },
     "execution_count": 193,
     "metadata": {},
     "output_type": "execute_result"
    }
   ],
   "source": [
    "N0/N0.sum()"
   ]
  },
  {
   "cell_type": "code",
   "execution_count": null,
   "metadata": {
    "collapsed": false
   },
   "outputs": [],
   "source": []
  },
  {
   "cell_type": "code",
   "execution_count": null,
   "metadata": {
    "collapsed": false
   },
   "outputs": [],
   "source": []
  },
  {
   "cell_type": "code",
   "execution_count": null,
   "metadata": {
    "collapsed": false
   },
   "outputs": [],
   "source": [
    "\n"
   ]
  },
  {
   "cell_type": "code",
   "execution_count": null,
   "metadata": {
    "collapsed": true
   },
   "outputs": [],
   "source": []
  }
 ],
 "metadata": {
  "kernelspec": {
   "display_name": "Python 2",
   "language": "python",
   "name": "python2"
  },
  "language_info": {
   "codemirror_mode": {
    "name": "ipython",
    "version": 2
   },
   "file_extension": ".py",
   "mimetype": "text/x-python",
   "name": "python",
   "nbconvert_exporter": "python",
   "pygments_lexer": "ipython2",
   "version": "2.7.6"
  }
 },
 "nbformat": 4,
 "nbformat_minor": 0
}

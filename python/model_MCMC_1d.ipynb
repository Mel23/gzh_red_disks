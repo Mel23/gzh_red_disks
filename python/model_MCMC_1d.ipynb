{
 "cells": [
  {
   "cell_type": "code",
   "execution_count": 8,
   "metadata": {
    "collapsed": true
   },
   "outputs": [],
   "source": [
    "from matplotlib import pyplot as plt\n",
    "import pandas as pd\n",
    "from scipy.integrate import odeint\n",
    "from astropy import cosmology\n",
    "from IPython.display import Image\n",
    "import numpy as np\n",
    "%matplotlib inline\n",
    "# better-looking plots\n",
    "plt.rcParams['font.family'] = 'serif'\n",
    "plt.rcParams['figure.figsize'] = (10.0, 8.0)\n",
    "plt.rcParams['font.size'] = 12\n",
    "import pickle\n",
    "C =cosmology.Planck15"
   ]
  },
  {
   "cell_type": "code",
   "execution_count": 3,
   "metadata": {
    "collapsed": true
   },
   "outputs": [],
   "source": [
    "states = pd.Index(('BD', 'RD', 'RE')) #only considering blue disks, red disks, red ellipticals\n"
   ]
  },
  {
   "cell_type": "code",
   "execution_count": 53,
   "metadata": {
    "collapsed": false
   },
   "outputs": [
    {
     "data": {
      "text/html": [
       "<div>\n",
       "<table border=\"1\" class=\"dataframe\">\n",
       "  <thead>\n",
       "    <tr style=\"text-align: right;\">\n",
       "      <th></th>\n",
       "      <th>from BD</th>\n",
       "      <th>from RD</th>\n",
       "      <th>from RE</th>\n",
       "    </tr>\n",
       "  </thead>\n",
       "  <tbody>\n",
       "    <tr>\n",
       "      <th>to BD</th>\n",
       "      <td>-0.02</td>\n",
       "      <td>0.00</td>\n",
       "      <td>0.00</td>\n",
       "    </tr>\n",
       "    <tr>\n",
       "      <th>to RD</th>\n",
       "      <td>0.01</td>\n",
       "      <td>-0.01</td>\n",
       "      <td>0.00</td>\n",
       "    </tr>\n",
       "    <tr>\n",
       "      <th>to RE</th>\n",
       "      <td>0.01</td>\n",
       "      <td>0.01</td>\n",
       "      <td>0.05</td>\n",
       "    </tr>\n",
       "  </tbody>\n",
       "</table>\n",
       "</div>"
      ],
      "text/plain": [
       "       from BD  from RD  from RE\n",
       "to BD    -0.02     0.00     0.00\n",
       "to RD     0.01    -0.01     0.00\n",
       "to RE     0.01     0.01     0.05"
      ]
     },
     "execution_count": 53,
     "metadata": {},
     "output_type": "execute_result"
    }
   ],
   "source": [
    "# Set rates per galaxy in Gyr^{-1} at fiducial redshift\n",
    "rates = pd.DataFrame(index='to ' + states, columns='from ' + states,\n",
    "                     data=np.zeros((3, 3)))\n",
    "rates['from BD']['to RD'] = 0.01\n",
    "rates['from RD']['to RE'] = 0.01\n",
    "rates['from BD']['to RE'] = 0.01\n",
    "rates['from RE']['to RE']=.05\n",
    "for s in states:\n",
    "    rates['from ' + s]['to ' + s] = 0\n",
    "    rates['from ' + s]['to ' + s] = - rates['from ' + s].sum()\n",
    "rates\n",
    "rates['from RE']['to RE']=.05\n",
    "rates"
   ]
  },
  {
   "cell_type": "code",
   "execution_count": 88,
   "metadata": {
    "collapsed": true
   },
   "outputs": [],
   "source": [
    "def alpha(a_s,M_star,m):\n",
    "    alpha = (1+a_s) - m/M_star\n",
    "    return alpha\n",
    "def sSFR(t):\n",
    "    sSFR = 2.5*(t/3.5)**(-2.2)\n",
    "    return sSFR\n",
    "def rate_matrix(rates,m,t):\n",
    "    #create matrix using rates to reproduce differential equations when dotted with vector N0\n",
    "    rate_mtrx = pd.DataFrame(data=np.zeros((3, 3)))\n",
    "    a_s = -1.4 \n",
    "    M_star = 10.82\n",
    "    rate_mtrx[0][0] = -rates['from BD']['to RD'] - rates['from BD']['to RE'] - alpha(a_s,M_star,m)*sSFR(t)\n",
    "    rate_mtrx[0][1] = rates['from BD']['to RD']\n",
    "    rate_mtrx[0][2] = rates['from BD']['to RE']\n",
    "    rate_mtrx[1][2] = rates['from RD']['to RE']\n",
    "    rate_mtrx[2][2] = .5*rates['from RE']['to RE']\n",
    "    return rate_mtrx\n",
    "def plot_NF(F_RD,F_DR):\n",
    "    colors = '#54235c'\n",
    "    fig, (axrd, axdr) = plt.subplots(1, 2, figsize=(12, 6))\n",
    "    F_RD.plot(ax=axrd,colors=colors,lw=2)\n",
    "    axrd.set(xlabel='$z$', ylabel='$f_{R|D}(z)$', ylim=(0, .4));\n",
    "    F_DR.plot(ax=axdr,colors=colors,lw=2)\n",
    "    axdr.set(xlabel='$z$')\n",
    "    axdr.set(ylabel='$f_{D|R}(z)$', ylim=(0, 0.4));\n",
    "    plt.tight_layout()\n",
    "def find_nearest(array,value):\n",
    "    idx = (np.abs(array-value)).argmin()\n",
    "    return array[idx]\n"
   ]
  },
  {
   "cell_type": "code",
   "execution_count": 50,
   "metadata": {
    "collapsed": true
   },
   "outputs": [],
   "source": [
    "def modelrates(N, t, rates, rate_matrix_fn, m):\n",
    "    rate_mtrx = rate_matrix_fn(rates,m,t)\n",
    "    return np.dot(rate_mtrx, N)"
   ]
  },
  {
   "cell_type": "code",
   "execution_count": 12,
   "metadata": {
    "collapsed": false
   },
   "outputs": [],
   "source": [
    "with open('results.pickle', 'rb') as handle:\n",
    "    results = pickle.load(handle)\n",
    "m_edges = [10.1,10.4,10.7,11,11.3]\n",
    "m_centers = [(m_edges[i]+m_edges[i+1])/2. for i in range(0,len(m_edges)-1)]\n"
   ]
  },
  {
   "cell_type": "code",
   "execution_count": 99,
   "metadata": {
    "collapsed": true
   },
   "outputs": [],
   "source": [
    "N0=pd.Series(index=states)\n",
    "N0['BD'] = results['M={}'.format(m_centers[3])]['N_BD'][3]\n",
    "N0['RD'] = results['M={}'.format(m_centers[3])]['N_RD'][3]\n",
    "N0['RE'] = results['M={}'.format(m_centers[3])]['N_RE'][3]"
   ]
  },
  {
   "cell_type": "code",
   "execution_count": 100,
   "metadata": {
    "collapsed": false
   },
   "outputs": [],
   "source": [
    "zstart = 1.0\n",
    "zend = 0.3\n",
    "z = np.linspace(zstart, zend, 100)\n",
    "t = C.age(z)\n",
    "t0 = C.age(zend).value\n",
    "m=m_centers[3]"
   ]
  },
  {
   "cell_type": "code",
   "execution_count": 101,
   "metadata": {
    "collapsed": true
   },
   "outputs": [],
   "source": [
    "N = odeint(modelrates, N0, t, args=(rates, rate_matrix, m))"
   ]
  },
  {
   "cell_type": "code",
   "execution_count": 102,
   "metadata": {
    "collapsed": false
   },
   "outputs": [],
   "source": [
    "N = pd.DataFrame(index=z, columns='$N_{' + states + '}$', data=N)\n",
    "N = N[::-1] #number evolution of BD,RD,RE"
   ]
  },
  {
   "cell_type": "code",
   "execution_count": 103,
   "metadata": {
    "collapsed": true
   },
   "outputs": [],
   "source": [
    "F_RD = pd.DataFrame(index=N.index) #evolution of fractions\n",
    "F_DR = pd.DataFrame(index=N.index) #evolution of fractions\n",
    "F_RD = N['$N_{RD}$'] / (N['$N_{RD}$'] + N['$N_{BD}$'])\n",
    "F_DR = N['$N_{RD}$'] / (N['$N_{RD}$'] + N['$N_{RE}$'])\n"
   ]
  },
  {
   "cell_type": "code",
   "execution_count": 104,
   "metadata": {
    "collapsed": false
   },
   "outputs": [
    {
     "data": {
      "image/png": "[encoded data removed]",
      "text/plain": [
       "<matplotlib.figure.Figure at 0x7f77a1758f50>"
      ]
     },
     "metadata": {},
     "output_type": "display_data"
    }
   ],
   "source": [
    "plot_NF(F_RD,F_DR)"
   ]
  },
  {
   "cell_type": "code",
   "execution_count": 60,
   "metadata": {
    "collapsed": true
   },
   "outputs": [],
   "source": [
    "#centers of bins where f_rid and f_dir are evaluated in the data\n",
    "z_centers = [0.3125, 0.53750000000000009, 0.76250000000000007, 0.98750000000000004]\n",
    "z_centers = [round(z,2) for z in z_centers]\n"
   ]
  },
  {
   "cell_type": "markdown",
   "metadata": {},
   "source": [
    "## MCMC 1-D attempt"
   ]
  },
  {
   "cell_type": "code",
   "execution_count": 197,
   "metadata": {
    "collapsed": false
   },
   "outputs": [],
   "source": [
    "#\"real\" data\n",
    "x=np.array(z_centers+z_centers) #observed redshifts X 2 \n",
    "y=np.array(results['M=%s'%m_centers[3]]['f_RID']+results['M=%s'%m_centers[3]]['f_DIR']) #observed f_RD, f_DR at observed redshifts\n",
    "yerr = np.array(results['M=%s'%m_centers[3]]['f_RID_err']+results['M=%s'%m_centers[3]]['f_DIR_err'])\n",
    "model_z = [find_nearest(z,i) for i in z_centers] #closest redshift in model to observed redshift values"
   ]
  },
  {
   "cell_type": "code",
   "execution_count": 206,
   "metadata": {
    "collapsed": false
   },
   "outputs": [],
   "source": [
    "#log likelihood function\n",
    "def lnlike(theta, x, y, yerr):\n",
    "    bd_rd, bd_re, rd_re, lnf = theta #rate parameters \n",
    "    rates = pd.DataFrame(index='to ' + states, columns='from ' + states,\n",
    "                     data=np.zeros((3, 3)))\n",
    "    rates['from BD']['to RD'] = bd_rd\n",
    "    rates['from RD']['to RE'] = rd_re\n",
    "    rates['from BD']['to RE'] = bd_re\n",
    "\n",
    "    N = odeint(modelrates, N0, t, args=(rates, rate_matrix, m))\n",
    "    N = pd.DataFrame(index=z, columns='$N_{' + states + '}$', data=N)\n",
    "    N = N[::-1] #number evolution of BD,RD,RE\n",
    "    F_RD = pd.DataFrame(index=N.index) #evolution of fractions\n",
    "    F_DR = pd.DataFrame(index=N.index) #evolution of fractions\n",
    "    F_RD = N['$N_{RD}$'] / (N['$N_{RD}$'] + N['$N_{BD}$'])\n",
    "    F_DR = N['$N_{RD}$'] / (N['$N_{RD}$'] + N['$N_{RE}$'])\n",
    "    \n",
    "    model_f_rid = [F_RD[i] for i in model_z]\n",
    "    model_f_dir = [F_DR[i] for i in model_z]\n",
    "    \n",
    "    model = np.array(model_f_rid + model_f_dir) #model values of f_RD and f_DR at 4 redshifts\n",
    "    inv_sigma2 = 1.0/(yerr**2 + model**2*np.exp(2*lnf))\n",
    "    return -0.5*(np.sum((y-model)**2*inv_sigma2 - np.log(inv_sigma2)))\n"
   ]
  },
  {
   "cell_type": "code",
   "execution_count": 199,
   "metadata": {
    "collapsed": true
   },
   "outputs": [],
   "source": [
    "#prior -restrictions on m \n",
    "def lnprior(theta):\n",
    "    bd_rd, bd_re, rd_re, lnf = theta\n",
    "    if .01 < bd_rd < .1 and .01 < bd_re < .1 and .01 < rd_re < .1 -10.0 < lnf < 1.0:\n",
    "        return 0.0\n",
    "    return -np.inf\n"
   ]
  },
  {
   "cell_type": "code",
   "execution_count": 200,
   "metadata": {
    "collapsed": true
   },
   "outputs": [],
   "source": [
    "#check that parameters fit within lnprior bounds; if not, return np.inf, if is, return lnlike(theta,x,y,yerr) (why +lp???)\n",
    "def lnprob(theta, x, y, yerr):\n",
    "    lp = lnprior(theta)\n",
    "    if not np.isfinite(lp):\n",
    "        return -np.inf\n",
    "    return lp + lnlike(theta, x, y, yerr)\n"
   ]
  },
  {
   "cell_type": "code",
   "execution_count": 218,
   "metadata": {
    "collapsed": true
   },
   "outputs": [],
   "source": [
    "ndim, nwalkers = 4, 100\n",
    "pos = [np.array([.05,.05,.05,.1]) + .01*np.random.randn(ndim) for i in range(nwalkers)] #choosing starting locations at random guess .05 for each rate\n"
   ]
  },
  {
   "cell_type": "code",
   "execution_count": 219,
   "metadata": {
    "collapsed": false
   },
   "outputs": [],
   "source": [
    "sampler = emcee.EnsembleSampler(nwalkers, ndim, lnprob, args=(x, y, yerr))\n"
   ]
  },
  {
   "cell_type": "code",
   "execution_count": 220,
   "metadata": {
    "collapsed": false
   },
   "outputs": [],
   "source": [
    "sampler.run_mcmc(pos, 500);\n"
   ]
  },
  {
   "cell_type": "code",
   "execution_count": 221,
   "metadata": {
    "collapsed": false
   },
   "outputs": [
    {
     "data": {
      "text/plain": [
       "<matplotlib.text.Text at 0x7f779b697b10>"
      ]
     },
     "execution_count": 221,
     "metadata": {},
     "output_type": "execute_result"
    },
    {
     "data": {
      "image/png": "[encoded data removed]",
      "text/plain": [
       "<matplotlib.figure.Figure at 0x7f779be7a210>"
      ]
     },
     "metadata": {},
     "output_type": "display_data"
    }
   ],
   "source": [
    "xp=np.linspace(1,500,500)\n",
    "\n",
    "f=plt.figure(figsize=(20,5))\n",
    "ax=plt.subplot(131)\n",
    "for i in range(0,100):\n",
    "    plt.plot(xp,sampler.chain[i,:,0])\n",
    "plt.title('bd_rd',fontsize=20)\n",
    "ax=plt.subplot(132)\n",
    "for i in range(0,100):\n",
    "    plt.plot(xp,sampler.chain[i,:,1])\n",
    "plt.title('bd_re',fontsize=20)\n",
    "ax=plt.subplot(133)\n",
    "for i in range(0,100):\n",
    "    plt.plot(xp,sampler.chain[i,:,2])\n",
    "plt.title('rd_re',fontsize=20)"
   ]
  },
  {
   "cell_type": "code",
   "execution_count": 207,
   "metadata": {
    "collapsed": false
   },
   "outputs": [
    {
     "name": "stderr",
     "output_type": "stream",
     "text": [
      "/usr/local/lib/python2.7/dist-packages/scipy/integrate/odepack.py:156: ODEintWarning: Excess work done on this call (perhaps wrong Dfun type). Run with full_output = 1 to get quantitative information.\n",
      "  warnings.warn(warning_msg, ODEintWarning)\n"
     ]
    }
   ],
   "source": [
    "import scipy.optimize as op\n",
    "nll = lambda *args: -lnlike(*args)\n",
    "result = op.minimize(nll, [.01, .01,.01, np.log(.1)], args=(x, y, yerr))\n"
   ]
  },
  {
   "cell_type": "code",
   "execution_count": 217,
   "metadata": {
    "collapsed": false
   },
   "outputs": [
    {
     "data": {
      "text/plain": [
       "array([ -1.94672327e+09,  -2.08007713e+09,  -2.08994664e+09,\n",
       "        -2.09250497e+09])"
      ]
     },
     "execution_count": 217,
     "metadata": {},
     "output_type": "execute_result"
    }
   ],
   "source": [
    "result[\"x\"]"
   ]
  },
  {
   "cell_type": "code",
   "execution_count": null,
   "metadata": {
    "collapsed": true
   },
   "outputs": [],
   "source": []
  }
 ],
 "metadata": {
  "kernelspec": {
   "display_name": "Python 2",
   "language": "python",
   "name": "python2"
  },
  "language_info": {
   "codemirror_mode": {
    "name": "ipython",
    "version": 2
   },
   "file_extension": ".py",
   "mimetype": "text/x-python",
   "name": "python",
   "nbconvert_exporter": "python",
   "pygments_lexer": "ipython2",
   "version": "2.7.6"
  }
 },
 "nbformat": 4,
 "nbformat_minor": 0
}
